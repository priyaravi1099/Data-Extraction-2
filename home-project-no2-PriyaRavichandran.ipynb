{
 "cells": [
  {
   "cell_type": "code",
   "execution_count": 2,
   "id": "a006721d",
   "metadata": {},
   "outputs": [],
   "source": [
    "from random import randint\n",
    "from time import sleep\n",
    "import requests\n",
    "from bs4 import BeautifulSoup as soup\n",
    "import pandas as pd\n",
    "import numpy as np"
   ]
  },
  {
   "cell_type": "markdown",
   "id": "4e378f57",
   "metadata": {},
   "source": [
    "# CODE SNIPPET FOR EXTRACTING DATA FROM 181 WEBPAGES OF LIBRARY JOURNAL WEBSITE USING BEAUTIFULSOUP"
   ]
  },
  {
   "cell_type": "code",
   "execution_count": 63,
   "id": "9e758b00",
   "metadata": {
    "scrolled": true
   },
   "outputs": [
    {
     "name": "stdout",
     "output_type": "stream",
     "text": [
      "Page_Size 1\n",
      "Page_Size 2\n",
      "Page_Size 3\n",
      "Page_Size 4\n",
      "Page_Size 5\n",
      "Page_Size 6\n",
      "Page_Size 7\n",
      "Page_Size 8\n",
      "Page_Size 9\n",
      "Page_Size 10\n",
      "Page_Size 11\n",
      "Page_Size 12\n",
      "Page_Size 13\n",
      "Page_Size 14\n",
      "Page_Size 15\n",
      "Page_Size 16\n",
      "Page_Size 17\n",
      "Page_Size 18\n",
      "Page_Size 19\n",
      "Page_Size 20\n",
      "Page_Size 21\n",
      "Page_Size 22\n",
      "Page_Size 23\n",
      "Page_Size 24\n",
      "Page_Size 25\n",
      "Page_Size 26\n",
      "Page_Size 27\n",
      "Page_Size 28\n",
      "Page_Size 29\n",
      "Page_Size 30\n",
      "Page_Size 31\n",
      "Page_Size 32\n",
      "Page_Size 33\n",
      "Page_Size 34\n",
      "Page_Size 35\n",
      "Page_Size 36\n",
      "Page_Size 37\n",
      "Page_Size 38\n",
      "Page_Size 39\n",
      "Page_Size 40\n",
      "Page_Size 41\n",
      "Page_Size 42\n",
      "Page_Size 43\n",
      "Page_Size 44\n",
      "Page_Size 45\n",
      "Page_Size 46\n",
      "Page_Size 47\n",
      "Page_Size 48\n",
      "Page_Size 49\n",
      "Page_Size 50\n",
      "Page_Size 51\n",
      "Page_Size 52\n",
      "Page_Size 53\n",
      "Page_Size 54\n",
      "Page_Size 55\n",
      "Page_Size 56\n",
      "Page_Size 57\n",
      "Page_Size 58\n",
      "Page_Size 59\n",
      "Page_Size 60\n",
      "Page_Size 61\n",
      "Page_Size 62\n",
      "Page_Size 63\n",
      "Page_Size 64\n",
      "Page_Size 65\n",
      "Page_Size 66\n",
      "Page_Size 67\n",
      "Page_Size 68\n",
      "Page_Size 69\n",
      "Page_Size 70\n",
      "Page_Size 71\n",
      "Page_Size 72\n",
      "Page_Size 73\n",
      "Page_Size 74\n",
      "Page_Size 75\n",
      "Page_Size 76\n",
      "Page_Size 77\n",
      "Page_Size 78\n",
      "Page_Size 79\n",
      "Page_Size 80\n",
      "Page_Size 81\n",
      "Page_Size 82\n",
      "Page_Size 83\n",
      "Page_Size 84\n",
      "Page_Size 85\n",
      "Page_Size 86\n",
      "Page_Size 87\n",
      "Page_Size 88\n",
      "Page_Size 89\n",
      "Page_Size 90\n",
      "Page_Size 91\n",
      "Page_Size 92\n",
      "Page_Size 93\n",
      "Page_Size 94\n",
      "Page_Size 95\n",
      "Page_Size 96\n",
      "Page_Size 97\n",
      "Page_Size 98\n",
      "Page_Size 99\n",
      "Page_Size 100\n",
      "Page_Size 101\n",
      "Page_Size 102\n",
      "Page_Size 103\n",
      "Page_Size 104\n",
      "Page_Size 105\n",
      "Page_Size 106\n",
      "Page_Size 107\n",
      "Page_Size 108\n",
      "Page_Size 109\n",
      "Page_Size 110\n",
      "Page_Size 111\n",
      "Page_Size 112\n",
      "Page_Size 113\n",
      "Page_Size 114\n",
      "Page_Size 115\n",
      "Page_Size 116\n",
      "Page_Size 117\n",
      "Page_Size 118\n",
      "Page_Size 119\n",
      "Page_Size 120\n",
      "Page_Size 121\n",
      "Page_Size 122\n",
      "Page_Size 123\n",
      "Page_Size 124\n",
      "Page_Size 125\n",
      "Page_Size 126\n",
      "Page_Size 127\n",
      "Page_Size 128\n",
      "Page_Size 129\n",
      "Page_Size 130\n",
      "Page_Size 131\n",
      "Page_Size 132\n",
      "Page_Size 133\n",
      "Page_Size 134\n",
      "Page_Size 135\n",
      "Page_Size 136\n",
      "Page_Size 137\n",
      "Page_Size 138\n",
      "Page_Size 139\n",
      "Page_Size 140\n",
      "Page_Size 141\n",
      "Page_Size 142\n",
      "Page_Size 143\n",
      "Page_Size 144\n",
      "Page_Size 145\n",
      "Page_Size 146\n",
      "Page_Size 147\n",
      "Page_Size 148\n",
      "Page_Size 149\n",
      "Page_Size 150\n",
      "Page_Size 151\n",
      "Page_Size 152\n",
      "Page_Size 153\n",
      "Page_Size 154\n",
      "Page_Size 155\n",
      "Page_Size 156\n",
      "Page_Size 157\n",
      "Page_Size 158\n",
      "Page_Size 159\n",
      "Page_Size 160\n",
      "Page_Size 161\n",
      "Page_Size 162\n",
      "Page_Size 163\n",
      "Page_Size 164\n",
      "Page_Size 165\n",
      "Page_Size 166\n",
      "Page_Size 167\n",
      "Page_Size 168\n",
      "Page_Size 169\n",
      "Page_Size 170\n",
      "Page_Size 171\n",
      "Page_Size 172\n",
      "Page_Size 173\n",
      "Page_Size 174\n",
      "Page_Size 175\n",
      "Page_Size 176\n",
      "Page_Size 177\n",
      "Page_Size 178\n",
      "Page_Size 179\n"
     ]
    }
   ],
   "source": [
    "link=\"https://www.libraryjournal.com/section/technology?&page_number={}\"\n",
    "article_title_list=[]\n",
    "published_date_list=[]\n",
    "description_list=[]\n",
    "for i in range(1,180,1):\n",
    "    headers = {'User-Agent':'Mozilla/5.0 (Windows NT 10.0; WOW64) AppleWebKit/537.36 (KHTML, like Gecko) Chrome/83.0.4103.97 Safari/537.36'}\n",
    "    html = requests.get(link.format(i),headers=headers)\n",
    "    print('Page_Size', i)\n",
    "    sleep(randint(1,5))\n",
    "    bsobj = soup(html.content,'lxml')\n",
    "    for article_title in bsobj.findAll('div',{'class':'col-md-9 col-sm-9 col-xs-8 article-headline pl_0 pr_0 mt_0'}):\n",
    "        article_title_list.append(article_title.text.strip())\n",
    "    for published_date in bsobj.findAll('div',{'class':'byline-detail col-sm-offset-0 pl_0 pr_0 mb_20'}):\n",
    "        published_date_list.append((re.findall('\\d{4}',published_date.text.strip())))\n",
    "    for description in bsobj.findAll('div',{'class':'recommended-description mb_10'}):\n",
    "        description_list.append(description.text.strip())"
   ]
  },
  {
   "cell_type": "code",
   "execution_count": 64,
   "id": "c286061a",
   "metadata": {},
   "outputs": [],
   "source": [
    "article_title_df=pd.DataFrame({'Title': article_title_list})\n",
    "published_year_df =pd.DataFrame({'Published_year': published_date_list})\n",
    "description_df =pd.DataFrame({'Description': description_list})"
   ]
  },
  {
   "cell_type": "code",
   "execution_count": 66,
   "id": "70c77c9a",
   "metadata": {},
   "outputs": [],
   "source": [
    "removing_word = [\"PREMIUM\"]\n",
    "new_article_title_df=article_title_df[~article_title_df.Title.str.contains('|'.join(removing_word))]"
   ]
  },
  {
   "cell_type": "code",
   "execution_count": 68,
   "id": "f4343cfd",
   "metadata": {},
   "outputs": [
    {
     "data": {
      "text/html": [
       "<div>\n",
       "<style scoped>\n",
       "    .dataframe tbody tr th:only-of-type {\n",
       "        vertical-align: middle;\n",
       "    }\n",
       "\n",
       "    .dataframe tbody tr th {\n",
       "        vertical-align: top;\n",
       "    }\n",
       "\n",
       "    .dataframe thead th {\n",
       "        text-align: right;\n",
       "    }\n",
       "</style>\n",
       "<table border=\"1\" class=\"dataframe\">\n",
       "  <thead>\n",
       "    <tr style=\"text-align: right;\">\n",
       "      <th></th>\n",
       "      <th>Title</th>\n",
       "      <th>Published_year</th>\n",
       "      <th>Description</th>\n",
       "    </tr>\n",
       "  </thead>\n",
       "  <tbody>\n",
       "    <tr>\n",
       "      <th>0</th>\n",
       "      <td>Hiveclass Rolls Out Youth Sports Training Digi...</td>\n",
       "      <td>[2022]</td>\n",
       "      <td>Hiveclass, a startup company building a “digit...</td>\n",
       "    </tr>\n",
       "    <tr>\n",
       "      <th>1</th>\n",
       "      <td>Academic Movers Q&amp;A: Elisandro Cabada on Using...</td>\n",
       "      <td>[2022]</td>\n",
       "      <td>Elisandro Cabada has worn many hats during his...</td>\n",
       "    </tr>\n",
       "    <tr>\n",
       "      <th>5</th>\n",
       "      <td>Digital Literacy: Skills &amp; Strategies</td>\n",
       "      <td>[]</td>\n",
       "      <td>The National Digital Inclusion Alliance (NDIA)...</td>\n",
       "    </tr>\n",
       "    <tr>\n",
       "      <th>6</th>\n",
       "      <td>Brooklyn’s Books Unbanned Continues to Grow</td>\n",
       "      <td>[2022]</td>\n",
       "      <td>On August 25, the White House Office of Scienc...</td>\n",
       "    </tr>\n",
       "    <tr>\n",
       "      <th>7</th>\n",
       "      <td>Beyond Collections: How Some Libraries are See...</td>\n",
       "      <td>[2022]</td>\n",
       "      <td>Higher ed nonprofit ITHAKA announced on August...</td>\n",
       "    </tr>\n",
       "    <tr>\n",
       "      <th>...</th>\n",
       "      <td>...</td>\n",
       "      <td>...</td>\n",
       "      <td>...</td>\n",
       "    </tr>\n",
       "    <tr>\n",
       "      <th>272</th>\n",
       "      <td>NaN</td>\n",
       "      <td>[2018]</td>\n",
       "      <td>Following more than a year of preparation and ...</td>\n",
       "    </tr>\n",
       "    <tr>\n",
       "      <th>273</th>\n",
       "      <td>NaN</td>\n",
       "      <td>[2018]</td>\n",
       "      <td>What’s hot, what’s not, and how much does it c...</td>\n",
       "    </tr>\n",
       "    <tr>\n",
       "      <th>275</th>\n",
       "      <td>NaN</td>\n",
       "      <td>[2018]</td>\n",
       "      <td>Sterling Heights Public Library, MI, has been ...</td>\n",
       "    </tr>\n",
       "    <tr>\n",
       "      <th>368</th>\n",
       "      <td>NaN</td>\n",
       "      <td>[]</td>\n",
       "      <td>The University of Michigan Library (UM) has la...</td>\n",
       "    </tr>\n",
       "    <tr>\n",
       "      <th>369</th>\n",
       "      <td>NaN</td>\n",
       "      <td>[]</td>\n",
       "      <td>Academic database and streaming media publishe...</td>\n",
       "    </tr>\n",
       "  </tbody>\n",
       "</table>\n",
       "<p>1611 rows × 3 columns</p>\n",
       "</div>"
      ],
      "text/plain": [
       "                                                 Title Published_year  \\\n",
       "0    Hiveclass Rolls Out Youth Sports Training Digi...         [2022]   \n",
       "1    Academic Movers Q&A: Elisandro Cabada on Using...         [2022]   \n",
       "5                Digital Literacy: Skills & Strategies             []   \n",
       "6          Brooklyn’s Books Unbanned Continues to Grow         [2022]   \n",
       "7    Beyond Collections: How Some Libraries are See...         [2022]   \n",
       "..                                                 ...            ...   \n",
       "272                                                NaN         [2018]   \n",
       "273                                                NaN         [2018]   \n",
       "275                                                NaN         [2018]   \n",
       "368                                                NaN             []   \n",
       "369                                                NaN             []   \n",
       "\n",
       "                                           Description  \n",
       "0    Hiveclass, a startup company building a “digit...  \n",
       "1    Elisandro Cabada has worn many hats during his...  \n",
       "5    The National Digital Inclusion Alliance (NDIA)...  \n",
       "6    On August 25, the White House Office of Scienc...  \n",
       "7    Higher ed nonprofit ITHAKA announced on August...  \n",
       "..                                                 ...  \n",
       "272  Following more than a year of preparation and ...  \n",
       "273  What’s hot, what’s not, and how much does it c...  \n",
       "275  Sterling Heights Public Library, MI, has been ...  \n",
       "368  The University of Michigan Library (UM) has la...  \n",
       "369  Academic database and streaming media publishe...  \n",
       "\n",
       "[1611 rows x 3 columns]"
      ]
     },
     "execution_count": 68,
     "metadata": {},
     "output_type": "execute_result"
    }
   ],
   "source": [
    "technology_article_df = pd.concat([new_article_title_df,published_year_df,description_df], axis=\"columns\")\n",
    "technology_article_df"
   ]
  },
  {
   "cell_type": "code",
   "execution_count": 69,
   "id": "2a491c4d",
   "metadata": {},
   "outputs": [],
   "source": [
    "new_technology_article_df=technology_article_df.dropna()"
   ]
  },
  {
   "cell_type": "code",
   "execution_count": 73,
   "id": "2fabc15b",
   "metadata": {},
   "outputs": [
    {
     "data": {
      "text/html": [
       "<div>\n",
       "<style scoped>\n",
       "    .dataframe tbody tr th:only-of-type {\n",
       "        vertical-align: middle;\n",
       "    }\n",
       "\n",
       "    .dataframe tbody tr th {\n",
       "        vertical-align: top;\n",
       "    }\n",
       "\n",
       "    .dataframe thead th {\n",
       "        text-align: right;\n",
       "    }\n",
       "</style>\n",
       "<table border=\"1\" class=\"dataframe\">\n",
       "  <thead>\n",
       "    <tr style=\"text-align: right;\">\n",
       "      <th></th>\n",
       "      <th>Title</th>\n",
       "      <th>Published_year</th>\n",
       "      <th>Description</th>\n",
       "    </tr>\n",
       "  </thead>\n",
       "  <tbody>\n",
       "    <tr>\n",
       "      <th>0</th>\n",
       "      <td>Hiveclass Rolls Out Youth Sports Training Digi...</td>\n",
       "      <td>[2022]</td>\n",
       "      <td>Hiveclass, a startup company building a “digit...</td>\n",
       "    </tr>\n",
       "    <tr>\n",
       "      <th>1</th>\n",
       "      <td>Academic Movers Q&amp;A: Elisandro Cabada on Using...</td>\n",
       "      <td>[2022]</td>\n",
       "      <td>Elisandro Cabada has worn many hats during his...</td>\n",
       "    </tr>\n",
       "    <tr>\n",
       "      <th>5</th>\n",
       "      <td>Digital Literacy: Skills &amp; Strategies</td>\n",
       "      <td>[]</td>\n",
       "      <td>The National Digital Inclusion Alliance (NDIA)...</td>\n",
       "    </tr>\n",
       "    <tr>\n",
       "      <th>6</th>\n",
       "      <td>Brooklyn’s Books Unbanned Continues to Grow</td>\n",
       "      <td>[2022]</td>\n",
       "      <td>On August 25, the White House Office of Scienc...</td>\n",
       "    </tr>\n",
       "    <tr>\n",
       "      <th>7</th>\n",
       "      <td>Beyond Collections: How Some Libraries are See...</td>\n",
       "      <td>[2022]</td>\n",
       "      <td>Higher ed nonprofit ITHAKA announced on August...</td>\n",
       "    </tr>\n",
       "    <tr>\n",
       "      <th>...</th>\n",
       "      <td>...</td>\n",
       "      <td>...</td>\n",
       "      <td>...</td>\n",
       "    </tr>\n",
       "    <tr>\n",
       "      <th>1581</th>\n",
       "      <td>Podcast 1 2 3</td>\n",
       "      <td>[2007]</td>\n",
       "      <td></td>\n",
       "    </tr>\n",
       "    <tr>\n",
       "      <th>1582</th>\n",
       "      <td>Podcast 1 2 3</td>\n",
       "      <td>[2007]</td>\n",
       "      <td></td>\n",
       "    </tr>\n",
       "    <tr>\n",
       "      <th>1583</th>\n",
       "      <td>Google Scan Plan Expands, Gaining the 12 CIC U...</td>\n",
       "      <td>[2007]</td>\n",
       "      <td></td>\n",
       "    </tr>\n",
       "    <tr>\n",
       "      <th>1584</th>\n",
       "      <td>Google Scan Plan Expands, Gaining the 12 CIC U...</td>\n",
       "      <td>[2007]</td>\n",
       "      <td></td>\n",
       "    </tr>\n",
       "    <tr>\n",
       "      <th>1585</th>\n",
       "      <td>Imagine No Restrictions: Digital Rights Manage...</td>\n",
       "      <td>[2007]</td>\n",
       "      <td></td>\n",
       "    </tr>\n",
       "  </tbody>\n",
       "</table>\n",
       "<p>1557 rows × 3 columns</p>\n",
       "</div>"
      ],
      "text/plain": [
       "                                                  Title Published_year  \\\n",
       "0     Hiveclass Rolls Out Youth Sports Training Digi...         [2022]   \n",
       "1     Academic Movers Q&A: Elisandro Cabada on Using...         [2022]   \n",
       "5                 Digital Literacy: Skills & Strategies             []   \n",
       "6           Brooklyn’s Books Unbanned Continues to Grow         [2022]   \n",
       "7     Beyond Collections: How Some Libraries are See...         [2022]   \n",
       "...                                                 ...            ...   \n",
       "1581                                      Podcast 1 2 3         [2007]   \n",
       "1582                                      Podcast 1 2 3         [2007]   \n",
       "1583  Google Scan Plan Expands, Gaining the 12 CIC U...         [2007]   \n",
       "1584  Google Scan Plan Expands, Gaining the 12 CIC U...         [2007]   \n",
       "1585  Imagine No Restrictions: Digital Rights Manage...         [2007]   \n",
       "\n",
       "                                            Description  \n",
       "0     Hiveclass, a startup company building a “digit...  \n",
       "1     Elisandro Cabada has worn many hats during his...  \n",
       "5     The National Digital Inclusion Alliance (NDIA)...  \n",
       "6     On August 25, the White House Office of Scienc...  \n",
       "7     Higher ed nonprofit ITHAKA announced on August...  \n",
       "...                                                 ...  \n",
       "1581                                                     \n",
       "1582                                                     \n",
       "1583                                                     \n",
       "1584                                                     \n",
       "1585                                                     \n",
       "\n",
       "[1557 rows x 3 columns]"
      ]
     },
     "execution_count": 73,
     "metadata": {},
     "output_type": "execute_result"
    }
   ],
   "source": [
    "new_technology_article_df"
   ]
  },
  {
   "cell_type": "markdown",
   "id": "019bdf97",
   "metadata": {},
   "source": [
    "# TRANSFORMING DATA INTO STANDARD FORMAT APPLICABLE FOR TEXT PROCESSING AND ANALYZING"
   ]
  },
  {
   "cell_type": "code",
   "execution_count": 145,
   "id": "b57d42e9",
   "metadata": {},
   "outputs": [],
   "source": [
    "import re\n",
    "from cleantext import clean\n",
    "new_article_title_list_1=[]\n",
    "new_published_date_list=[]\n",
    "new_description_list=[]\n",
    "for title in article_title_list:\n",
    "    a=re.sub('[”|“|!|@|.|$|*|&|,|\"|\"|(|)|\\n|:|-]|[|\\|/|;|-|’]','',title)\n",
    "    new_article_title_list_1.append(a.strip())\n",
    "for year in published_date_list:\n",
    "    year=clean(year, no_emoji=True)\n",
    "    a=re.sub(\"\\[|\\]|'\",'',year)\n",
    "    new_published_date_list.append(a.strip())\n",
    "for description in description_list:\n",
    "    a=re.sub('[”|“|!|@|.|$|*|&|,|\"|\"|(|)|\\n|:|-]|[|\\|/|;|-|’]','',description)\n",
    "    new_description_list.append(a.strip())"
   ]
  },
  {
   "cell_type": "code",
   "execution_count": 147,
   "id": "8de437f4",
   "metadata": {},
   "outputs": [
    {
     "data": {
      "text/html": [
       "<div>\n",
       "<style scoped>\n",
       "    .dataframe tbody tr th:only-of-type {\n",
       "        vertical-align: middle;\n",
       "    }\n",
       "\n",
       "    .dataframe tbody tr th {\n",
       "        vertical-align: top;\n",
       "    }\n",
       "\n",
       "    .dataframe thead th {\n",
       "        text-align: right;\n",
       "    }\n",
       "</style>\n",
       "<table border=\"1\" class=\"dataframe\">\n",
       "  <thead>\n",
       "    <tr style=\"text-align: right;\">\n",
       "      <th></th>\n",
       "      <th>Title</th>\n",
       "      <th>Published_year</th>\n",
       "      <th>Description</th>\n",
       "    </tr>\n",
       "  </thead>\n",
       "  <tbody>\n",
       "    <tr>\n",
       "      <th>0</th>\n",
       "      <td>Hiveclass Rolls Out Youth Sports Training Digi...</td>\n",
       "      <td>2022</td>\n",
       "      <td>Hiveclass a startup company building a digital...</td>\n",
       "    </tr>\n",
       "    <tr>\n",
       "      <th>1</th>\n",
       "      <td>Academic Movers QA Elisandro Cabada on Using T...</td>\n",
       "      <td>2022</td>\n",
       "      <td>Elisandro Cabada has worn many hats during his...</td>\n",
       "    </tr>\n",
       "    <tr>\n",
       "      <th>2</th>\n",
       "      <td>PREMIUMAstrotopia The Dangerous Religion of th...</td>\n",
       "      <td></td>\n",
       "      <td>Since April Brooklyn Public Librarys BPL Books...</td>\n",
       "    </tr>\n",
       "    <tr>\n",
       "      <th>3</th>\n",
       "      <td>PREMIUMComputing Taste Algorithms and the Make...</td>\n",
       "      <td></td>\n",
       "      <td>If youre only concerned with basic collection ...</td>\n",
       "    </tr>\n",
       "    <tr>\n",
       "      <th>4</th>\n",
       "      <td>PREMIUMWriting the Revolution Wikipedia and th...</td>\n",
       "      <td></td>\n",
       "      <td>A growing number of libraries are beginning to...</td>\n",
       "    </tr>\n",
       "    <tr>\n",
       "      <th>...</th>\n",
       "      <td>...</td>\n",
       "      <td>...</td>\n",
       "      <td>...</td>\n",
       "    </tr>\n",
       "    <tr>\n",
       "      <th>1606</th>\n",
       "      <td>Online Databases  Trends from the Industry Per...</td>\n",
       "      <td>2002</td>\n",
       "      <td>NaN</td>\n",
       "    </tr>\n",
       "    <tr>\n",
       "      <th>1607</th>\n",
       "      <td>Online Databases  Sorting Through Online Systems</td>\n",
       "      <td>2002</td>\n",
       "      <td>NaN</td>\n",
       "    </tr>\n",
       "    <tr>\n",
       "      <th>1608</th>\n",
       "      <td>Online Databases  Ingenta Grows in the US Market</td>\n",
       "      <td>2002</td>\n",
       "      <td>NaN</td>\n",
       "    </tr>\n",
       "    <tr>\n",
       "      <th>1609</th>\n",
       "      <td>Online Databases  Information Today Stands Alone</td>\n",
       "      <td>2002</td>\n",
       "      <td>NaN</td>\n",
       "    </tr>\n",
       "    <tr>\n",
       "      <th>1610</th>\n",
       "      <td>Online Databases  Online in London at 25</td>\n",
       "      <td>2002</td>\n",
       "      <td>NaN</td>\n",
       "    </tr>\n",
       "  </tbody>\n",
       "</table>\n",
       "<p>1611 rows × 3 columns</p>\n",
       "</div>"
      ],
      "text/plain": [
       "                                                  Title Published_year  \\\n",
       "0     Hiveclass Rolls Out Youth Sports Training Digi...           2022   \n",
       "1     Academic Movers QA Elisandro Cabada on Using T...           2022   \n",
       "2     PREMIUMAstrotopia The Dangerous Religion of th...                  \n",
       "3     PREMIUMComputing Taste Algorithms and the Make...                  \n",
       "4     PREMIUMWriting the Revolution Wikipedia and th...                  \n",
       "...                                                 ...            ...   \n",
       "1606  Online Databases  Trends from the Industry Per...           2002   \n",
       "1607   Online Databases  Sorting Through Online Systems           2002   \n",
       "1608   Online Databases  Ingenta Grows in the US Market           2002   \n",
       "1609   Online Databases  Information Today Stands Alone           2002   \n",
       "1610           Online Databases  Online in London at 25           2002   \n",
       "\n",
       "                                            Description  \n",
       "0     Hiveclass a startup company building a digital...  \n",
       "1     Elisandro Cabada has worn many hats during his...  \n",
       "2     Since April Brooklyn Public Librarys BPL Books...  \n",
       "3     If youre only concerned with basic collection ...  \n",
       "4     A growing number of libraries are beginning to...  \n",
       "...                                                 ...  \n",
       "1606                                                NaN  \n",
       "1607                                                NaN  \n",
       "1608                                                NaN  \n",
       "1609                                                NaN  \n",
       "1610                                                NaN  \n",
       "\n",
       "[1611 rows x 3 columns]"
      ]
     },
     "execution_count": 147,
     "metadata": {},
     "output_type": "execute_result"
    }
   ],
   "source": [
    "new_article_title_df_1=pd.DataFrame({'Title': new_article_title_list_1})\n",
    "new_published_year_df =pd.DataFrame({'Published_year': new_published_date_list})\n",
    "new_description_df =pd.DataFrame({'Description': new_description_list})\n",
    "new_technology_article_df = pd.concat([new_article_title_df_1,new_published_year_df,new_description_df], axis=\"columns\")\n",
    "new_technology_article_df"
   ]
  },
  {
   "cell_type": "code",
   "execution_count": 148,
   "id": "a661494c",
   "metadata": {},
   "outputs": [],
   "source": [
    "removing_word = [\"PREMIUM\"]\n",
    "new_new_article_title_df=new_technology_article_df[~new_technology_article_df.Title.str.contains('|'.join(removing_word))]"
   ]
  },
  {
   "cell_type": "code",
   "execution_count": 149,
   "id": "27c4a11d",
   "metadata": {},
   "outputs": [
    {
     "data": {
      "text/html": [
       "<div>\n",
       "<style scoped>\n",
       "    .dataframe tbody tr th:only-of-type {\n",
       "        vertical-align: middle;\n",
       "    }\n",
       "\n",
       "    .dataframe tbody tr th {\n",
       "        vertical-align: top;\n",
       "    }\n",
       "\n",
       "    .dataframe thead th {\n",
       "        text-align: right;\n",
       "    }\n",
       "</style>\n",
       "<table border=\"1\" class=\"dataframe\">\n",
       "  <thead>\n",
       "    <tr style=\"text-align: right;\">\n",
       "      <th></th>\n",
       "      <th>Title</th>\n",
       "      <th>Published_year</th>\n",
       "      <th>Description</th>\n",
       "    </tr>\n",
       "  </thead>\n",
       "  <tbody>\n",
       "    <tr>\n",
       "      <th>0</th>\n",
       "      <td>Hiveclass Rolls Out Youth Sports Training Digi...</td>\n",
       "      <td>2022</td>\n",
       "      <td>Hiveclass a startup company building a digital...</td>\n",
       "    </tr>\n",
       "    <tr>\n",
       "      <th>1</th>\n",
       "      <td>Academic Movers QA Elisandro Cabada on Using T...</td>\n",
       "      <td>2022</td>\n",
       "      <td>Elisandro Cabada has worn many hats during his...</td>\n",
       "    </tr>\n",
       "    <tr>\n",
       "      <th>5</th>\n",
       "      <td>Digital Literacy Skills  Strategies</td>\n",
       "      <td></td>\n",
       "      <td>The National Digital Inclusion Alliance NDIA i...</td>\n",
       "    </tr>\n",
       "    <tr>\n",
       "      <th>6</th>\n",
       "      <td>Brooklyns Books Unbanned Continues to Grow</td>\n",
       "      <td>2022</td>\n",
       "      <td>On August 25 the White House Office of Science...</td>\n",
       "    </tr>\n",
       "    <tr>\n",
       "      <th>7</th>\n",
       "      <td>Beyond Collections How Some Libraries are Seei...</td>\n",
       "      <td>2022</td>\n",
       "      <td>Higher ed nonprofit ITHAKA announced on August...</td>\n",
       "    </tr>\n",
       "    <tr>\n",
       "      <th>...</th>\n",
       "      <td>...</td>\n",
       "      <td>...</td>\n",
       "      <td>...</td>\n",
       "    </tr>\n",
       "    <tr>\n",
       "      <th>1581</th>\n",
       "      <td>Podcast 1 2 3</td>\n",
       "      <td>2007</td>\n",
       "      <td></td>\n",
       "    </tr>\n",
       "    <tr>\n",
       "      <th>1582</th>\n",
       "      <td>Podcast 1 2 3</td>\n",
       "      <td>2007</td>\n",
       "      <td></td>\n",
       "    </tr>\n",
       "    <tr>\n",
       "      <th>1583</th>\n",
       "      <td>Google Scan Plan Expands Gaining the 12 CIC Un...</td>\n",
       "      <td>2007</td>\n",
       "      <td></td>\n",
       "    </tr>\n",
       "    <tr>\n",
       "      <th>1584</th>\n",
       "      <td>Google Scan Plan Expands Gaining the 12 CIC Un...</td>\n",
       "      <td>2007</td>\n",
       "      <td></td>\n",
       "    </tr>\n",
       "    <tr>\n",
       "      <th>1585</th>\n",
       "      <td>Imagine No Restrictions Digital Rights Management</td>\n",
       "      <td>2007</td>\n",
       "      <td></td>\n",
       "    </tr>\n",
       "  </tbody>\n",
       "</table>\n",
       "<p>1557 rows × 3 columns</p>\n",
       "</div>"
      ],
      "text/plain": [
       "                                                  Title Published_year  \\\n",
       "0     Hiveclass Rolls Out Youth Sports Training Digi...           2022   \n",
       "1     Academic Movers QA Elisandro Cabada on Using T...           2022   \n",
       "5                   Digital Literacy Skills  Strategies                  \n",
       "6            Brooklyns Books Unbanned Continues to Grow           2022   \n",
       "7     Beyond Collections How Some Libraries are Seei...           2022   \n",
       "...                                                 ...            ...   \n",
       "1581                                      Podcast 1 2 3           2007   \n",
       "1582                                      Podcast 1 2 3           2007   \n",
       "1583  Google Scan Plan Expands Gaining the 12 CIC Un...           2007   \n",
       "1584  Google Scan Plan Expands Gaining the 12 CIC Un...           2007   \n",
       "1585  Imagine No Restrictions Digital Rights Management           2007   \n",
       "\n",
       "                                            Description  \n",
       "0     Hiveclass a startup company building a digital...  \n",
       "1     Elisandro Cabada has worn many hats during his...  \n",
       "5     The National Digital Inclusion Alliance NDIA i...  \n",
       "6     On August 25 the White House Office of Science...  \n",
       "7     Higher ed nonprofit ITHAKA announced on August...  \n",
       "...                                                 ...  \n",
       "1581                                                     \n",
       "1582                                                     \n",
       "1583                                                     \n",
       "1584                                                     \n",
       "1585                                                     \n",
       "\n",
       "[1557 rows x 3 columns]"
      ]
     },
     "execution_count": 149,
     "metadata": {},
     "output_type": "execute_result"
    }
   ],
   "source": [
    "new_new_article_title_df.dropna()"
   ]
  },
  {
   "cell_type": "markdown",
   "id": "287fc070",
   "metadata": {},
   "source": [
    "# REMOVING BLANK VALUES FROM THE DATAFRAME"
   ]
  },
  {
   "cell_type": "code",
   "execution_count": 150,
   "id": "09ecb1db",
   "metadata": {},
   "outputs": [
    {
     "name": "stderr",
     "output_type": "stream",
     "text": [
      "/var/folders/vr/4jm_c5vs5lv8kkdxq_94qdw40000gn/T/ipykernel_12167/4065824332.py:1: SettingWithCopyWarning: \n",
      "A value is trying to be set on a copy of a slice from a DataFrame\n",
      "\n",
      "See the caveats in the documentation: https://pandas.pydata.org/pandas-docs/stable/user_guide/indexing.html#returning-a-view-versus-a-copy\n",
      "  new_new_article_title_df['Description'].replace('', np.nan, inplace=True)\n"
     ]
    }
   ],
   "source": [
    "new_new_article_title_df['Description'].replace('', np.nan, inplace=True)"
   ]
  },
  {
   "cell_type": "code",
   "execution_count": 151,
   "id": "dde3fc64",
   "metadata": {},
   "outputs": [
    {
     "name": "stderr",
     "output_type": "stream",
     "text": [
      "/var/folders/vr/4jm_c5vs5lv8kkdxq_94qdw40000gn/T/ipykernel_12167/1719285155.py:1: SettingWithCopyWarning: \n",
      "A value is trying to be set on a copy of a slice from a DataFrame\n",
      "\n",
      "See the caveats in the documentation: https://pandas.pydata.org/pandas-docs/stable/user_guide/indexing.html#returning-a-view-versus-a-copy\n",
      "  new_new_article_title_df['Published_year'].replace('', np.nan, inplace=True)\n"
     ]
    }
   ],
   "source": [
    "new_new_article_title_df['Published_year'].replace('', np.nan, inplace=True)"
   ]
  },
  {
   "cell_type": "code",
   "execution_count": 152,
   "id": "2bd4b59f",
   "metadata": {},
   "outputs": [
    {
     "name": "stderr",
     "output_type": "stream",
     "text": [
      "/var/folders/vr/4jm_c5vs5lv8kkdxq_94qdw40000gn/T/ipykernel_12167/111278619.py:1: SettingWithCopyWarning: \n",
      "A value is trying to be set on a copy of a slice from a DataFrame\n",
      "\n",
      "See the caveats in the documentation: https://pandas.pydata.org/pandas-docs/stable/user_guide/indexing.html#returning-a-view-versus-a-copy\n",
      "  new_new_article_title_df['Title'].replace('', np.nan, inplace=True)\n"
     ]
    }
   ],
   "source": [
    "new_new_article_title_df['Title'].replace('', np.nan, inplace=True)"
   ]
  },
  {
   "cell_type": "code",
   "execution_count": 153,
   "id": "c4423c3e",
   "metadata": {},
   "outputs": [],
   "source": [
    "df=new_new_article_title_df.dropna()"
   ]
  },
  {
   "cell_type": "code",
   "execution_count": 193,
   "id": "36e79950",
   "metadata": {},
   "outputs": [
    {
     "data": {
      "text/html": [
       "<div>\n",
       "<style scoped>\n",
       "    .dataframe tbody tr th:only-of-type {\n",
       "        vertical-align: middle;\n",
       "    }\n",
       "\n",
       "    .dataframe tbody tr th {\n",
       "        vertical-align: top;\n",
       "    }\n",
       "\n",
       "    .dataframe thead th {\n",
       "        text-align: right;\n",
       "    }\n",
       "</style>\n",
       "<table border=\"1\" class=\"dataframe\">\n",
       "  <thead>\n",
       "    <tr style=\"text-align: right;\">\n",
       "      <th></th>\n",
       "      <th>Title</th>\n",
       "      <th>Published_year</th>\n",
       "      <th>Description</th>\n",
       "    </tr>\n",
       "  </thead>\n",
       "  <tbody>\n",
       "    <tr>\n",
       "      <th>0</th>\n",
       "      <td>Hiveclass Rolls Out Youth Sports Training Digi...</td>\n",
       "      <td>2022</td>\n",
       "      <td>Hiveclass a startup company building a digital...</td>\n",
       "    </tr>\n",
       "    <tr>\n",
       "      <th>1</th>\n",
       "      <td>Academic Movers QA Elisandro Cabada on Using T...</td>\n",
       "      <td>2022</td>\n",
       "      <td>Elisandro Cabada has worn many hats during his...</td>\n",
       "    </tr>\n",
       "    <tr>\n",
       "      <th>6</th>\n",
       "      <td>Brooklyns Books Unbanned Continues to Grow</td>\n",
       "      <td>2022</td>\n",
       "      <td>On August 25 the White House Office of Science...</td>\n",
       "    </tr>\n",
       "    <tr>\n",
       "      <th>7</th>\n",
       "      <td>Beyond Collections How Some Libraries are Seei...</td>\n",
       "      <td>2022</td>\n",
       "      <td>Higher ed nonprofit ITHAKA announced on August...</td>\n",
       "    </tr>\n",
       "    <tr>\n",
       "      <th>8</th>\n",
       "      <td>Open for Growth Open Source Platforms on the Rise</td>\n",
       "      <td>2022</td>\n",
       "      <td>The Las Vegas–Clark County Library District in...</td>\n",
       "    </tr>\n",
       "    <tr>\n",
       "      <th>...</th>\n",
       "      <td>...</td>\n",
       "      <td>...</td>\n",
       "      <td>...</td>\n",
       "    </tr>\n",
       "    <tr>\n",
       "      <th>1092</th>\n",
       "      <td>Library of Congress Posts Twitter Updates on T...</td>\n",
       "      <td>2011</td>\n",
       "      <td>Amanda Hocking ebooks have recently been made ...</td>\n",
       "    </tr>\n",
       "    <tr>\n",
       "      <th>1094</th>\n",
       "      <td>OCLC App Makes Connections</td>\n",
       "      <td>2011</td>\n",
       "      <td>Just a few months after the merger of the Proj...</td>\n",
       "    </tr>\n",
       "    <tr>\n",
       "      <th>1095</th>\n",
       "      <td>EBSCO Publishing Integrates 300K Ebooks and Au...</td>\n",
       "      <td>2011</td>\n",
       "      <td>That this is a boon for OverDrive is clear but...</td>\n",
       "    </tr>\n",
       "    <tr>\n",
       "      <th>1106</th>\n",
       "      <td>Unlocking HathiTrust Inside the Librarians' Di...</td>\n",
       "      <td>2011</td>\n",
       "      <td>The day that library patrons can download and ...</td>\n",
       "    </tr>\n",
       "    <tr>\n",
       "      <th>1430</th>\n",
       "      <td>Journey to Library 20</td>\n",
       "      <td>2010</td>\n",
       "      <td>A new company called SkyRiver has launched a b...</td>\n",
       "    </tr>\n",
       "  </tbody>\n",
       "</table>\n",
       "<p>964 rows × 3 columns</p>\n",
       "</div>"
      ],
      "text/plain": [
       "                                                  Title  Published_year  \\\n",
       "0     Hiveclass Rolls Out Youth Sports Training Digi...            2022   \n",
       "1     Academic Movers QA Elisandro Cabada on Using T...            2022   \n",
       "6            Brooklyns Books Unbanned Continues to Grow            2022   \n",
       "7     Beyond Collections How Some Libraries are Seei...            2022   \n",
       "8     Open for Growth Open Source Platforms on the Rise            2022   \n",
       "...                                                 ...             ...   \n",
       "1092  Library of Congress Posts Twitter Updates on T...            2011   \n",
       "1094                         OCLC App Makes Connections            2011   \n",
       "1095  EBSCO Publishing Integrates 300K Ebooks and Au...            2011   \n",
       "1106  Unlocking HathiTrust Inside the Librarians' Di...            2011   \n",
       "1430                              Journey to Library 20            2010   \n",
       "\n",
       "                                            Description  \n",
       "0     Hiveclass a startup company building a digital...  \n",
       "1     Elisandro Cabada has worn many hats during his...  \n",
       "6     On August 25 the White House Office of Science...  \n",
       "7     Higher ed nonprofit ITHAKA announced on August...  \n",
       "8     The Las Vegas–Clark County Library District in...  \n",
       "...                                                 ...  \n",
       "1092  Amanda Hocking ebooks have recently been made ...  \n",
       "1094  Just a few months after the merger of the Proj...  \n",
       "1095  That this is a boon for OverDrive is clear but...  \n",
       "1106  The day that library patrons can download and ...  \n",
       "1430  A new company called SkyRiver has launched a b...  \n",
       "\n",
       "[964 rows x 3 columns]"
      ]
     },
     "execution_count": 193,
     "metadata": {},
     "output_type": "execute_result"
    }
   ],
   "source": [
    "df"
   ]
  },
  {
   "cell_type": "markdown",
   "id": "967599a6",
   "metadata": {},
   "source": [
    "# DATA TYPE CHANGES FOR DATA VISUALIZATION"
   ]
  },
  {
   "cell_type": "code",
   "execution_count": 154,
   "id": "2ed66f1a",
   "metadata": {},
   "outputs": [],
   "source": [
    "df = df.astype({\"Published_year\": int})"
   ]
  },
  {
   "cell_type": "code",
   "execution_count": 155,
   "id": "77b357a5",
   "metadata": {},
   "outputs": [
    {
     "data": {
      "text/plain": [
       "<AxesSubplot:>"
      ]
     },
     "execution_count": 155,
     "metadata": {},
     "output_type": "execute_result"
    },
    {
     "data": {
      "image/png": "[encoded data removed]",
      "text/plain": [
       "<Figure size 432x288 with 1 Axes>"
      ]
     },
     "metadata": {
      "needs_background": "light"
     },
     "output_type": "display_data"
    }
   ],
   "source": [
    "df.plot()"
   ]
  },
  {
   "cell_type": "markdown",
   "id": "3437fc63",
   "metadata": {},
   "source": [
    "# NATURAL LANGUAGE PROCESSING FOR TEXT PROCESSING "
   ]
  },
  {
   "cell_type": "code",
   "execution_count": 156,
   "id": "0388fdac",
   "metadata": {},
   "outputs": [],
   "source": [
    "import nltk\n",
    "from nltk import word_tokenize, Text\n",
    "from nltk.corpus import wordnet\n",
    "from nltk.stem.wordnet import WordNetLemmatizer\n",
    "from nltk.sentiment import SentimentIntensityAnalyzer\n",
    "from tqdm.notebook import tqdm"
   ]
  },
  {
   "cell_type": "code",
   "execution_count": 157,
   "id": "543d7cd4",
   "metadata": {},
   "outputs": [
    {
     "name": "stdout",
     "output_type": "stream",
     "text": [
      "[('libraries', 571), ('services', 151), ('university', 150), ('announced', 148), ('technology', 137), ('information', 129), ('librarians', 112), ('academic', 98), ('available', 95), ('research', 94)]\n"
     ]
    }
   ],
   "source": [
    "word_list=[]\n",
    "consolidated_description=' '.join(new_description_list)\n",
    "lem=WordNetLemmatizer()\n",
    "lem_tokens=lem.lemmatize(consolidated_description.lower())\n",
    "file_tokens = word_tokenize(lem_tokens)\n",
    "for i in file_tokens:\n",
    "    if len(i)>7:\n",
    "        word_list.append(i)\n",
    "data_count = nltk.FreqDist(word_list)\n",
    "print(data_count.most_common(10))"
   ]
  },
  {
   "cell_type": "code",
   "execution_count": 158,
   "id": "7f40eec3",
   "metadata": {},
   "outputs": [
    {
     "data": {
      "text/plain": [
       "[('hiveclass', 'NOUN'),\n",
       " ('a', 'DET'),\n",
       " ('startup', 'NOUN'),\n",
       " ('company', 'NOUN'),\n",
       " ('building', 'VERB'),\n",
       " ('a', 'DET'),\n",
       " ('digital', 'ADJ'),\n",
       " ('encyclopedia', 'NOUN'),\n",
       " ('of', 'ADP'),\n",
       " ('youth', 'NOUN')]"
      ]
     },
     "execution_count": 158,
     "metadata": {},
     "output_type": "execute_result"
    }
   ],
   "source": [
    "pos_tagged_set=nltk.pos_tag(file_tokens,tagset='universal')\n",
    "pos_tagged_set[:10]"
   ]
  },
  {
   "cell_type": "code",
   "execution_count": 159,
   "id": "1e029148",
   "metadata": {},
   "outputs": [
    {
     "data": {
      "image/png": "[encoded data removed]",
      "text/plain": [
       "<Figure size 432x288 with 1 Axes>"
      ]
     },
     "metadata": {
      "needs_background": "light"
     },
     "output_type": "display_data"
    },
    {
     "data": {
      "text/plain": [
       "<AxesSubplot:xlabel='Samples', ylabel='Counts'>"
      ]
     },
     "execution_count": 159,
     "metadata": {},
     "output_type": "execute_result"
    }
   ],
   "source": [
    "complete_set=[]\n",
    "Pos_tag_map=[('Words Count',j[1]) for j in pos_tagged_set]\n",
    "complete_set.extend(Pos_tag_map)\n",
    "common_pos=nltk.ConditionalFreqDist(complete_set)\n",
    "common_pos.plot()"
   ]
  },
  {
   "cell_type": "code",
   "execution_count": 160,
   "id": "929e58b0",
   "metadata": {},
   "outputs": [],
   "source": [
    "from nltk.corpus import stopwords\n",
    "from wordcloud import WordCloud,STOPWORDS\n",
    "stop_words = set(stopwords.words('english'))"
   ]
  },
  {
   "cell_type": "code",
   "execution_count": 194,
   "id": "a9c661b7",
   "metadata": {},
   "outputs": [
    {
     "name": "stdout",
     "output_type": "stream",
     "text": [
      "{'shouldn', 'few', 'them', 'an', 'o', \"that'll\", 'until', 'she', 'being', 'where', 'have', 'after', 'only', 'couldn', 'own', 'no', 'won', 'too', 'not', 'am', 'and', 're', 'down', \"hadn't\", \"should've\", 'doing', \"you're\", 'as', \"mustn't\", 'did', 'shan', 'which', 'by', 'yourselves', 'both', 'its', 'our', 'i', 'on', 'with', 'most', 'we', \"wouldn't\", \"doesn't\", 'here', 'more', 'having', 'her', 'further', 'why', 'his', \"don't\", 't', 'aren', \"mightn't\", 'over', 'any', \"needn't\", 'how', 'is', 'doesn', 'hasn', 'just', 'each', 'himself', 'ain', \"shan't\", 'through', 'from', 'nor', 'herself', \"you've\", \"weren't\", 'does', 'now', 'than', 'yours', 'itself', 'when', 'myself', 'your', 'off', 'again', 'under', 'once', \"didn't\", 'be', 'in', 'same', 'do', 'wouldn', \"shouldn't\", 'out', 'yourself', \"you'd\", 'some', 'are', 'a', 'at', 'so', 'hers', 'isn', 'don', 'then', 'ours', 'd', 'they', 's', \"haven't\", 'has', 'for', 'there', 'their', \"hasn't\", 'should', 'it', 'below', \"isn't\", 'was', 'whom', 'needn', 'can', 'the', 'but', 'above', 'before', 'up', 'mustn', 'that', 'themselves', 'he', 'those', \"it's\", 'between', 'other', 'mightn', 'y', \"won't\", 'these', 've', \"aren't\", 'very', 'while', \"wasn't\", 'this', 'because', 'wasn', \"you'll\", 'of', 'into', 'to', 'will', 'm', 'weren', 'haven', 'you', 'didn', 'ma', 'me', 'who', 'or', 'were', 'had', 'ourselves', 'if', 'theirs', \"she's\", 'been', 'hadn', 'll', 'what', 'all', 'against', 'my', 'him', 'such', \"couldn't\", 'about', 'during'}\n"
     ]
    }
   ],
   "source": [
    "print(stop_words)"
   ]
  },
  {
   "cell_type": "code",
   "execution_count": 161,
   "id": "d0710e90",
   "metadata": {},
   "outputs": [
    {
     "name": "stdout",
     "output_type": "stream",
     "text": [
      "hiveclass startup company building digital encyclopedia youth sports training partnering libraries throughout united states offer teens youth access mobilefriendly database professionally shot athleteled instructional videos soccer basketball tennis dance selfdefense volleyball elisandro cabada worn many hats career university illinois urbanachampaign assistant professor university library interim head mathematics library 3d printing project coordinator among others commitment developing using technology library service outreach 2022 movers shakers award library journal recently reached learn innovative work since april brooklyn public librarys bpl books unbanned program offered free library cards teens young adults across united states live communities impacted book bans enabling access librarys collection 500000 ebooks eaudiobooks digital magazines bpl chief librarian nick higgins recently talked lj idea program originated grown past six months youre concerned basic collection management youre missing opportunity make huge impact community libraries offer much collections put considerable emphasis collections deprioritize equally important facets library operations ? growing number libraries beginning see appeal opensource integrated library systems ils library services platforms lsp koha evergreen folio national digital inclusion alliance ndia september announced pottsboro library texas one 18 organizations part national digital navigator corps supported 10 million investment googleorg new program enable institutions serving rural tribal communities hire train support digital navigator help residents communities gain access internet devices digital skills training august 25 white house office science technology policy ostp released new guidance calling federally funded research made available public free access use upon publication memorandum ensuring free immediate equitable access federally funded research advises federal agencies eliminate current 12month embargo period outputs taxpayersupported research data supports establish transparent procedures coordinate ostp ensure equitable delivery higher ed nonprofit ithaka announced august 18 invested 25 million hypothesis open annotation service hypothesis developed funding sloan mellon foundations enables users make searchable annotations text across platforms interfaces private public level—from notes comments corrections addenda parent corporation annotation unlimited anno envisions time capability built browsers native feature much like search engines las vegas–clark county library district partnership nevada homeless alliance nevada partnership homeless youth spring launched successful cell phone lending program provide smartphones people experiencing homelessness february alerted issue group massachusetts librarians library freedom project library futures released joint statement demanding accountability midwest tape president hoopla founder jeff jankowski hateful content disinformation regarding covid19 holocaust lgbtqia+ people topics companys massively popular electronic content platform public libraries six months later still great deal disinformation found hooplas collection topics ranging lgbtqia+ experiences reproductive health vaccines best sellers engineering technology july 2021 date identified gobi library solutions ebsco # notechforice started national latinx chicanx social justice advocacy group mijente 2018 became clear government agencies ice cbp purchasing public private commercial data gather information aid sweeps deportations undocumented immigrants two companies entered contracts ice lexisnexis thomson reuters—which owns lexisnexis competitor westlaw—are staples college university database subscriptions campaign caught attention academic librarians nationwide june 7 maryland state library agency msla prince georges county memorial library system pgcmls announced beta launch guide indigenous maryland mobile app ios android website enable marylanders—and users worldwide—to learn history local native indigenous people pgcmls 's preferred wording uses terms heritage continues influence contemporary life state free educational resource combines 21 curated sites featuring information native american indigenous geography heritage local history presentday life maryland john bracken micah may shaneé yvette willis discussed dpla 's new partnerships recent projects new palace project ebook platform digital public library america look ahead session american library associations 2022 annual conference vendors offer variety training options practical tips ensure librarians patrons get databases following successful pilot test delawares seaford laurel milford libraries delaware division libraries ddl preparing roll new comprehensive telehealth program nine additional locations throughout state end 2022 program discussed depth first statewide libraryled telehealth initiative first state presentation june 26 american library associations 2022 annual conference exhibition washington dc lawsuit filed oclc us federal court southern district ohio claims representatives clarivate contacting oclc customers encouraging contribute bibliographic records worldcat underdevelopment platform called metadoor direct breach customers contractual obligations oclc midst myriad problems facing libraries united states—from pandemic burnout drastic increase materials challenges—i want celebrate big win shift libraries atscale providers home connectivity digitally disenfranchised communities seattle public library district columbia public library fayette public library museum archives la grange tx partnership university washington launched vrtalityorg website provides libraries institutions roadmap codesigning virtual reality vr apps support mental health teens roadmap website informed three separate vr pilot programs developed three libraries librarians worked directly teen patrons create vr programs treating equal partners projects freedom press freedom press digital humanities project based carnegie mellon university cmu pittsburgh received 324931 national endowment humanities digital humanities advancement grant develop set digital tools analyze type paper used late 17th 18thcentury english language works ninetyone percent academic librarians believe analytics improve understanding students faculty researchers engage library 85 percent believe analytics help show librarys value administrators help libraries justify budget decisions according recent national survey 196 academic librarians conducted lj conjunction ebsco many college university libraries digitized valuable collections unique primary source materials make available researchers however collections hard find solve problem notforprofit organization ithaka opened jstor—its widely used digital research platform universities host unique collections 2021 annenberg schools library archives accessioned collection amy siskinds weekly list website however path get complicated final gift looked quite different conceived initial conversation data inform nearly every aspect lives academic libraries increasingly using data drive operations fact new survey library journal ebsco reveals library analytics critical understanding users engage campus libraries press freedom nongovernmental organization reporters without borders rsf french title reporters sans frontières created way readers everywhere access read documents banned censored countries published—through uncensored library collection articles books housed virtual world minecraft eaccess hot topic public library association pla 2022 conference held portland march 23–25 programs examining points along pipeline licensing broadband innovative infrastructure well attended global pandemic accelerated changes already way libraries coast coast movement toward patron selfservice making online resources available users georgias clayton county library system launched new job training program enables patrons use virtual reality vr headsets simulate handson experiences various trades including plumbing commercial residential hvac even solar panel installation anyone studying history british colonialism caribbean general new digital research tool adam matthew offers unique insights february collection development librarians us public libraries pointed listservs social media several fascist ebooks—including ebooks deny holocaust sympathetic biography hitler new english translation title written nazi officer—were available patrons download hoopla surfacing searches alongside nonfiction content one titles also available libraries license via overdrive marketplace many ways showcase special collections social media newsletters blog posts online inperson exhibits physical digital catalogues books massachusetts institute technology mit libraries distinctive collections upped creativity factor immersive video game lab ones allows players discover archival materials telling stories women mits history institute museum library services imls partnership american library association ala recently sponsored development publication series seven privacy field guides designed offer practical information handson exercises public academic k–12 librarians january 23 virtual national general membership meeting reforma national association promote library information services latinos spanishspeaking disrupted person people using racial slurs misogynistic hate speech infiltration highlighted discrepancies associations desire open inclusive gathering increasing need added security online environment machine learning ml tools potentially help patrons discover relevant content services search librarys catalog however ml tools need trained lot good data generate good recommendations initially contextual recommendations generated highquality library metadata may effective achieving goal lc labs department library congress recently published comprehensive report humansintheloop initiative crowdsourced volunteers train machine learning ml tool extract structured data one librarys digital collections also explored intersection crowdsourcing ml algorithms broadly project resulted framework inform future crowdsourcing data enrichment projects lc report offers libraries cultural heritage institutions insights advice developing engaging ethical useful crowdsourcing projects libraries experienced dramatic changes last several years result covid external forces librarians look ahead future three key trends shape needs going forward charlotte mecklenburg library cml nc march 2022 begin distributing 20000 free refurbished laptops mecklenburg county adults home computers mecktech computer kit program separately month cml began rolling mecktech connect pilot program provide free broadband internet service 800 households charlottes west boulevard corridor latest report ithaka s+r big data infrastructure crossroads released december 1 offers critical findings recommendations ways higher ed researchers scholars technicians partner university college librarians support data research report built quantitative results interview transcripts produced cohort librarians participating institution association american publishers aap today filed suit maryland attorney general seeking overturn recently passed maryland law requires publishers license ebooks digital audiobooks libraries reasonable terms update december 9 association american publishers aap filed suit maryland attorney general seeking overturn house bill 518sb432 law requires publishers offer electronic literary product licenses maryland libraries reasonable terms prohibits publishers instituting embargo periods ebook electronic audiobook licenses available sale public libraries dark matter seashells crispr feature best science technology books 2021 acquisition announcement spotify technology november 11 announced entered definitive agreement acquire findaway global leader digital audiobook distribution best sellers engineering technology october 2020 date identified gobi library solutions ebsco partnership las vegas–clark county library district regional transportation commission southern nevada bringing librarys digital resources every bus town las vegas transit riders including outoftowners immediately access las vegas clark county library districts treasure trove free movies ebooks audiobooks magazines one simple download without physically library library card association college research libraries public library association launched benchmark library metrics trends new digital resource data analysis visualization designed help libraries plan make informed decisions tell story impact team north carolina state university libraries created global change games series help engage students global change topics michigans kent district library kdl preparing launch kdl vibes free streaming platform created showcase local music ever important staff patrons know safe secure place quipu groups pits®patron incident tracking system allows library staff record track security incidents realtime well access information previous activities actions launch date yet announced overdrive recruiting librarian advisors public academic k–12 libraries offer input refine readtelligence—an upcoming suite tools ebook selection curation developed company using artificial intelligence ai deep learning tools analyze every ebook overdrive marketplace 2020 public library technology survey presents snapshot vital technology services libraries provide communities areas disparity urban rural libraries challenges institutions sizes face expanding enhancing technology services gale part cengage group september 8 announced launch gale presents excel adult high school partnership excel education systems accreditation cognia nonprofit ngo serves 36000 schools globally program successor gales previous career online high school designed enable adults earn certified high school diploma entirely online federal communications commission federal communications commission today announced received requests 5137 billion fund 91 million connected devices 54 million broadband connections part 717 billion emergency connectivity fund program view outstanding demand recent spike coronavirus cases fcc open second application filing window schools libraries request funding connected devices broadband connections offcampus use students school staff library patrons current 202122 school year ala public knowledge schools health libraries broadband coalition praised us senate 's vote pass 1 trillion infrastructure investment jobs act includes 65 billion broadband talk web usability talking directly patrons experiences librarys digital space rethinking work lens antiracism important overdrive preparing launch readtelligence suite new features ebook selection curation developed using artificial intelligence ai deep learning tools analyze every title companys inventory 19 trillion pandemic relief legislation passed congress march contains signiﬁcant amount money libraries help communities response many companies highlighting products purchased recovery funding new digital technologies bringing changes much rapid comprehensive past way live work interact one another idea recent advancement digital technologies reached qualitatively distinct stage digital revolution becoming widely accepted explained bohyun kim chief technology officer professor university rhode island libraries kingston new technologies fourth industrial revolution ai iot robotics beyond demand presentation american library association 's 2021 annual conference american library association ala virtual annual meeting lauren geiger metadata librarian emily harrison digital projects specialist mississippi state university libraries discussed ensure accessibility digital collections limited discoverability importance providing equal access information learning experiences nothing new yet consistently find digital resources technologies fall short accessibility patrons students print disabilities trisha prevett elearning librarian southern new hampshire university said open born accessible creating equal digital learning experiences panel american library association ala 2021 annual conference exhibition held virtually june 23–29 must ensure libraries providing resources truly accessible young adult library services association yalsa division american library association collaborating ibm help teens learn new technical professional skills using ibms open ptech platform participating libraries free digital learning platform features interactive multipart courses topics including artificial intelligence ai cybersecurity data science blockchain design thinking well resources teachers librarians topic libraries reinventing well decade emergence smartphones ubiquitous connectivity put access information nearly everyones hands longer repositories information libraries morphed fullservice community centers aim meet wide variety civic social needs popularity public library streaming media entertainment spiked pandemic whats next ? books using algorithms resistance expose north carolinas jim crow laws machine learning collections data project university north carolina unc chapel hill libraries resistance come ? since 2019 project team building algorithm searchable database jim crow legislation signed law north carolina 1866 1967 reconstruction civil rights era joint announcement overdrive leading digital reading platform libraries schools worldwide announced today acquiring kanopy leading video streaming service public academic libraries even covid19 pandemic disrupted lives around world public libraries undergoing dramatic changes longer repositories information libraries morphed fullservice community centers aim meet wide variety civic social needs six forwardlooking companies helping libraries meet evolving needs communities innovative products services design may 17 clarivate announced definitive agreement acquire proquest cambridge information group 53 billion pending regulatory approvals transaction expected close third quarter 2021 may 18 digital public library america dpla signed agreement amazon publishing make latters 10000 ebooks audiobooks available libraries via dpla exchange content marketplace first time ebooks audiobooks amazon publishing made available libraries dpla digital public library america dpla pleased announce signed agreement amazon publishing make approximately 10000 amazon publishing ebooks audiobooks available libraries patrons dpla exchange joint release clarivate global leader providing trusted information insights accelerate pace innovation today announced definitive agreement acquire proquest fcc federal communications commission today unanimously adopted final rules implement emergency connectivity fund program 717 billion program funded american rescue plan act 2021 enable schools libraries purchase laptop tablet computers wifi hotspots broadband connectivity students school staff library patrons need covid19 pandemic time library promotion involves lot announcements like offer homework help weve got new website come program promotions informative lack one magical thing people respond emotion covid19 vaccine rollout gaining momentum united states libraries continue process reopening theyll need get word patrons changing hours resumed services inperson events product spotlight focuses marketing platforms libraries designed help streamline outreach efforts via social media email newsletters mobile messaging federal communications commission today fcc acting chairwoman jessica rosenworcel announced start date emergency broadband benefit program may 12 2021 eligible households able enroll program receive monthly discount cost broadband service approved provider eligible households enroll approved provider visiting httpsgetemergencybroadbandorg challenge libraries first obtain spend federal funding second parlay temporary help permanent paradigm shift new equipment outlast emergency library leaders document ongoing impacts breakage age take inevitable toll funders find unthinkable replace upgrade gear bernard bud barton hired chief information officer cio library congress september 2015 faced government accountability offices list 31 recommendations overhaul modernize librarys infrastructure five years later recommendations implemented lj caught barton discuss team 's work whats ahead library congress continues modernize library branches closed offering limited inperson services much 2020 often meant shifting virtual offerings many people faced challenges accessing online resources according public libraries pandemic digital shifts disparities overcome report published month new america washington dc–based public policy think tank washington post thirty house senate democrats unveiled new 94 billion proposal thursday make broadband internet access accessible affordable nationwide aiming remedy digital inequalities kept millions americans offline coronavirus pandemic significant show support congress earmarked billions dollars recovery funding academic public school libraries wednesday march 10 part president joe bidens 19 trillion american rescue plan act arpa 2021 institute museum library services imls received 200 million largest single boost agencys 25year history relief package also includes money libraryeligible programs emergency education connectivity fund fccs erate program american libraries association statement libraries eligible billions dollars recovery funding part 19 trillion american rescue plan act arpa 2021 passed congress wednesday march 10 2021 even pandemic emerged libraries investing new technologies designed save time improve efficiency supporting customer selfservice freeing library staff focus strategic work covid19 accelerated trend process transforming libraries function 21st century washington post federal communications commission late thursday finalized 32 billion program provide monthly discount millions cashstarved americans struggling pay internet bills — countrys ambitious effort yet close digital divide amid coronavirus pandemic university washington ischool researchers present overview open data literacy project 's work date share highlights survey current landscape open data washington state 's public libraries february 22 university california san diego ucsd library launched inaugural art science contest inviting ucsd researchers submit beautiful image explains work way engaging accessible nonscientists contest runs march 21 voting take place march 29–april 18 winning images announced may 3 next week snoisle libraries wa hold orientation sessions second cohort aspiring professionals—nearly 50 residents snohomish island counties spend next 25 weeks studying comptia a+ certification common requirement entrylevel computer service technician jobs federal communications commission federal communications commission today began seeking comment several petitions requesting permission use erate program funds support remote learning pandemic troublesome tech landscape vast everevolving place said callan bignoli library director olin college engineering needham kicking hourlong presentation technology surveillance—including recent impact covid19 pandemic academic surveillance—at american library association 's 2021 midwinter virtual meeting deepfakes portmanteau deep learning artificial intelligence ai fake media becoming common better understanding work vital current information landscape said john mack freeman suwanee branch manager gwinnett county public library ga hourlong presentation part years core top tech trends panel american library associations midwinter virtual meeting best sellers engineering technology january 2020 date identified gobi library solutions ebsco slave biographies atlantic database network launched 2011 aggregated data slavery enslaved people three scholarly sources nearly 10 years later enslavedorg peoples historic slave trade—built original project using linked open data technology new comprehensive iteration—launched december 2020 project muse released muse focus roots attack democracy insurance analytics company valchoice extended free unlimited access subscription libraries kanopy expects growth streaming video services continue based recent survey librarians lack reliable broadband access long posed challenges many rural communities pandemic ramps need libraries continue help innovative solutions carnegie mellon university libraries developed campi new web application uses computer vision assist librarians processing digital photograph collections ahc library enables students access digital course reserves device tlc migrates oracle cloud proquest launches new text data mining visualization interface participating public libraries receive web archiving access services training education funds promote pursue community archiving community webs national network also make resulting public library local history community web archives available scholars specialized access tools datasets microsoft online fraud hate speech discrimination divisive online risks rise globally according results new microsoft study carl grant former president ex libris north america interim dean university oklahoma libraries summer became managing director revs institute naples fl–based notforprofit dedicated research historical study automobiles already tight library budgets mounting pressures important ever spend wisely make investments ensure strong return best way using data best practices proven methodology make decisions learn michigan state university migrate open source folio library services platform fully implement folio 2021 announced today ebsco information services provide hosting implementation training development support leverage integrations ebsco discovery service openathens access management initially exploring donation library collections nearby wayne state university marygrove college ultimately decided give 70000 books 3000 journal volumes internet archive digitized collection made available via controlled digital lending david polfeldt massive entertainment offers insight working video game industry sid meier tells story creating influential gaming series civilization federal bureau investigation fbi cybersecurity infrastructure security agency cisa issuing announcement raise awareness potential threat posed foreignbacked online journals spread disinformation regarding 2020 elections arxiv blog arxivlabs concept developed years ago acts conduit collaboration appears physical space article record page importantly sets guidelines collaborations arxiv third parties ensuring partners share arxivs values openness community excellence user data privacy open preservation foundation pleased announce publication findings report anonymised raw data opf digital preservation community survey covid19 shut country early march mad scramble masks swabs and…library cards doors closed physical collections quarantine embargoed way libraries could connect patrons online could new customers new using online collections get access without library card ? central technology centec developers icirc line selfcheck stations created point 2 click patentpending adapter enables library patrons use public touchscreen interfaces without ever physically touching screens adapters developed response heightened cleaning protocols libraries reopen branches covid19 pandemic covid19 accelerating move digital amid budget pressures library vendors share hear customers 're meeting rapidly evolving needs universities colleges across united states grapple best way proceed fall terms given ongoing covid19 pandemic american library association–accredited library science programs providing variety options students going fully online others offering hybrid courses online inperson components july 27 internet archive ia responded copyright infringement lawsuit filed publishers hachette harpercollins wiley penguin random house filing brief us southern district new york denies charges willful infringement linked data useful metadata depends poor quality metadata ultimately causes challenges many librarians hope address linked data libraries offer essential services covid pandemic face added challenge protecting health safety staff patrons necessary adaptations include effective affordable personal protective equipment ppe library staff sanitization stations staff patrons touchfree checkouts replacement meeting room locks digital contactless entry devices revamped floor plans public spaces valchoice independent data analytics company focused us insurance industry offering public academic libraries permanent unlimited access online calculators insurance company ratings tutorials howto videos worksheets tools designed help users understand insurance—such car home insurance—is priced decide policies based age deductibles coverage limits factors seven experts discussed longterm trends becoming even significant wake covid19 pandemic partnership 10 state libraries bibliolabs announced 4000 digital comics graphic novels childrens materials available free unlimited simultaneous use august 31 addition library partners participating new virtual library comic convention scheduled held july 30 gale cengage company today introduced five interactive dashboards gale analytics demographic data visualization platform online meetings become ubiquitous many us library started offering virtual meeting rooms public via zoom immediately began fielding questions best structure online events since event structured large impact success wanted share best practices weve learned technological advancements accessibility needs study practices continue develop rapid pace find use publish research completely differently 25 years ago many libraries cancelling galas inperson fundraising events due global pandemic member next chapter society ncs works tennessees nashville public library foundation fundraise nashville public library npl worked committee shift summer activities online covid19 pandemic shut campuses libraries helped salvage spring semesters supporting distance learning plans fall remain limbo academic librarians share theyve learned response coronavirus shutdown orders left public library branches closed across country playaway—developer products including playaway preloaded audiobook devices wonderbook readalongs launchpad preloaded tablets—recently began offering customers option ship products directly company patrons homes coronavirus makes internet access even crucial schooling many jobs applying unemployment library staff working creative solutions bring access thousands would otherwise without moving beyond wifi parking lots cultivating external partnerships states cities suspend coronavirusrelated shutdown orders two library apps—conversight libro capiramobile—are introducing curbside pickup features enable library staff fulfill requests books physical materials maintaining social distancing recommendations minimizing personal contact patrons public libraries times crisis fill gaps social safety net time rethink publishers content providers relate business public libraries customers relationships retooled reimagined provide outcomes beneficial ? covid19 pandemic shuttered public libraries nationwide compelling librarians quickly deploy virtual alternatives programming online learning boosting electronic collections meet growing demand virtual offerings often leave public libraries ' devoted yet vulnerable patrons unhoused coping mental health problems substance use consider library libraryadjacent crowdsourcing projects fun way connect community make difference covid19 outbreak library buildings temporarily closed combat covid19 pandemic libraries combining need meeting space shift digital service delivery lights libraries across country wifi signal staying strong even time unprecedented closures demand popular ebooks digital audiobooks comics music streaming video spiked library branches close patrons asked stay home due covid19 pandemic macmillan yesterday announced would discontinue embargo period prohibited libraries purchasing ebook licenses newly published titles eight weeks nearly four months macmillan enacted 60day embargo library ebooks state digital collections still subject intense interest field played public library association pla conference held nashville tn 25–29 panel building case # ebooksforall saw attendance close 300 conferencegoers panorama project—a library publishing industry initiative aims quantify impact libraries book discovery author brand development publisher sales—in february released 2019 annual report previewed two initiatives 2020 us senator kirsten gillibrand dny february 12 introduced data protection act 2020 new legislation would create data protection agency independent federal agency would serve ‘ referee define arbitrate enforce rules defend protection [ us citizens ] personal data public libraries using new vendor solutions enhance local schools ebook audiobook collections creating new generation library users corporations technology companies government entities gathering data ever people libraries important role play educating public surveillance personal information online privacy according panelists library information technology associations lita top tech trends panel international team medievalists released free android ios app geoffrey chaucers canterbury tales featuring digitized hengwrt chaucer manuscript authentic 45minute dramatic reading general prologue candid occasionally contentious ask anything session saturday january 25 2020 american library association ala midwinter meeting philadelphia macmillan ceo john sargent discussed publishers twomonth embargo period library ebooks went effect november 1 cornell university library put together suite privacy services students faculty include digital literacy workshops confidential privacy risk consultations public computers configured ensure anonymity proprivacy advocacy potentially feature dataset vendor policies working local experts civic open data projects libraries become heart smart city global investment firm kkr december 24 announced signing definitive agreement acquire ebook provider overdrive japanese online retailer rakuten move consolidates market commercial integrated library systems library services platforms library software solutions ex libris december 5 announced signed agreement acquire innovative interfaces good website design nearly invisible many features significant impact user experience without immediately apparent web security one feature websites prioritize security librarians take note patrons feel assured veracity web content access librarys domain security data share internet archive ia november 6 announced longtime notforprofit partner better world libraries acquired better world books libraries organizations weed deaccession titles donate better world books selected titles directed ias massive book digitization program disappearing ice air pollution wonders algae best science technology titles published 2019 november 1 macmillan enacted eightweek embargo period new library ebook licenses many libraries responded announcing boycotts library organizations continue outreach advocacy efforts lehigh university library partnered software developer index data ahead librarys planned summer 2020 launch folio open source library services platform dated october 15 alas report congress summarizes challenges facing library field regard ebooks streaming content pricing digital academic journal subscriptions anticompetitive behavior digital textbook publishing publishing industrys capture use student data american library association public library association last month launched public outreach campaign mobilize opposition macmillans new eightweek embargo period library ebook purchases campaign gained traction online ebooksforallorg petition demanding cancellation embargo garnering 103000 signatures press time publishing book retailing ecosystem changing rapidly public libraries continue offer substantial opportunities promote authors books vital publishers recognize libraries important partners panel library leaders said audience publishing executives baker taylors publisher summit 2019 held september 24 white plains ny multnomah county library mcl launched partnership portland state universitys ooligan press publish distribute print copies ebooks written local authors selected mcls annual library writers project many libraries established formal informal policies ensure accessibility licensed librarycreated digital content libraries also report uncertainty regarding responsibilities auditing enforcing policies according lyrasis 2019 accessibility survey report last month panorama project announced guy lecharles gonzalez would taking project lead initiative aims quantify impact libraries publishing ecosystem—specifically digital publishing ecosystem—and gonzalez brings new perspective project shaped 25 year career library publishing fields following investigation santa cruz public libraries use gale analytics demand california grand jury reported june 24 use data analytics tools libraries potential threat patron privacy trust linkedin learning acquired lyndacom 2015 recently announced users platforms online training programs required create log linkedin account access content new terms service would also apply lyndalibrary users access platform library subscriptions following yearlong test tor imprint macmillan today announced twomonth embargo sales new ebook titles libraries across imprints within past month hachette book group replaced perpetual licensing model libraries twoyear ebook digital audiobook lending model simon schuster eliminated perpetual licensing digital audiobooks replaced twoyear licensing announced percirc pricing select ebook titles made additional changes library ebook model audiobook provider blackstone publishing announced new 90day embargo sales libraries vendors years american library association annual conference washington dc launched new products debuted significant updates announced winners grants awards items lj opportunity learn person sunday june 23 library ideas debut immersive reality books new line childrens nonfiction titles featuring integrated virtual reality augmented reality content ex libris today announced acquisition rapidill resource sharing system developed colorado state university libraries provides 330 academic libraries united states canada asia australia new zealand interlibrary lending services articles returnables open access materials establishing archivists hope become recurring comprehensive training program indiana university libraries moving image archive hosted first biennial audiovisual archival summer school may 13–26 collaboration international federation film archives coordinating council audiovisual archives associations students researchers face many challenges theyre searching information one biggest sifting sheer volume search results query generates honing specific resources relevant work libraries already catalysts communities many ways look forward finding youre leveraging strengths plan future want explore oclc members help transform organization better serve wider community library users around world today future hope youll join us regional conference nearest panorama project—a multipartner library publishing industry initiative research impact libraries book author discovery brand development retail sales—this week announced launch panorama picks free program offering librarians publishers booksellers topline assessment regional library demand recently published ebook titles collaboration harvards library innovation lab metalab gives library patrons control light sound work space cost textbooks continues rise college university students citing increasing difficulties comes paying class materials library journal 2019 textbook affordability survey sponsored taylor francis group asked academic librarians acquire digital print materials libraries textbook cost challenges faculty collaborations trends possible solutions mcgrawhill cengage may 1 announced allstock merger paul gazzollo senior vp global general manager gale publishing cengage company told lj libraries expect business usual gale kitchener public library ont serves city 252000 people one missions community ignite conversations premier 85 queen series takes place named flagship central library location features indepth events reading bigname author interview conducted experienced journalist screening controversial film panel experts discuss appearance famous musician full concertstyle performances storytelling spring huntsville–madison county public library took term maker space different level—more specifically world—when unmanned spacecraft flew parts project created madison branch international space station internet archive seeking partners open libraries project recent contributors include trent university donated 250000 books last year renovation bata library longtime project partner boston public library bpl donated sound archives digitization 2017 earlier year oclc published great list based original research library 100—top novels time list novels libraries shelves others demonstrating growing institutional commitment virtual reality augmented reality also known extended reality xr technology educational applications nevada state library archives public records continued expand nv xr libraries pilot program scientists center philology digitality juliusmaximiliansuniversität würzburg bavaria germany made significant contribution optical character recognition field release ocr4all open source tool converts digitized historical prints computerreadable texts error rate less one percent artificial intelligence ai machine learning technology transforming whole host industries healthcare marketing finance—and potential academic libraries since ebooks first emerged way readers consume content digitally publishers authors required content aggregators apply digital rights management drm technology ebooks sell libraries prevent unauthorized use copying redistribution materials practice given publishers authors peace mind sales wont lost piracy unauthorized sharing placed undue restrictions readers rely institutional access ebooks internet forever changed nature academic research part broader information literacy efforts toledo lucas county public library recently installed newsguard free web extension firefox chrome edge browsers librarys 750+ public staff computers youve already encountered frictionless word may hearing libraryland want deliver good experiences librarians may want think twice eliminating friction wrote oclc next last year container collapse many people hard time evaluating value online research results students think able identify highquality materials important also believe good it—though findings suggest actually arent recent research though indicates librarians make difference university rhode island uri opened new artificial intelligence lab first floor robert l carothers library learning commons last september 2018 uri president david dooley said lab technology center place ideas discussion debate broward county library fl begun loaning augmented reality virtual reality headsets nine 38 branches new pilot test merge labs tech startup focused primarily k–12 education market wednesday february 20 center urban future held latest symposium public libraries fit nycs tech skills–building ecosystem ? funded charles h revson foundation hosted manhattan campus technology educator general assembly meeting convened library innovators tech trainers educators city officials partners range fields explore role libraries critical part pipeline technology job market librarians eager steer patrons toward library collections appreciate opportunities collaboration tool provides although grant papers available original form online library congress quality readability works text userfriendliness make excellent alternative researchers take problems cut across many different fields geographies academic research becoming multidisciplinary nature month 's professional media reviews include excellent tool training planning sessions library staff boards government officials useful strategies ideas library administrators marketers solid playbook managers overseeing types projects ive talking linked data lot lately say oh thats five minutes ago lets frame linked data technologies principles technology trend libraries continues get deserves extra attention im naturally skeptical libraries try apply new technologies longsolved problems thoroughly convinced library needs linked data platforms roundup excellent subscription databases reviewed lj 2018 grand prairie library system recently launched epic reads new library vending unit city 's massive new recreation center epic 's better free ? resident infodocket guru curates 2018 's best gratis reference sites apps washington state convention center exhibit hall hive activity american library associations midwinter conference seattle last month vendor announcements lj opportunity hear person librarians discussed wide range emerging opportunities challenges library information technology associations top tech trends panel american library associations midwinter conference age inaccuracy disseminates click mouse reliable reporting vital ever widely varied databases pay tribute history journalism proquest yesterday announced launch proquest one academic new resource utilizes single user interface offer access proquest central academic complete collection alexander streets academic video online collection proquest dissertations theses global database learn math behind determining number congressional seats state united states american mathematical society publisher mathematical moments program promotes appreciation understanding role mathematics plays science nature technology human culture students sustainable agriculture learn concepts techniques need practice promote farming environmentally sound well profitable according college board organization connects students college success opportunity citing irreconcilable disagreements publisher elseviers business model editorial board journal informetrics january 10 unanimously announced resignation subsequently launched new journal quantitative science studies successfully migrating new library services platform fall 2017 ithaca college library collaborated implement course reading list tool january 2 18 nueces county keach family library robstown tx hosting glass room experience special exhibition designed spark discussion personal data online privacy whether youre librarian scientist student general consumer seeking research work relevant information sources seem plentiful especially since internet made easier ever discover share content however harder becomes find need academic libraries something remarkably well take information published variety formats worldwide make easily searchable accessible students faculty researchers growing number institutional leaders asking academic librarians take skill sets apply challenge making universitys research assets easily discoverable among broader research community ? academic libraries video trust alvt week announced six universities joined organization founding benefactors project live videotrustorg facilitate preservation commercial video content available exclusively vhs obsolete deteriorating formats itu international telecommunications union itu united nations specialized agency information communication technologies icts estimates end 2018 512 per cent global population 39 billion people using internet panorama project—a multiyear library publishing industry initiative focused researching impact libraries book author discovery brand development retail sales—released first report last week indicating recent national library promotion led significant sales increase promoted title library congress lc last month launched crowdlocgov new crowdsourcing platform improve discovery access librarys digital collections help volunteer transcription tagging librarians committed equity access fostering community engagement provide access engagement burgeoning population older adults experience vision andor hearing loss population go underserved right noses ? copyright experts begun building framework controlled digital lending cdl recent publication white paper official position statement initially supported forty individual 24 institutional signatories including major academic public library systems library consortia califa group legal scholars organizations internet archive mit press mit media lab recently launched knowledge futures group kfg firstofitskind collaboration major academic publisher academic lab create share research information google generation digi natives generation z – newest generation todays college students arrived library bringing paradoxical challenge community leaders public servants modern librarians play increasingly vital civic role information age proquest today announced development rialto integrate features capabilities ebook central oasis leganto within ex libris alma cloudbased library services platform named rialto bridge venice italy company describes product bridge gaps current selection acquisition processes academic libraries greatly simplifying workflows alma users kent district library mi launched bookmark customdeveloped prehire screening tool designed help assess job candidates likely succeed patronfacing library positions adam matthew digital sage company launched quartex digital asset management solution designed help libraries showcase archival collections september 5 institute museum library services imls awarded 50000 grant new mexico state library nmsl libraries lead creative economy initiative funding advance libraries launchpads multipartner program designed enable small rural tribal libraries across state serve economic development centers help entrepreneurs bring business ideas fruition effective october 1 penguin random house prh changed licensing terms public library ebooks discontinuing longstanding onecopy oneuser perpetual license model establishing twoyear access model ottawa public library canada last month selected top 10 innovator urban libraries council new express ebooks program university north alabama quite proud firstyear library instruction sequence built years hard work testing various ideas components constant reflection assessment nonprofit human rights organization amnesty international chosen digital preservation company preservica create global digital archive allow amnesty migrate preserve provide access half centurys worth records legal requirements growth dedicated positions enhanced technology helping academic libraries make content accessible september 25 university rhode island opened artificial intelligence ai lab first floor robert l carothers library learning commons many universities launched ai labs recent years uri officials believe first facility located university library new york public library nypl introduced insta novels august 22 posting newly digitized illustrated version alices adventures wonderland lewis carroll official instagram account concept immediate success following two years development gale launched digital scholar lab dsl cloudbased text mining natural language processing solution facilitates analysis raw text data optical character recognitionocr text 160 million pages gale primary sources content absorbing read recommended introduction space exploration subject enthusiasts update tor 's four month embargo selling new ebooks libraries offer students opportunity explore create ar content group librarians north carolina state university libraries curated art augmented reality 3d interactive exhibit james b hunt jr library us district judge robert lasnik monday extended ban online publication digital blueprints used manufacture guns 3d printers computer numerical controlled cnc milling machines since growing number us public academic libraries provide access 3d printers cnc milling machines part maker spaces fab lab workshops case drawn attention library field university california berkeley law library bll last month implemented tind cloudbased integrated library system ils becoming third us academic institution adopt new ils collaboration bll tind completed development new launchready acquisitions serials module part initial contract insta novels program created mother [ independent advertising creative agency ] new york developed partnership new york public library aims make greatest stories ever written accessible every new yorker instagram user according new analysis researchers new york university violence fallen nearly major us cities since 1991 americanviolenceorg supported funding bill melinda gates foundation based nyus marron institute urban management currently provides citylevel figures murder rates 80 100 largest us cities university libraries virginia tech summer became first r1 research library implement koha open source integrated library system ils migrating 15 million holdings former ils ideally inform health listening physicians scientists monitor activity health using wearable technology still fix required rely technology 29 resources help keep collections robust team made digital humanities librarians academic partners developed interactive website visualizes impact trump administrations family separation policys enforcement emerging humanitarian crisis engendered group experts discussed emerging libraryrelevant technology trends ranging quantum computers deployment digital libraries public housing developments library information technology associations top tech trends panel ala annual 2018 booknet canada surveyed 500 canadians age 18 read digital books format preferences book buying price points channels see infodocket infographic link video presentation findings new program launched today new york citys three major library systems give cardholders free admission 33 museums institutions culture pass designed encourage underserved communities take advantage citys cultural bounty let users reserve passes yearread lj's infodocket social media platforms serve virtual complaint window angry consumers higher ed different community members share concerns voice anger online public spaces academic librarians need know handle situations state library ohio launched libraries numbers lbtn webbased data visualization tool enables users create custom infographics individual library systems using data drawn institute museum library services imls public library surveys northeastern university neu launched boston research center addition library focus interdisciplinary studies bostons history growing trend year library school graduates report working librarians outside libraries ljs annual placements salaries survey last week library freedom institute launched program designed help librarians become advocates online privacy created library freedom project partnership new york university automated systems helping libraries move staff patronfacing work manufacturers innovate new design features technology automation vendor bibliotheca launched open+ access security solution enables libraries expand open hours times library unstaffed us launch follows deployment testing gwinnett county public library ga hennepin county library mn ventura county library ca may 17 global accessibility awareness day idea started 2011 blog post web developer joe devon argued important make site accessible pretty librarians university southern california usc began case study december accessible design library instruction invoke devons humility well call action closely follows path going knowing little gaining knowledge becoming advocates accessibility six projects 2018 aiaala building awards worth good look awards presented year american institute architects aia american library association ala celebrate excellence architectural design help identify trends consider new buildings renovations nylas benchmarking system helps libraries step step attain organizationwide sustainability colorado colleges library renovation added space services facilities achieving ambitious sustainability goals american institute architects aia partners year american library association alalibrary leadership management association llama recognize best library architecture design 2018 aiaala library building awards announced april 6 included public libraries cape cod california flat budgets price increases reliance status journals tenure promotion keep familiar pressures serials marketplace mit media lab expanded beyond academic corporate collaborations join forces public libraries public library innovation exchange plix coordinated media lab learning initiative mit libraries supported grant knight foundation hoopla digital last week announced agreement ebooks2go add thousands educational ebooks homeschooling materials digital content platforms service offering library patrons access shell education time kids content teacher created materials publishing well ebooks resources boys town press recorded books rbmedia company launched enhanced rbdigital app enabling library patrons use single interface access audiobooks ebooks magazines comics streaming video educational content games led district columbia public library libraries helping patrons save mementos—and learn basics digital preservation process comprehensive program 13th annual electronic resources libraries erl conference featured presentations danah boyd robyn caplan data society research institute smartphones become ubiquitous libraries vendors responding new apps features mobilefriendly websites smart speakers becoming part us households theres lot public needs know libraries well positioned help oclc last week announced wise integrated library system ils currently used 75 percent public libraries netherlands become available library systems united states beginning summer virtual reality fast reaching mainstream tipping point libraries already facilitating nextgeneration learning environments use college students prefer read print books pleasure conducting research almost twothirds prefer ebooks express format preference according library journal 's 2018 academic student ebook experience survey sponsored ebsco google analytics lot configuration options webmasters love purposes user privacy however two configuration options pay attention ip anonymization option display features option photo spurred marian fragola create making space series north carolina state university ncsu part study librarys gaming spaces student snapped picture looking one rooms body reflected glass [ ] captured feelings welcomed says fragola director program planning outreach photo brought home fragola colleagues issue womens underrepresentation maker movement tech academic librarians seek engage open education resources oer textbook affordability initiatives naturally concerns impact campus bookstore start considering build better relationship named school library journals 2015 school librarian year could considered crowning achievement school librarians career kristina holzweiss one rest laurels anything honor heralded inventive farreaching initiatives 15 years elementary school classroom teacher fran glick enrolled masters degree program instructional technology concentration school library media moment entered program inner librarian awakened says today access borndigital federal government information relatively easy even available free legal guarantees ensure information published today available tomorrow gpo reform act 2018 introduced congress pitched modernization government publishing office gpo federal depository library program fdlp actually endanger longterm free public access government information 2015 five years omaha public library opl rebecca stavick launched space blend community technology library digital workshop innovation playground touted first technology library united states first time emma hernández encountered term digital inclusion application nonprofit technology network ntengoogle fiber digital inclusion fellowship oneyear program emerging leaders digitally divided communities improve digital access i…realized words described difficulties faced lifelong member digitally disconnected masses says jason johnson started spokane county library district scld 2004 saw day job—one allowed concentrate music creative endeavors moved eastern washington pursue hes rock musician years mostly playing band buffalo jones eulogy un canto sin letras una memoria—inexpresable david lopez wrote poem eulogy june 2016 shooting gay nightclub pulse orlando fl appeared website brillantina project online poetry anthology lgbtq+ writers lopez created response massacre spaces healing exist create show world says lopez mfa creative writing well mlis nathaniel rasmussen leading charge central pennsylvania install wifi help hot spots using tv white space nine regional parks rasmussen team schlow centre region library deploy first three four locations june 2018 offer open internet access residents homework portal public school students centre county pa middle school says kristina spurgin taught code basic repurposed address book application came tandy radio shack 1000 ex subject index parents national geographic collection—for fun spreadsheet tells start making bread given time want eat bread whether chilly neutral warm inside unsurprisingly spurgin meticulous describing initiatives leads job improve upon existing processes enable work previously impossible past eight years trevor owens moved library congress lc institute museum library services imls back lc common thread runs role however ability see big picture think strategically digital materials policies surrounding owens rare capacity convert critical intellectual engagement challenges libraries face practical guidance resonates wide range librarians says nominator thomas padilla visiting digital research services librarian university nevada las vegas longtime lj video reviewer 2004 video reviewer year ellen druda best known long island decades work everadaptive always innovative technology specialist although druda earned mls 1976 career began media first cbs news upstart mtv network loved cameras editing equipment remember feeling bristly female tech area says new hampshire state library nhsl ramps efforts buy new interlibrary loan ill software first time since 2002 librarians across granite state continue using phone calls email workarounds keep patron requests almost three months aging statewide system finally crashed good onethird 37 % academic library materials budgets go database subscriptions electronic reference materials followed journals serials 23 % print books 22 % ebooks 11 % mediastreaming media 5 % according academic library collection development survey 2017 conducted ljs research department sponsored ebsco book holdings still weighted toward print survey respondents average describing print 603 percent overall collection ebooks 397 percent library information technology associations lita top tech trends panel held american library associations 2018 midwinter conference denver co included discussions ai drones personalization privacy embedding libraries academic learning processes high mount rainier ? question one remember reference class scavenger hunt assignments way back masters program indiana university also one first questions asked new amazon echo holidays experimented alexa virtual assistant following year preparation testing library information resources network lirn implemented muse proxy member libraries new customizable multiplatform proxy server simplify work lirn help member libraries offer students faculty seamless access licensed databases resources campus whats hot whats much cost ? thats lj first asked two decades ago launched annual bookbuying survey us public libraries todays media mostly horizon survey initially dwelled print library purchasing power main thrust survey takes evershifting funding borrowing data evergrowing range materials greater focus circulates 13th annual electronic resources libraries erl conference returns att conference center university texas austin march 4–7 offering attendees range presentations electronic resources management seven tracks licensing collection development organizational strategies external relationships user experience ux scholarly communications library publishing emerging technologies trends sterling heights public library mi offering brainhq online suite gamified brain training exercises available libraries demcos partnership posit science component yearlong community initiative called exercise brain digital science debuted dimensions free core version platform delivers oneclick access nine million open access articles 860 million abstracts citations intel corporation week acknowledged two serious processorlevel security vulnerabilities—named meltdown spectre—that affect virtually computers manufactured past decade contain companys market leading cpus processors manufactured arm amd may also affected spectre reportedly difficult flaw exploit ebsco information services bibliolabs launch opendissertationsorg open access initiative facilitate discovery electronic theses dissertations beginning early year king library miami university mu oh recently debuted stateoftheart esports arena prominently located librarys first floor developed partnership universitys armstrong institute interactive media studies aims services department new facility home miami redhawks esports program attained varsity status 2016 recent introduction ios 11s arkit apples software development kit creating ar apps patrons likely see variety new apps combine virtual actual useful innovative ways spotlight take look arkit well ar vr virtual reality apps services currently scene clear need collaborative creative community spaces branches ontarios hamilton public library hpl two objectives provide customers services technology couldnt easily access home support citys growing arts innovation community federal communications commission fcc today passed restoring internet freedom order rifo overturning 2015 open internet order regulatory framework established obama administration gave fcc power enforce net neutrality defining broadband internet utility similar electricity water requiring internet service providers isps comcast verizon att treat data traffic internet equally speakers ithakas next wave conference held new yorks roosevelt hotel november 29 made case work colleges universities must take want improve national educational attainment conference innovating adapting address todays higher education challenges looked new approaches variety angles administration classroom research alignment leadership library given particular attention group led san jose state university ischool sjsu director sandra hirsh sjsu lecturer susan alman exploring library field could use blockchain open source secure distributed database system originally developed validate record bitcoin cryptocurrency transactions funded recent 100000 grant institute museum library services imls sjsu planning online library 20 conference topic june 7 2018 blockchain national forum mid2018 library congress lc recently launched labslocgov new online space facilitates creative use librarys digital collections adam matthew digital last month announced launch handwritten text recognition artificial intelligence technology enables fulltext searching digitized handwritten manuscript collections public interest virtual reality vr technology rise people view vr apps latest smartphones using headsets inexpensive 1299 google cardboard highend pcdriven headmounted displays available 600 less growing number realistic games educational field trip applications available transport users living rooms classrooms immersive environments update ala presidentelect loida garcíafebo told lj disaster relief organizations library groups like reforma national association promote library information services latinos spanish speaking still assessing damage ala established contact university puerto rico library puerto rican chapter reforma—the organizations largest—she reported beginning gauge needs overdrive enabling google display library ebooks prominently open web search results announced tweet last month google reported media outlets including slate fortunecom theverge new feature displays borrow ebook option highlighting searched title linking libraries within users geolocated range librarians always lookout opportunities improve user experience great idea time plan focus groups help uncover attitudes experiences opinions group discussion academic libraries always enabled access books monographs journals resources datasets emerging new type content collection analysis many libraries helping students faculty acquire datasets hosting create debuting innovative services assist graduate students faculty expressing findings effectively data visualization turn make libraries increasingly relevant departments campuswide fall new york university nyu partnership library freedom project seeking applicants library freedom institute lfi new program train 40 geographically dispersed librarians privacy advocates wifi hot spot lending help bridge digital divide addressing persistent problem lack internet access home among lowincome families without access students often unable complete homework online component parents cant effectively job hunt apply government ­services group middle schoolers wilmington nc chance share discovery rare primary source documents transcribe get upclose look digitization process north carolina may aspiring archivists ready help preserve past lj recently caught carl grant associate dean knowledge services chief technology officer university oklahoma ou libraries discuss ways library helping faculty incorporate virtual reality emerging technologies research coursework well recent remodeling projects high tech new collaborative spaces play key roles ous effort make library intellectual crossroads university library shelves long presented opportunity patrons escape real world pages good book libraries california visitors travel whole new reality well virtual reality least collections transition digital print finds way remote storage sites profession respond research favors print digital reading comprehension learning meeting student preferences ? second quarter 2017 facebook grew two billion monthly active users including 236 million united states canada—twothirds combined population countries according recent report forbes twitters growth slowing somewhat number average monthly active users platform grew five percent yearoveryear 328 million worldwide q217 according recent report techcrunch instagram doubled user base past two years reaching 700 million monthly active users spring social media people online libraries need measure future open source open hardware project enables libraries collect analyze data regarding physical space used soon deploy new sensors libraries participating public beta launch including meridian library district mld id state university new york potsdam new york public library university boston law library carnegie library pittsburgh overdrive soon launch feature new libby ebook audiobook app enable new patrons sign library card using smartphone tablet confirming residency requirements without requiring visit library branch students returning pennsylvania state university psu fall find four new short story dispensing kiosks installed libraries across campus along website submitting original stories distribution kiosks developed short édition grenoble france kiosks simple interface allows users select story takes one three five minutes read story printed narrow piece sustainablysourced thermal paper size large receipt pltw president ceo new york times bestselling author vince bertram edd publishing dream differently candid advice americas students regnery month recently spoke lj changing us approach stem education students better navigate transition school college careers public academic k–12 libraries help along way lyrasis last month named first recipients 100000 lyrasis leadership circles catalyst fund created support new ideas projects lyrasis members chromebook deployment targeted maker spaces open source disruption improving institutional social media practices among topics discussed library information technology associations top tech trends panel american library associations annual conference june 25 working ntengoogle fiber digital inclusion fellow san francisco public library sfpl observed profound digital disparity bay area despite center technology innovation effort bridge divide partnered community organizations host first san francisco digital inclusion week diw may 2017 world wide web always evolving user expectations constantly respond prevailing trends navigation habits become conditioned content management system cms templates common screen layouts search bar locations menu designs shape people use popular websites libraries keep pace two years chicago public library cpl brought free online courses adult learners via learning circles program partnering peer 2 peer university nonprofit organization facilitates learning outside brickandmortar classroom cultivating highquality lowcost learning online program helped 225 participants complete classes since 2015 topics ranging personal finance writing skills american library association ala annual conference held year chicagos mccormick place convention center june 2227 included number announcements product launches library vendors lj opportunity learn person library staff folks love talk books people reach inspire happier also love talk libraries place society share ideas make libraries better place users library ideas developer freading ebook freegal music solutions libraries launching gochip beam new type device lending movies television series gochip beam device contains small wifi router rechargeable battery solid state storage preloaded five feature length movies entire season television series enclosed 35″ x 1″ stick measuring outcomes vital aid justifying library work voters funders stakeholders—as well determining strategic direction—but also overwhelming marmot library network developed digital archive repository solution enabling member libraries showcase digitized collections images postcards books magazines videos recorded oral histories music academic research users discover archive content throughout multitype consortium simple catalog search serving senior citizens long core mission libraries traditionally services often focused delivering materials homebound yet todays active often techsavvy elders want different things driving libraries rethink paradigm service older adults even cant get library creative application innovative technology delivering education imagination human connection well books overdrive announced last week simon schuster audio baker publishing lerner publishing making ebooks audiobooks available licensing overdrive platform via costpercirc cpc model later year maker spaces libraries become increasingly common often backed grants institute museum library services imls—and maker activities without dedicated space even so—anyone follows professional literature conference presentations surely aware buzz around making much buzz represent widespread practice precisely offerings consist ? millersville university caltech recently implemented library systems developed tind commercial spinoff european organization nuclear research cern tinds suite solutions based cerns open source invenio digital library framework aiming raise awareness maintain momentum preservation efforts focused publicly administered data inaugural endangered data week kicked april 17 ultimately featured 50 presentations panels projects us spain australia topeka shawnee county public library tscpl ks call website digital offerings social media channels digital branch want everyone shawnee county able access digital content services library offers customers part effort bridge digital divide broward county library bcl fl partnership tmobile countys enterprise technology services division careersource broward school board broward county launched twoyear pilot program provide 300 tablet computers data access plans eligible residents broward municipal services district bmsd nonprofit altmetrics pioneer impactstory launched unpaywall free extension google chrome firefox browsers helps users obtain free full text copies open access oa research papers one students telling public library job breaks heart days disconnect technologies management wants us explore implement patrons need want patrons citys vulnerable citizens shift digital delivery serials content profound effect information ecosystem powerful discovery social networking tools expose users incredibly rich world commercially produced open access oa content publishers explored new ways pricing content—such population served fte fulltime equivalent tiered pricing based upon carnegie classification defining criteria—or database model treats content within ejournal package database eliminating need title title reconciliation however end pricing conversation always seems circle back revenue generated annual subscription model theme urban librarians unite ulu 2017 conference held brooklyn public librarys central library april 7 dangerous librarianship—an appropriate designation librarians challenging status quo 186 librarians new york metro area beyond—including attendees massachusetts arizona california—gathered share learn advocacy social justice alternative service models privacy leadership 2017 conferences held association college research libraries acrl electronic resources libraries erl march april respectively covered trends ranging diversity emerging technology facebook live video streamed facebook archived afterwards libraries need get started smartphonetablet facebook app webcam attached computer running google chrome browser time ago working small state university library approached english department asking knew way putting biannual student journal online publication coming periodically approximately 15 years contained essays poetry short stories written graduate undergraduate students faculty occasionally assigned articles required reading frustration cost ils lsp systems limited number options academic library market understandable year 's library systems landscape feature folio argues positive disruption status quo ongoing enhancements vendors established open source solutions present headwinds newcomer academic librarians concerned decreasing number competitors integrated library system ils library services platform lsp market many dissatisfied current ils lsp according results recent lj survey annette harwood murphy became pioneer library technology 1975 cofounder library corporation tlc murphy currently presidentceo chair board tlc ceo tech logic companies continued innovate library heart community offering opportunities lifelong learning fostering connections among neighbors local businesses civic services educational institutions thats message library connections professionally produced twominute animated commercial public libraries recently created sirsidynix equinox software support service provider evergreen integrated library system ils founded two original evergreen creators mike rylander jason etheridge january announced company become equinox open library initiative nonprofit corporation serving libraries archives museums cultural institutions news brief autographics axiell group bibliocommons biblionix book systems civica companion corp follett lucidea mandarin ransomware attacks government offices civic agencies schools rise include january 19 attack st louis public library slpl ransomware form malware encrypts files computer network individual organization responsible attack demands ransom generally paid anonymous bitcoin account provide key necessary decrypt files recently teaching privacy class librarians topic turned privacy versus convenience tradeoff—the occasional annoyances using privacyenhancing technologies online audience member laid felt asking group youre telling us start selling granola everyone else running candy store cable internet service provider cox communications teamed american library association public library association three pilot libraries launch new digital literacy website erik berman subscribes teen run teen led mentality according senior librarian sharon fung san josé public library sjpl works tirelessly get know teens build confidence guide taking active role library hand hand local teens professional designers berman responsible creation new teen center teenhq san josés central dr martin luther king jr library ann schoenenberger knows value community personal connections people kenton county ky partnerships local maker community web developers tech companies helped almost 1000 people learn new skills steamrelated science technology engineering art mathematics classes groups raspberry pi arduino python organized kenton county public library kcpl libraries always looking ways engage connect patrons understanding shift traditional public relations pr todays customercentric digital marketing landscape become key successful engagement want web stream story times ? youth services department fayetteville public library ar hoped make events available parents children couldnt get library patrons response fantastic content divided seven distinct tracks—managing eresources licensing collection development assessment organizational strategies external relationships user experience promotion scholarly communications library publishing emerging technologies trends—the annual erl conference austin tx offers attendees deepdive presentations case studies panel discussions every aspect electronic resource management erm australias western sydney university wsu collaboration proquest announced february 12 begin providing firstyear students nocost access digital textbooks wsus library course fall semester opportunity visit handful classes speak news literacy began posing question news media take sides ? though small sample nearly 100 percent students polled distrusted media found wariness mainstream media echoed throughout classes visited — campuses ranging rural humphreys county miles outside downtown nashville—as quizzed students news habits although every library would benefit running usability studies every library dedicated staff available conduct studies anecdotally librarians seem feel incapable undertaking usability studies reasons including time budget expertise many libraries work local cultural institutions provide patrons free reducedcost access print passes checked inhouse patrons like resources complete circulation limits due dates fines software companies simplifying pass management webbased tools help patrons discover check museum passes event tickets make reservations lita top tech trends panel ala midwinter covered augmented reality virtual reality trends teaching technology gamification community driven technology innovation support changing needs faculty students researching mass media popular culture video games university north texas unt media library denton began developing game collection 2009 collection first included console games inhouse access gaming pcs grew include tabletop games 2010 virtual reality vr headsets devices natural fit included vr equipment wish list 2015 finally funding oculus rift dk2 350 andrew w mellon foundation ukbased nonprofit digital preservation coalition dpc november 2016 announced formation task force technical approaches email archives navajo nation library nnl working secure funding necessary digitize catalog thousands hours stories songs oral histories navajo people originally recorded 1960s navajo culture center office navajo economic opportunity oneo new york public library nypl bigfive publisher macmillan reached agreement see macmillan release childrens adult books inspired sourced library making nypls famed collection available broader audience leveraging tv white space tvws—unused licenseexempt portions radio spectrum traditionally allocated television broadcasters—could expand broadband internet access rural areas san jose state university sjsu school information partnership gigabit libraries network gln assessing ways libraries whitespace project bookrich environment initiative serve children living hudassisted housing—and encourage families use local libraries us doe national book foundation among new project 's partners already feel behind im early adopter want place drawn newest shiniest tech ? read email lis student expressing concern finding way discussions applications emerging technologies field place replied requires shifting perspective bit looking beyond technology november 18–20 american museum natural history amnh hosted hack stacks solutionbuilding event 100 developers programmers others passion computer science worked overnight develop innovative solutions challenges faced modern libraries archives goal animate organize enable greater access increasing body digitized content produced amnh library library nonprofit organization created digital library solution designed deliver ebooks highquality educational materials children readers developing countries recently honored empowering people award global competition held siemens stiftung foundation designed find innovative technology solutions currently improving peoples lives developing world united states—and world—prepare january 20 2017 presidential inauguration libraries institutions citizens joining forces identify federal government websites captured saved end term eot web archive mid1970s advent vhs format revolutionized ability libraries collect loan film collections developed 25plus years formats dominance present impending crisis aiming help faculty graduate students learn essential coding skills facilitate research university oklahoma libraries ou offering twoday handson workshops developed software carpentry team behind chronicle—a new collaborative platform community designed photographers—has approached several libraries past six months participate closed beta release platform users add recent photos scanned archival prints platform via app web interface collected chronicles focused specific locations events themes theres slow fire burning threatens destroy libraries irreplaceable materials paperbased books records danger degradation construction also improper storage cleaning treatment acid lignin sulfurfree papers largely replaced fragile wood pulp–based predecessors subject cracking yellowing disintegrating still danger acidfree materials—mostly manufactured 1990s—experiencing acid migration come contact highacid documents acid inks pollutants chemicals bibliotech digital library bexar county tx recently added via metropolitan transit provides 396 million bus trips annual throughout county growing list local partners help patrons discover access library ebooks content court justice european union cjeu making interesting decisions could affect libraries weeks ago liability hyperlinking week ebooks lending chattanooga 's startup week october 3–7 chattanooga public library cpl hosted longdistance music collaboration visiting international onebeat fellows worlds foremost music diplomacy program miami fl–based fellows new world symphony america 's orchestral academy using ultrahighspeed connectivity internet 2 low latency lola software inside library longdistance live event one kind featuring young gifted musicians world locations performing together 700 miles apart halloween night friends trustees new york public library nypl got treat didnt require costume librarian congress carla hayden nypl president tony marx sat together lively hourlong discussion research preservation digitization haydens plans library congress lc influence hamilton walking stories 's vital librarians learn art listening story… says irvin assistant professor library information science program university hawaii manoa [ need ] willing share stories best relate patrons communities stakeholders international digital publishing forum idpf trade standards organization responsible epub standard ebooks october 14 asked members begin voting proposed merger world wide web consortium w3c international organization oversees standards web voting currently scheduled continue november 4 october 19 online petition launched demanding voting stop beginning publication freedoms journal samuel cornish john brown russwurm 1827 us newspapers periodicals written distributed african american journalists publishers 19th 20th centuries played vital role giving voice black communities chronicling ultimately preserving history perspective communities product spotlight showcases subscription databases extensive historic black newspaper collections well selection free resources made available library congress lc us national archives records administration nara institutions lj mover shaker willie miller first got hired indiana universitypurdue university indianapolis informatics journalism librarian 2010 rare commodity young person ear ground social media taste library science university michigan library um launched deep blue data open repository sharing archiving large datasets generated um researchers soft launched february officially announced september deep blue data complements universitys longrunning institutional repository deep blue part suite research data services library developing um faculty students academic database streaming media publisher alexander street beta testing open music library oml new online resource eschew database paywalls enabling nonsubscribers discover use highquality open access public domain content contributors library congress lc british library bl offering subscribers seamless experience discovering using free forfee content together nicholas carr journalist cultural technology commentator professional skeptic issues internet social media potential consequences love affair technological progress 2011 pulitzer prize finalist written numerous articles essays contributions blog rough type five books including shallows internet brains recent collection pieces 2005–15 utopia creepy provocations norton carr opening keynote speaker lj school library journals virtual conference digital shift october 19 lj recently caught find libraries fit thoughts wired world data transformation transparency resident input remaking civics know academic libraries continue add ebook collections ebooks becoming preferred format reference materials many students still prefer read study monographs textbooks print according ebook usage us academic libraries 2016 survey conducted library journal sponsored gale cengage learning partnering sprint charlotte mecklenburg library allowing students dont wifi home check portable hotspots focus deeper understanding relational nature learning says brigid barron associate professor school education californias stanford university faculty colead learning informal formal environments life center barron colleagues explore importance social learning environments national science foundation–funded project core lj mover shaker ludmila mila pollock archivist executive director library archives genentech center history molecular biology biotechnology cold spring harbor laboratory forefront preserving annals scientific breakthroughs—through stories people made classes began brooklyn ny campus long island university liu september 7 students found professors barred campus replaced alternate instructors contract stalemate liubrooklyn faculty management resulted unprecedented lockout 400 faculty members administration days new semester began thanks coordinated protests faculty students support liu faculty federation liuff however 12day lockout ended sixhour negotiating session september 14 kobo september 30 launch aura one dedicated ereader promises seamless searching oneclick downloading library ebooks via overdrive using review unit provided kobo personal new york public library nypl account lj explored process community centers libraries always looking new ways offer educational programming libraries fortunate enough incorporate complete maker spaces buildings n't funding space lost using existing areas help community members libraries easily host tech camps coding robotics patrons smartphone ownership quickly becoming norm smartphones become primary internet access point low income consumers 's look emerging trends libraries adapt growth launching apps responsive websites teams north carolina state university ncsu students faculty staff using professionalgrade covert camera traps track wildlife activity universitys 2100 acre campus part wolfpack citizen science challenge connecticut state library csl working nonprofit cooperative library connection ferguson library stamford ct first phase new ebook service ultimately available public libraries state request snoisle libraries wa overdrive developed demanddriven acquisition dda model popular ebooks enabling patrons discover thousands titles library yet purchased license user checks one titles snoisle invoiced ebook added librarys collection transaction appears seamless patron library unquiet history historian curatorial fellow harvards metalab matthew battles describes melvil deweys impatience inefficiency library work 1870s dewey local interests special needs less important efficient movement books hands readers writes crisp statement purpose inspiration current discussions around making library collections programs visible available web whats expensive provide seems never enough go around college campus ? theres reason students always complaining librarys wifi developed university oklahoma libraries ' innovation edge staff launched early year new oklahoma virtual academic laboratory oval already hosting interactive coursework students enrolled architecture interior design chemistry biochemistry art history english journalism library information science classes library holdings useful theyre findable print collections least even recommending relevant titles ultimately falls short theyre right shelf however process finding things properly shelved timeconsuming never ending materials continuously moved even dont circulate outside building task often handled support staff interns volunteers singapores national library board new alternative library robot developed researchers infocomm research branch singapores agency science technology research always american library association 's 2016 annual convention included many announcements product launches library vendors 's roundup news year 's show floor new york public library nypl july 12 announced launch simplye new app tablets smartphones employs single interface browsing borrowing reading ebooks multiple different vendors well public domain ebooks enabling patrons discover start reading library ebooks three clicks initial version app fulfillment goal set two half years ago nyplled library simplified project 's pikachu ? libraries connecting patrons wildly popular new virtual treasure hunt uses geolocation—and game raises privacy concerns discussion years library information technology associations lita top technology trends panel american library associations ala annual conference orlando fl spanned topics ranging online privacy superfast application development near horizon lita revamped session format year interactive rather offering individual trend presentations panelist quickly summarized one trend theyve following participated discussions sparked questions moderator maurice coleman technical trainer harford county public library md host longrunning training podcast debates emerging long libraries support old devices tech trends may overhyped within library field north carolina state university libraries stewardship lj mover shaker jason evans groth belief harnessing power imagery sound build research important wellorganized nonwritten piece communication research 're invested hasnt lost value says groth user experience librarian digital media anything 's valuable — research one person 's daydream unless 's accessible detect hint artist groths characterization research theres good reason key point led off—and reiterated several times throughout—strategies partnerships tailoring data services institutional needs acrl association college research libraries presidents program recent american library association ala annual conference orlando fl importance establishing common understanding exactly data services means term catchall diverse set activities using without defining scope become problematic everyone involved join us hear representatives public library cincinnati hamilton county large urban library 40 branches across county staff member central library consortium representing individual member libraries central ohio share libraries successfully connected users new spaces whether library actively shifting way services offered looking new ways partner community organizations trying evaluate success recent changes youll take away insights forwardthinking public libraries experience view demand june 25 session ala annual conference orlando john bracken vp media innovation knight foundation said foundation focused three key questions working libraries done foster crossdiscipline collaboration possibly learning projects civic sectors code america 18f knightmozilla opennews collaboration community put even robustly center foundations work foundation help libraries tell stories wider audiences ? succeed particularly time reduced public investment vital tell stories ways people understand breadth work platforms public present listening bracken said proquest subsidiary rr bowker today announced acquisition alexander street leading provider streaming video music well primary source collections almost 4000 library customers 60 countries business known alexander street proquest company continue led stephen rhindtutt current president current management team including eileen lawrence david parker andrea eastmanmullins current headquarters alexandria va linked data consulting development company zepheira partnering several vendors libraries librarylink network project promises make relevant information libraries library events library collections prominent search engine results service aims address longstanding problem worlds library catalogs contain wealth detailed vetted authoritative data books movies music art—all types content bulk library data stored marc records bots major search engines use scan index web generally access records april 11 tony ageh became new york public librarys nypl chief digital officer responsible developing strategy ongoing digital transformation institution includes making collections services accessible possible locally globally ageh recently held variety leadership positions british broadcasting corporation bbc london beginning 2002 created implemented bbc iplayer internet television radio streaming service delivered 10 billion programs british users acted controller bbcs archive strategy partnering organizations british library open data institute digital public space open access approach learning cultural resources new demands made libraries people like ryan litsey document deliveryinterlibrary loan assistant librarian texas tech university library developing new ways meet needs harpercollins took latest step enabling authors readers interact real time give fascinated books publishing insiders view business via live programming using new facebook live app smartphones launched june 6 fivedayaweek programs ranging 1545 minutes exponentially expand authors reach able live stream program home book tour instance posting program facebook page later viewing sharing social media fans well hcs facebook book studio 16 pages connecticuts darien library june 1 debuted new online catalog system sopac3 along mobilefriendly responsive design website integrates seamlessly new catalog features include linked accounts allowing parents see children checked without separate login patron control checkout histories wish lists items catalog stored profile ability register rsvp library events profile screen full integration envisionware ecommerce system used darien eventually library plans release source code entire suite making available free interested libraries last month yale university hosted terror tape interdisciplinary symposium history horror video cheap slasher flicks bygone era may seem bit lowbrow ivy league david gary yales kaplanoff librarian american history writing ­atlantic last summer made compelling case universitys collection 3000 vhs horror movies 1970s 1980s weeks ago skokie public library spl finished fourweek cracking html code build website program using moocflipped classroom mashup fourth iteration class successes failures everything needless say weve learned lot works doesnt academic profile platform selectedworks redesigned recently relaunched librarianfacing faculty support tool enabling academic libraries manage creation organization consistent institutionbranded faculty profiles showcase open access articles scholarly work redesign result change understanding platform used according jeangabriel bankier president ceo bepress developer selectedworks well digital commons institutional repository software suite academic publishing communication products high energy midtown new york gala ujafederation new york honored steve potash president ceo leading library ebook distributor overdrive inc stuart applebaum emeritus executive vice president corporate communications penguin random house ujas annual publishing division dinner held may 24 marked first time organization acknowledged someone entirely dedicated digital content celebration potashs contributions may 16 boards lyrasis duraspace dissolved planned merger announced january 27 executives notforprofit library software service providers told lj four months formal due diligence analysis helped members leadership organizations become familiar one another setting stage future collaboration partners three universities across country joined forces new project documenting supporting scholarly use preservation social media content collect archive provide access twitter feeds chronicling historically significant current events particularly around issues social justice twenty library information science programs begun using free hosted instances koha opensource integrated library system ils instructional resource via koha klassmates program launched bywater solutions children naturally curious world around science programs activities great way capture interest encourage development early literacy skills many science activities materials easy incorporate library programs may find youre already including elements increase stem science technology engineering mathematics knowledge example talking color mixing identifying playing shapes fracking scholarly publishing journal pricing ? library financial landscape improved since depth great recession 2007 2009 still considered robust articles one chronicle annual serials price increases libraries publishers vendors search innovative ways fulfill information needs within finite predefined budget environment new business access models ranging initial ejournal big deal packages article pay per view open access megajournals publisher ejournal database pricing evolved response environment libraries publishers vendors merged consolidated disappeared along way fracking keeps oil gas flowing strategies enable current scholarly publishing ecosystem extract necessary resources—intellectual financial—to survive many libraries archives museums collections textual artifacts longer read multispectral imaging initiative uncovering value cant detected human eye ways previously available largest deeply resourced institutions without take fragile manuscripts offsite april 13 american library association ala google announced libraries ready code project investigate current status computer programming activities us public k–12 libraries goal ultimately broadening reach scope coding programs project include environmental scan practitioner interviews focus groups site visits particular attention focused opportunities libraries providing minorities girls groups currently underrepresented computer science related fields according announcement results project used engagement ala inform computer science policy agenda part ala office information technology policys oitp youth technology program move creates worlds largest single distributor curated content librarians educators 36 billion combined annual sales follett corporation april 18 announced acquisition baker taylor private equity firm castle harlan partners baker taylor continue operate retaining existing management team charlotte nc headquarters george f coe baker taylors president ceo continue lead division new title follett group president baker taylor follett school solutions reporting follett president ceo ray griffith 11th annual 2016 electronic resources libraries erl conference featured dozens sessions workshops topics including emerging technologies eresource management collection development assessment user experience organizational strategies summary includes sessions lj opportunity attend still early development artificial intelligence eventually change work librarians—or make irrelevant likely replaced bots future ? leader rosen publishing assumes key role advancing thinking learning youth digital society year saw evolving process innovation integration iteration companies products morph nextlevel services development launch koha new zealands horowhenua library trust katipo communications 16 years ago creation evergreen georgia public library service gpls 2006 greeted lot enthusiasm library field whether generated inhouse purchased commercial vendor integrated library systems ils always costly theory prospect libraries collaboratively working open source systems held lot promise ways solutions still living early hype company profiles autographics inc axiell group bibliocommons biblionix bywater solutions ebsco information services equinox software follett software company infor library information solutions innovative interfaces inc liblime division ptfs library corporation tlc mandarin library automation inc oclc proquest sirsidynix according recent lj survey majority librarians happy current integrated library system ils library services platform lsp 72 % using commercial system saying satisfied 44 % satisfied 28 % 28 % describe somewhat 23 % completely 5 % dissatisfied similarly 81 % open source ils users say satisfied 43 % satisfied 38 % ondemand streaming media digital comics ebook platform hoopla debuted new 40 interface today public library associations pla 2016 conference denver reflecting feedback libraries patrons new interface includes advanced search feature enabling discovery titles across platforms various formats kids mode feature instantly weeds teen adulttargeted content customize hoopla experience children transition print electronic record keeping made easier less expensive store data search information yet trend troubling implications individual privacy security personal data explained mariko hirose staff attorney new york civil liberties union nyclu privacy toolkit librarians seminar held march 22 long islands farmingdale public library fpl cosponsored greater new york metropolitan area chapter association college research libraries acrl long island library resources council halfday event included presentations hirose library freedom project director 2015 lj mover shaker alison macrina covering topics including electronic surveillance records subpoenas ways libraries protect patrons break better dream lab fab lab studio lab memory lab 's means 's approach transform programs library directors planners determining exactly programs services materials patrons want like hunting mysterious treasure chest filled priceless gems spend time effort digging unearth muchneeded facts uses library ? likely support library polls ? materials circulate frequently geographic area ? socioeconomic status given set patrons ? accessing cache cracks open endless possibilities library development geographic information systems gis might map key hidden treasure december 2014 stepped new role san josé public librarys sjpl technology innovation project manager innovations manager erin berman launched sjpls first maker faire introduced 200 people afterschool stem [ science technology engineering math ] programs believes making empower community help close digital divide statewide 25 percent californians 2014 lacked broadband internet access home according field poll someone walks one libraries says want learn something dont hand book hand tool teach use berman says new teen specialist meridian library district 2011 nick grove drew disengaged afterschool crowd grow program attendance 233 percent three years partly buying teenrelevant technology six 3d printers grove capitalized purchases challenged bored teen read chapter book teen read three rewarded 3d version books logo struggled two months together says grove figure print logo teen became advocate library programs…and bigger advocate book things equal simplest interlibrary loan ill process usually best thats idea behind occams reader software addon oclc illiad work flow solution makes possible academic libraries loan ebooks electronically one another easy access students researchers aberystwyth university united kingdom users soon novel means consulting catalog colleges hugh owen library rather typing request asking reference librarian students led title theyre looking robot access librarys holdings finalist school library journals 2014 school librarian year award colleen graves made mark developing topnotch maker spaces lamar middle school flower mound tx current school ryan high school denton well lesson plans resources applicable many maker spaces graves began career education 14 years ago though english teacher theres never easy way academic librarians establish direct communication channel students fewer students checking email texting better option digital technology solutions provider findaway announced debut playaway launchpad tablet teens adults featuring selection preloaded interactive learning apps brain games comics casual games new line preloaded tablets developed feedback librarians following success original playaway launchpad children debuted april 2015 findaway founder ceo mitch kroll noted tablets start 99 could help libraries bridge digital divide north carolina state university ncsu libraries recently debuted free webbased social media archives toolkit designed help cultural heritage organizations develop social media collection strategies gain knowledge ways peer institutions collecting similar content understand current potential uses social media content researchers assess legal ethical implications archiving content develop techniques enriching collections social media content minimal cost tools building enriching collections include ncsus social media combine—which preassembles open source social feed manager developed george washington university twitter data harvesting ncsus open source lentil program instagram—into single package deployed windows osx linux computers last summer bloomberg businessweek devoted entire issue code ? single article brooklynbased writer programmer paul ford fords breakdown key concepts pulls back curtain fundamentals computer programming makes compelling argument smart person learn basics—and basics worth learning even arent planning become professional coders part case coding new frontier digital literacy theres growing interest type education among kids teens businesspeople career changers generally curious growing number public libraries already responding need within communities heres look ways libraries made programs success ebsco information services month announced partnership penguin random house prh offers publishers entire collection 21000 fiction nonfiction ebook titles leading authors including john grisham mindy kaling paula hawkins toni morrison danielle steel prh ebooks join titles big five publisher hachette well perseus algonquin workman sourcebook lerner publishers ebsco ebooks collections maker movement 3d printing technology catalyze innovation promote entrepreneurship emphasizing making consuming facilitate experiential learning rapid prototyping many library maker spaces also often facility within reach offers open access 3d printing scanning equipment reasons creating maker space patrons often ­attractive project following monthslong analysis exploratory committee boards notforprofit opensource digitization repository software service providers lyrasis duraspace january 27 unanimously approved intent merge agreement two organizations begun seeking input respective members well wider research library archives museum communities part due diligence process determine feasibility combined organization [ ] include deeper assessment individual organizations might partner effectively anne neville knows value open data neville director california research bureau california state library spent last six years directing state broadband initiative national telecommunications information administration washington dc shes passionate digital equity supporting critical work public libraries make information accessible communities thursday february 18th 2016 300 pm 400 pm et 1200 pm 100 pm ptyour library offers thousands ebooks alongside print collection ? ebook investment utilized ? ebooks contributing academic mission ? faculty capitalizing benefits ebooks students know use successfully ? get bottom questions evidencebased management tools curriculum integration planning tips new user experience features improved usability learn peers integrating ebooks institutions engaging faculty driving usage demonstrate value ebook investmentregister knew problems library website fitchburg state university fsu users either couldnt find wanted unaware sites existence particularly problem owing limited number librarians available assist consensus among librarians regarding design problems little agreement problems could ­addressed decided usability testing needed making changes didnt budget develop expensive usability lab oneway mirrors sophisticated eyemovement testing devices like despite little creativity able design solid reliable usability study limited resources new york public library december announced new partnership nonprofit benetech organization 's bookshare solution provide print disabled patrons access 370000 accessible ebooks nypl heiskell braille talking book library although bookshare provides free access collection us students qualifying disabilities award us department education 's office special education programs access collection qualifying adults seniors nonstudents generally requires payment 25 setup fee 50 annual subscription fee partnership provide free access library patrons nypl bookshare 's first partnership us library benetech officials stated organization hoping establish similar agreements public libraries throughout us moderator lisa bunker social media librarian pima county public library az jason griffey founder principal consulting creation firm evenly distributed jim hahn orientation services environments librarian associate professor university illinois undergraduate library jamie hollier coowner coceo technology consultancy anneal alex lent director millis public library thomas padilla digital scholarship librarian michigan state university libraries ken varnum senior program manager discovery delivery learning analytics university michigan library library information technology association 's lita top tech trends panel american library association 's 2016 midwinter conference boston knovel academic challenge enables thousands engineering students universities around world hone research skills competing prizes recognition year group four students drexel university assisted jay bhatt universitys liaison librarian engineering took participation another level designing engineering problem sets used falls 10th annual challenge providing internet access public come important service quite challenge secure costeffective way maintaining patron privacy shared public computer one problems librarians face every day solution switch open source os platform patron computing take home ? question would hear every day hotspot free library philadelphias flp village arts humanities thing question makey makey answer always take home plugging working youth aged seven 18 years old creating computerconnected mazes playdoh homemade dance dance revolution dancepads using copper tape novel game controllers operated licking ice cream colorados mesa county libraries mcl last week launched kickstarter campaign support wild colorado mobile app help users identify colorado mammals birds fish reptiles use geolocation information notify users types wildlife likely vicinity personalize experience adding notes taking photos sharing sightings social media tuesday december 8th 2015 300 pm 400 pm et 1200 pm 100 pm ptanalytics position library better meet needs patrons know exactly isnt using products services affect change focus outreach collections based real community data learn sacramento public library uses powerful insights analytics demand make collection decisions inform staff market targeted groupsregister library journal school library journals october 14 virtual conference digital shift libraries connecting communities always watched surveilled online impacts us librarians attendees reminded government commercial surveillance issue increasing importance libraries users alike librarians need consider issues privacy ever kelvin watson last month named chief innovation technology officer queens library ql new york addition prior position qls vp digital services strategy watsons background includes positions companies organizations including library corporation tlc ingram borders us department agriculture also current president black caucus american library association bcala researchers syracuse university school information studies ischool using opensource social media tracker analyzer collector toolkit syracuse stacks collect analyze social media posts traffic related 2016 presidential candidates part interdisciplinary digital politics project according campus publication october 14 library journal school library journal present digital shift sixth annual virtual conference examining challenges opportunities everchanging digital landscape presents libraries communities years theme libraries connecting communities bring together variety speakers panelists discuss tools services strategies todays libraries need stay connected—to users students stakeholders move combine two worlds largest academic library solutions providers october 6 proquest signed agreement acquire ex libris group private equity firm golden gate capital officials stated proquests information resources expertise electronic resources management pair well ex libriss library automation tools combining span print electronic digital content well solutions library management discovery research workflows according joint announcement demco inc major library supplier acquired boopsie leading library app vendor companies announced today acquisition made via demcos parent organization wall family enterprise completed september 30 terms transaction disclosed october 14 library journal school library journal host sixth annual virtual conference digital shift libraries connecting communities ebsco information services platinum sponsor conference lj reached tamir borensztajn vp discovery strategy deirdre costello senior user experience researcher participate series interviews addressing libraries evolving role using latest technology connect patrons information tools services need—and one another october 14 library journal school library journal host sixth annual virtual conference digital shift libraries connecting communities library ideas gold sponsor conference lj reached jim petersen chief revenue officer library ideas participate series interviews addressing libraries evolving role using latest technology connect patrons information tools services need—and one another decision reactivate tor relay taken offline back online came tuesday night library board meeting vote library trustees lebanon new hampshire relay taken offline letter dept homeland security sent state authorities kilton library [ … ] librarians thriving consistently digital era found way operate node network libraries librarians agents change actively creating future instead constantly reacting it—or worse resisting epadd opensource email archiving processing platform developed stanford university libraries awarded 685000 national leadership grant institute museum library services imls fund project additional three years enabling developers enhance epadds usability scalability feature set partnership university illinois urbanachampaign harvard university university california irvine metropolitan new york library council metro partnership local nonprofit arts media organization brooklyn information culture bric brooklyn public library bpl july opened stateofthe art threecamera television studio coney island branch outfitted equipment including hd cameras tricaster switcher green screen professional lighting audio gear provided bric studio serve set location brics community access television network well classroom regularly scheduled handson studio production courses gale part cengage learning announced january 2014 would offer career online high school cohs public libraries response enthusiastic program developed smart horizons career online education shcoe floridabased distance learning company offers high school diploma accredited advanced accreditation commission career certificate one eight specialized areas study participating public libraries students apply scholarships accepted 18 months complete program—at pace schedule computer broadband connection american library association june 29 2015 american library associations intellectual freedom committee approved new document library privacy guidelines ebook lending digital content vendors document outlines best practices vendors follow protect privacy library users intended encourage vendors libraries [ … ] purposeful gaming bhl project recently launched first two browserbased video games smorball beanstalk designed offer players fun online diversion helping biodiversity heritage library bhl enable fulltext searching digitized materials funded grant institute museum library services imls awarded december 2013 project exploring games might used entice people participate crowdsourcing efforts libraries museums gerontologist debbie dodds developed tabletbased workshop program santa cruz public libraries ca people earlystage memory loss library representatives present pilot ljs allday virtual event digital shift october 14 runup conference lj caught dodd learn years expressing concern potential impact library lending might consumer sales major publishers good cause take another look library market ebooks according executives library ebook distributors overdrive 3m baker taylor consumer sales growth slowing bolstering institutional sales likely become priority major publishers overdrive ceo steve potash noted publishers like forprofit companies always looking growth 's still lot growth institutions [ ] significant opportunities growth education retail flattening experiment educators continue debate whether educational technology makes difference academic librarianeducators getting results want ed tech give rest ? colorado state library csl continuing build library creation learning centers website free online resource libraries throughout state beyond access interactive technology customer service training modules staff maker space programming ideas curated links digital creation software site currently focuses primarily techrelated topics plans expand offer resources training materials range subjects early results two knight news challenge awardfunded pilot programs indicate mobile hotspot lending could help bridge digital divide city neighborhoods broadband adoption low home internet subscriptions considered luxury capacity crowd hand hear luke swarthout director adult education services new york public library nypl michelle frisque chief technology content innovation chicago public library cpl discuss nypls check internet cpls internet go services tale two cities nypl cpl wifi lending projects presentation librarians afraid discuss positive negative implications collecting analyzing patron data library technology consultant carson block said library information technology association 's lita top tech trends panel american library association 's annual conference june 28 weve limited saying ‘ dont want touch [ topic data collection ] might infringing patron confidentiality privacy ' said think thats simplistic view think fact embrace looking data collection serve patrons…and protecting confidentiality privacy think organization [ ] really care actually protecting pile data even large libraries staff dedicated digitization projects additional effort needed enable researchers extract data collections—such transcribing ocrresistant text adding itemlevel tags large collections images—would untenable chore library take alone past half decade libraries taken cues longrunning projects using crowdsourcing way outsource work would impossible staff attempt also engage volunteers every american library association ala conference produces bumper crop news companies serve libraryland tends time biggest debuts event year exception heres assortment learned exhibit floor miss news ? please add comments first selfe collection selfpublished titles chosen lj hosted bibliolabs biblioboard releases month time american library associations ala annual conference occasion lj caught ­mitchell davis chief business officer bibliolabs hear collaboration originated selfe biblioboard headed isnt surprising 3d printers often mentioned breath library maker spaces additive manufacturing technology 30 years old becomes refined well affordable growing importance engineering prototyping appears inevitable well use everything medicine haute cuisine meanwhile past years dozens small desktop units become available priced reach casual users within means many libraries interested offering communities access new technologies librarians always taught patrons use tools serve information needs explain card catalogs vertical files microfilmfiche photocopiers opacs fundamental difference tech needs 21st century everchanging variety personal devices patrons use access services libraries lucky enough dedicated staff special training serve patrons directly time library generalist fielding question question something new every day frontline staffers selftaught basic knowledge technology stay savvy latest hottest gadgets ? train nontechnical staff troubleshoot effectively train patrons use gadgets ? fedscoop schools libraries across country getting full amount requested upgrade telecommunications wireless services federal communications commission capped funding year 39 billion total districts requested 392 billion [ including 16 billion internal wifi networks ] — [ … ] hoopla digital streaming media service libraries developed midwest tape announced addition ebooks comics platform initial selection features thousands titles publishers including idw rosettabooks chicago review press dundurn press tyndale house join hooplas catalog 300000 streaming movies television shows music albums audiobooks proquest today announced signed agreement acquire coutts information services ingram content group including myilibrary platform online acquisitions selection information system oasis addition augmenting proquests selection ebooks myilibrarys 250000 titles larger plan involves leveraging coutts collectionbuilding expertise approval support ordering tools begin developing fully integrated service streamlines acquisition fulfillment print electronic content together february 2015 rebecca stavick appointed executive director omahas first digital library newlynamed space scheduled launch november new role logical bridge stavicks previous five years staff development specialist omaha public library opl work cofounder open nebraska describes citizenled civic hacking organization dedicated solving community problems civic application development open data advocacy tech education tuesday may 19th 2015 200 pm 300 pm et 1100 1200 pm ptjoin innovative david lacrone digital branch manager kansas city public library mo find library used vital create awardwinning civil war western border website whether maintain create institutional repository digital asset management system vital innovative answer vital delivers experience engaging discoverable takes advantage unique content learn vital provides flexibility standards opportunities custom presentation ability leverage anything faculty paper oral history video make digital collections come liferegister kentuckys louisville free public library lfpl teaming government agencies nonprofits businesses community teach people develop websites program software—and skills honed getting placed tech jobs around region code louisville local employers detail programming knowledge applicants need fill specific job openings sometimes provide mentors assist training programs using lfpl card trainees access treehouse online training programs cost beginning last august patrons signing library cards illinoiss lansing public library mississippis lamar county library system marylands frederick county public libraries offered unusual option—the love library card also doubles prepaid visa card april 2014 marked launch ex libris developer network new open environment designed enable professionals developers thirdparty vendors others collaborate experiment applications extensions ex libris group products including nextgeneration alma library services platform lsp primo discovery solution traditional integrated library systems ils aleph voyager company profiles autographics inc axiell group bibliocommons biblionix bywater solutions ebsco information services equinox software ex libris group follett software company infor library information solutions innovative interfaces inc liblime division ptfs library corporation tlc mandarin library automation inc oclc proquest sirsidynix overdrive sold rakuten japanese company today 410 million cash deal scheduled close next month april 2015 overdrive part rakuten usa rakuten ecommerce company headquartered japan heres list rakutens major businesses rakuten announcement notes overdrive achieved ebitda [ … ] help library services technology act lsta innovation program grant awarded february carson city library ccl nv become first library country offer entrylevel certificate workers entering careers advanced manufacturing funding covers cost manufacturing technician level 1 mt1 certified instructor within library well two instructors nearby carson city campus western nevada college wnc courses run concurrently institutions digitization may democratized field many special collections librarians actively promote general audience university iowa librarian colleen theisen exception university wisconsin–madison uwm offering new fourweek massive open online course mooc changing weather climate great lakes region whats different endeavor besides strong local interest angle university coordination wisconsin library services wils partnering 21 public libraries across state collaborative venture share scientific information global warming via video readings online discussion board quizzes well inperson discussions libraries scientists staff graduate students uwm national weather service university wisconsin–milwaukee illinoiss 99th general assembly february 29 state representative peter breen rdistrict 48 introduced house bill 2689 would create internet screening public libraries act ispla act provides every public library state illinois must technology protection measure filtering software place public computers prevent display public computer visual depictions obscene child pornography harmful minors library may disable technology request adult engaged legitimate research ispla contains definition legitimate research significant victory supporters net neutrality federal communications commission fcc today reclassified broadband internet public utility established new open internet order applies fixed mobile broadband new open internet order includes three bright line rules specifically banning broadband providers blocking access legal content applications services impairing access content applications services prioritizing internet traffic exchange consideration kind last summer torcom publishing original short fiction site announced new imprint dedicated publishing best novellas short novels emerging writers well established authors february 12 released initial list titles explain utility ­semantic search linked data jeff penka director channel product development information management solutions provider zepheira uses simple exercise type chevy chase googles search box addition list links panel appears right screen displaying photos actor short bio date birth height full name spouses children short list movies tv shows starred continue typing letters search box panel instantly changes showing images maps current weather basic information regarding town chevy chase md effort parallels complements library congresss bibliographic framework initiative bibframe oclc using schemaorg help facilitate discoverability using linked data explained richard wallis technology evangelist oclc chair w3c schema bib extend community colleague ted fons executive director data services worldcat quality management oclc oclc links entities library data revolution session american library associations 2015 midwinter conference chicago five experts discussed latest library tech library information technology association lita top technology trends panel american library association ala midwinter 2015 conference chicago front full house despite snowstorm outside lively discussion trends ranged coding classes girls growing infrastructure demands open access publishing libraries always front doors waits side resources services knowledge serve individuals communities large connections web reflects amplifies principles dramatically however connections benefit shared vocabulary clear audienceoriented communication use enabling technologies like linked data shared vocabularies like bibframe schemaorg maximizes likelihood libraries continue describe resources web discover represent libraries fully panelists webcast bring together informed practical evolving perspectives community engagement iterative exploration web technologies archive available march 2011 boise public library bpl id used 3300 library services technology act lsta grant funding purchase four ipad 2 tablets trimmings turned bpl may couple years ahead time conversation coming full circle technological advances continue make tablets lighter faster affordable vendors recently launched interfaces make possible use staff tablet perform tasks ranging weeding books signing new cardholders also applying lessons learned devices past five years many libraries rebooting enhancing way tablets integrated roving reference offsite programs workflows would argue value serendipitous discovery especially happens library possible evolution libraries related technology making less likely ? last two columns explored called mess ebooks explained want library ebooks column want discuss possible future could good libraries publishers right everything flux publishers understandably wary selling digital rights management drmfree ebooks libraries patron driven acquisition pda model libraries want might sustainable publishers libraries struggling buy books library ebook market state flux theres opportunity chaos though opportunity create future thats good everyone publishers library users simon schuster last week announced longer require libraries offer buy option publisher 's ebook titles theory buy links enable patrons avoid long holds lists ensuring small percentage purchases went library rather online retailer amazon however many libraries municipalities policies place prohibiting type arrangement others simply find libraryasretailer concept objectionable even unethical library security systems described nonglamourous workhorses bibliothecas website true core function—to deter theft prevent materials havent properly checked accidentally walking library—hasnt changed much since 3m launched tattle tape electromagnetic em security system 1970s however many latest systems feature new functionality enhanced rfid tags along sleek unobtrusive design gives public entryways modern appearance president surprised many people added comments 4 million submitted federal communications commission fcc whether government set rules shape future internet surprising obama came short quite pointed outline many us feel would exactly right moves take citizens political persuasions strong feeling value keeping internet open exactly whats tricky simplistic metaphors asking whether internet access like cable tv like electricity recent new york times article put dont really work thought id try untangle exactly debate library app developers capira technologies bluubeam separately announced launch micro location information services enable libraries send highly targeted locationrelevant messages bluetoothenabled android ios smartphones initial success new free app developed queens library led ql consider adopting libraryasdeveloper role selling customized versions app libraries support inhouse development projects move help free library philadelphia flp expand science technology engineering arts math steambased maker space programming multigenerational audiences institute museum library services imls october 23 awarded 500000 national leadership grant flp support librarys maker jawn initiative gaining insights faculty use different technologies classroom research well view new modes higher education could help academic librarians discover new opportunities support collaborate faculty ninetyfive percent public libraries currently offer ebooks patrons 72 percent 2010 89 percent 2012 2013 however money remains biggest impediment libraries looking add ebooks expand collections according library journals fifth annual ebook usage us public libraries report sponsored freading last column discussed various problems ebooks academic libraries id like lay want library ebooks would take switch print electronic preferred format books print management computer reservation solutions designed help libraries cut waste ensure time public computers distributed fairly among patrons minimal staff intervention keep pace current trends several vendors added new features public computer management packages recent months enabling patrons print mobile devices example vendors negotiate pricing system bysystem basis typically according selection specific options modules number branches solutions used number public access stations branch solutions libraricas cassie comprises sam designed fully integrated systems offering variety management features one package providers envisionware iteam goprint offer option purchase reservation print management modules separately however vendors contacted spotlight describe solutions scalable options available networks five public computers october 20–21 scholarly nonprofit organization ithaka held annual sustainable scholarship conference new york citys wyndham hotel events theme starting line echoed concerns many libraries publishers institutions demands change driven todays information marketplace last column addressed tensions underlie idea letting perfect enemy good library leadership end promised next would deal similar way trying balance occasional tension problems truly important merely noisy however issue come meantime timely urgent 'm putting noisy vs important column next time month want address issue patron privacy context recent revelations privacy incursions latest version adobe digital editions overdrive currently processing 350 million api server calls per month supported 13 million checkouts via apis date 2014 according internal data given lj api use also risen steadily quarter almost 233000 checkouts first three months year 529000 q2 estimated 692000 q3 projection least 1 million final three months year lyndacom month soft launched lyndalibrary subscription model libraries offers patrons unlimited offsite access companys complete collection online training resources westport library 's ongoing efforts support maker space including maker residence programs recent acquisition two programmable robots helped establish virtuous cycle residents begun working projects helping one another independently recent ithaka report roger schonfeld asks discovery still happen library ? immediate thought ever ? quickly followed assume ? adobe week confirmed reports logging data reading activity people use free adobe digital editions service company transmitting logs servers unencrypted text files raising privacy security concerns 12 percent average us library budget books content antilibrary zealots latch onto statistic eventually downplaying libraries much books good proactive response would national digital library endowment separate allied digital library systems—one public library patrons mainly academia even though everyone could access new digital efficiencies could help libraries offer taxpayers even value superstorm sandy hit east coast october 2012 queens library ql new york among many northeastern library systems affected ql persevered continuing offer crucial services stormravaged communities rebuilding damaged branches system also managed turn generous corporate donation innovative new platform tablet computers enabling tech lending program since continued grow libraries continue exploring ways weave online social media core service pew study suggests popular internet gathering spots facebook twitter effective places generating meaningful honest conversation significant news events people willing discuss controversial issues online person fact reverse true ive run problems library ebooks lately made even skeptical complete replacements print books libraries since skeptics library ebooks sometimes considered luddites reactionaries go ahead add disclaimer really like ebooks dont acquire library quick calculation books ive read since midjanuary 33 books 27 ebooks several hundred pages long reading good ereader generally pleasant experience case drawn comparisons rowecomfaxon library services bankruptcy almost 12 years ago court amsterdam friday september 19 granted netherlandsbased swets zeitlinger group permission suspend payments creditors tuesday september 23 accepted bankruptcy filing groups subsidiary—global subscription management provider swets information services jukepop—a palo alto cabased startup crowdsources independently published books—has launched kickstarter hoping raise 15000 expand library service 60 branches states including california utah arizona massachusetts state ebook project ebook project conceived massachusetts board library commissioners mblc statewide resource sharing committee massachusetts library system mls funding institute museum library services imls summer concluded pilot program offering many insights challenges promises statewide consortial ebook lending programs may offer latest indepth interviews library journal movers shakers academic libraries caught kyle denlinger elearning librarian wake forest universitys z smith reynolds library north carolina fresh library school denlinger helped create wfus information literacy massive open online course mooc zsrx cure common web provided easy answers common questions online research passionate library teaching knowing enough html dangerous delinger continues promote lifelong learning resources libraries offer following excerpt digital literacy digital inclusion information policy public library rowman littlefield aug rights reserved federal policies united states rely public libraries promote digital literacy digital inclusion yet public libraries predominantly excluded funding made available digital literacy digital inclusion well decisionmaking processes early april 2013 digital journalism professor robert hernandez university southern california usc annenberg school communication journalism los angeles driving las central library downtown thinking ideas experimental augmented reality ar storytelling journalism course aha moment focus project augmenting central library ? changes platforms use regularly always slightly traumatic invariably discover roll new library website complaints begin find database interface changed radically day introducing students platform changes even distressing sites contribute content creating social circles sharing information websites often forget belong people values motivations different following four months discussions sirsidynix brief pilot test summer marylands frederick county public libraries fcpl september 5 officially launched love library prepaid visa debit card developed sirsidynix partnership visa card limited new affinity cards double patrons library card aim help libraries achieve three goals fresh second year partnerships six northeastern colleges universities boston college 's instructional design + eteaching services ides department beginning look ways expand access proprietary mediakron digital humanities platform institutions according tim lindgren senior instructional designer ides digital archives contain wealth interesting images documents meticulously described librarians databases always ideal browsing tools time line mapping software enable libraries present digital collections new ways facilitating serendipitous exploration researchers effort cater growth interdisciplinary research also simplifying search experience undergraduates michigan state university libraries msu month debuted summon proquest first web scale discovery service branded searchplus msu discovery layer offer students researchers single entry point searching majority librarys resources cryogenically freezing dna livestock animals might sound like science fiction twist noahs ark yet mission newly forged partnership called smithsonian swiss village farm svf foundation biodiversity project smithsonian conservation biology institute svf foundation announced late july joined forces preserve rare endangered heritage breeds livestock animals american forefathers raised agriculture next several years svf foundations collection frozen genetic materials incorporated smithsonians vast genetic library endangered animal species two one button simplified video recording studios pennsylvania state university psu librarys tombros mcwhirter knowledge commons proven exceptionally popular used 4500 recording sessions per year students appreciate access vast selection fulltext content link resolver takes intermediary screen—between database content—they find extremely confusing presenting many unclear options academic librarians researched effectiveness link resolvers since 2004 one notsosurprising finding high percentage users never make past screen shortly simon schusters june 26 announcement concluded 15month pilot test would make entire ebook catalog available us libraries macmillan last week announced make frontlist ebook titles available us libraries well moves mark milestone terms availability popular ebooks macmillan simon schuster became final two big five publishers allow us libraries license loan titles ebook collections libraries strive spaces researching subjects interest patrons offer options let users learn new skills whether theyre physically library one area mobile learning library making headway language learning many online lesson providers offer programs libraries patrons use building home even waiting line cup coffee wasnt long ago people thought reading books computer could never replace real inkandpaper feel good oldfashioned book people continue appreciate books traditional form sales amazons kindles topped 45 billion last year according research morgan stanley telling though normal seems read book electronic device scientists developers havent stopped new technology continues challenge notions read read access reading looking back irony heavyhanded seems contrived colleagues preparing mooc copyright educators librarians launched first time last week resource wanted use could successfully negotiate permission susan bielsteins book negotiating permissions would great us convinced press could offered single chapter 8000 mooc participants read event however rediscovered fear lack sound business sense grips publishing industry also discovered richness free resources available us missouri library patrons rest assured library records checkout digital materials remain private thanks new state law kindle forum post dated july 29 amazon reveals specific details sticking points hachette publishing group profitshare ebook pricing—and n't hachette favors describing service potentially disruptive challenge libraries jamie larue principal larue associates consulting told lj even rural areas lot folks ereaders find prefer ebooks kind service price point probably result another market shift 999 pretty good deal using funding provided local chapter hearing loss association america new york 's greenburgh public library spring installed audio frequency induction loop afil multipurpose room afils enable public address systems av equipment send audio transmissions directly hearing aids eliminating background noise hearing impaired visitors upon announcement amazon 's ebook subscription program kindle unlimited gary price infodocket editor writes libraries ready compete services ? anticipatory contextual discovery open hardware oneclick server installs mobilefirst design institutional digital assets management even biohackerspaces topics discussed year library information technology associations lita top tech trends panel held june 29 american library association ala 2014 annual conference 2012 wrote san jose state university sjsu school library information sciences slis evaluation core courses currently putting finishing touches reimagined libr 200 class called information communities colleagues reworked core courses ive partnered debra hansen one senior faculty library historian create evolving modern course presents students foundations well overview information users social cultural economic technological political forces shape information access library ebook transactions remain lengthy complicated patrons especially comparison consumer ebook transactions james english product manager library simplified project new york public library nypl said epub walled gardens readium foundation presentation national information standards organization niso book industry study group bisg eighth annual forum held june 27 conjunction american library association ala 2014 annual conference group working make open commercialgrade ereader libraries would greatly simplify process online adventurer curator amplifier something else ? learn 12 online personas tell us online poll library software mobile app developer capira technologies week announced integration stackmap bookshelf visualization platform helps guide patrons directly location books materials library using app patrons able search discover items librarys catalog one [ … ] update simon schuster ebook pilot continues canada according ss spokesman adam rothberg wider expansion certainly possibility future canadian systems pilot remain simon schuster announced today theyve ended ebook pilot 20 public library systems [ … ] effort address lack broadband access among lowincome residents chicago public library cpl new york public library nypl june 23 announced new programs allow patrons check take home wifi hotspots nypls check internet cpls internet go programs made possible part grants awarded week knight news challenge competition developed john james l knight foundation partnership ford foundation mozilla fund promote projects committed making internet open equitable platform overdrive announced transactional pricing call paypercheckout available hundreds streaming video titles warner brothers first time overdrive offered content using pricing model deal warner brothers formally announced yesterday distributors content public library market including hoopla freading [ … ] ebsco information services infotrieve month launched new partnership pair metadata search functionality ebsco discovery service eds econtent access management features infotrieves mobile library enabling mutual customers combine search content access rights management document delivery one platform according joint announcement essentially deal let researchers purchase immediate access content shows search results dont already full text rights radio frequency identification rfid systems offer libraries many ways enhance productivity ranging selfcheck solutions automated materials handling systems rfid tags include tiny chip processing storing information antenna communicating readers selfcheck stations security gates staff workstations equipment core component rfid system us navy general library program nglp last month announced release new navy ereader device nerd comes preloaded 300 titles including popular fiction recent bestsellers content chief naval operations professional reading program new eink readers designed preloaded digital content provider findaway world perhaps best known library world playaway first devices feature findaway 's new lock ereader security solution ebooks digital materials readily available libraries publishers missing key conduit market [ ] cant tap way rebecca miller editorial director library journal school library journal stated opening remarks untapped retail channel public libraries panel friday may 30 2014 bookexpo america bea conference new york leaders top library ebook streaming media companies weighed issue hourlong discussion complaints patrons lack access ebooks libraries across state connecticut lawmakers passed bill giving state librarys board trustees authority create statewide ebook collection accessible anyone connecticut library card innovative interfaces inc may 30 acquired vtls developer virtua integrated library system ils vital digital asset management system chamo discovery layer mozgo mobile application library technology solutions following innovatives acquisition polaris april 1 move consolidates library automation marketplace expanding innovatives global presence solidifying companys position one largest library technology providers world robbins library arlington busy place often computers use summer 2012 ready retired rather keep status quo technology librarian catherine kiah working intern brad mckenna envisioned expanded wireless service model made possible three key ingredients two risktolerant staff wireless network upgrade third ingredient made new service model possible relatively new technology public libraries laptop vending machine carefully crafted thankyou speeches assemblage local vips grand opening events demand certain level patience decorum curious public gather watch course things dont always work way may 1 californias fresno county public library fcpl held grand opening new sierra vista branch 400item book media vending unit installed hightraffic area sierra vista mall clovis county librarian laurel prysiazny spoke young couple child—apparently oblivious ceremonial ribbon front presentation going behind them—walked new machine started checking something association southeastern research libraries aserl digital public library america dpla teaming launch new collection agricultural research resources aserls 38 member libraries photographs field notes ‘ deeply rooted collection mark first time many items made available outside walls host libraries triangle research libraries network trln oxford university press oup third year pilot create financially sustainable model consortial acquisition ebooks coupled needed shared print copies cooperation ybp library services ybp project expands acquisition ebooks tandem reductions print move consortium university presses decidedly electronic environment books enhance support instruction research across disciplinary spectrum within environment acceptable users archive available often librarians find trying explain librarys mission books information ? public mis­understanding leads community misconception future reality librarians make mistake time know intellectually informational flow access main missions decisions hearts often put focus books books many cases remain far best delivery vehicle information many subject areas informational vehicles would effective even implementing vehicles might mean less money spent books learning programs working patrons able communicate value libraries legislators stakeholders effectively one thing becoming clear reliable data tools analyze among keys successful library system data help confirm suspicions prove hypotheses offer evidence success library programs also dash expectations surprise sleeping biases forcing rethinking reinvention program isnt living potential data analyzed contextualized also make easier librarians tell stories legislators stakeholders time comes make case library budgets american museum natural history 's amnh research library last month hosted official launch new online image database digital special collections begun project digitize 1000 museum 's photos rare book illustrations digital special collections program evolved longterm project offer public free online access museum 's research library collection new database includes 7000 archival images including photographs 19th century scientific expeditions illustrations rare books dating back 16th century smashwords world 's largest distributor selfpublished ebooks may 20 announced new partnership overdrive make 200000 ebooks 80000 selfpublished authors independent presses available libraries patrons via overdrive platform titles sold perpetual nonexpiring licenses loan caps made available patrons one ebook one user model todays announcement overdrive smashwords worlds largest distributor selfpublished ebooks today announced 200000 selfpublished titles available public libraries overdrives global network [ clip ] streamline collection development overdrive smashwords creating curated lists smashwords bestsellers popular genres libraries soon option example [ … ] innovative interfaces inc continue selling polaris integrated library system ils new customers supporting polaris product separate companys sierra library services platform millennium ils innovative ceo kim massana told lj interview 22nd annual innovative users group iug meeting detroit last week iugs 1000 attendees year included contingent dozens polaris users greeted track sessions panels addressed lingering questions regarding innovatives integration plans updates polaris ils companys leap staff client move help leading urban library system begin defining role burgeoning field massive open online courses moocs new york public library nypl april 30 announced partnership mooc provider coursera beginning summer nypl support selection courseras online courses hosting weekly inperson discussion groups several branches bronx manhattan coursera 's learning hubs program neither organization paying part partnership nypl officials note sharing information regarding participation programs benefit parties onehour webcast focuses library staff bring mobile app stacks join us see break away confines desktop perform key tasks right stacks archive available move enhance functionality discovery services available partners competitors alike ebsco information services last month announced new policy metadata sharing make metadata 129 fulltext databases 550000 ebooks 70 historical digital archives available thirdparty discovery services policy also outlines commitment provide assistance linking technology requested customers previously company required thirdparty discovery services oclc 's worldcat ex libris 's primo discovery delivery use ebsco discovery service eds api order search ebsco content latest series interviews 2014s library journal movers shakers academic backgrounds sponsored sage talk university alabama ua librarian vincent scalfani doctorate chemistry university colorado scalfani serves science engineering librarian ua oversees programs like universitys 3d printing studio also teaching classes chemistry department help graduate students better understand research tools available well effectively communicate work journal articles presentations building success existing job search job training programs queens library recently began testing new touchscreen job search kiosk central branch jamaica queens kiosk driven apploi mobile app launched april 2013 recruitment software services provider innovate cv [ … ] though broadband internet access become common us households past decade digital divide yet bridged fact challenges loom larger ever households without broadband said richard reyesgavilan chief librarian district columbia public library dcpl opening remarks libraries broadband urgency impact public hearing hosted institute museum library services imls april 17 according imls estimates 100 million americans dont access highspeed internet home 19 million dont internet access home managing eresources developing collections evaluating user behavior making econtent accessible equal parts challenge opportunity free lj webcast developed electronic resources libraries erl offers attendees brief look users expectations econtent presented users need vendor partners make econtent accessible tools better analyze user dataarchive available open road media published ebook edition jean craighead georges 1973 newbery award–­winning julie wolves 2011 business usual company secured rights george prior death 2012 harpercollins sued open road 2011 saying 1971 contract superseded open roads gave exclusive right license ebook march 14 publishers lunch reported judge naomi reice buchwald ruled favor harper makerspaces open source platforms library rebuilds touchstones years computers libraries conference attendee statistics 2014 computers libraries conference held april 7 9 identical decade ago 2000 attendees 46 states 13 countries however number speakers doubled two hundred approximately third presenters making cil debut palpable sense excitement vibrating halls conference rooms washington hilton coinstructor kyle jones currently working toward doctorate university wisconsinmadisons ischool mining survey data hyperlinked library massive open online course mooc taught last fall 363 lis professionals support san josé state university school library information science feedback broad professional development opportunity offered providing unique views models online learning library staff continue evolve virginias newport news public library system nnpls launched statbase opensource usage statistics program enables libraries track visualize data circulation patron registration door counts reference acquisitions instructorled courses application available free download sourceforge effects screen time little ones integration technology library programming issues facing profession 's time break divisional silos according christopher harris work together ensure libraries ' effectiveness serving kids teens things frustrating library patrons—or staff matter—than selfcheck system thats illsuited setting system runs smoothly increases efficiency protects materials promotes library programming instills confidence patrons translates increased circulation staff time focus things like programs services recognition national library week total boox payasyouread metered ebook platform make entire collection 20000 titles free read april 13 april 20 weeklong promotion allow anyone android apple ios kindle fire tablet download free total boox ereader app wwwtotalbooxcomfreereading access fiction nonfiction ebooks oregon state university osu helping faculty produce open access textbooks courses university press arm osu libraries starting work series open source etextbooks officials hope ease rising textbook costs consistent cause student complaints make etextbook program work library press partnering osus ecampus program administers distance online learning programs college first edition library systems landscape successor ljs annual automation marketplace feature examine library systems currently evolving specifically focusing recent advances ebook integration emergence nextgeneration library services platforms lsp new tools expanding boundaries library websites catalogs maturation open source options competitors commercial products led koha evergreen open source ils solutions continued demonstrate steady growth 2013 systems appeal libraries variety reasons unlike commercial ils products open source code accessed altered anyone expertise enabling libraries conduct outsource priority development work schedule rather wait requests wend way vendors queue gale today launched analytics demand new geographic information system gis combines local demographic data information librarys ils generate realtime reports circulation trends patron lifestyles powered business analytics provider alteryx regularly updated demographic consumer lifestyle segmentation data experian mosaic foundation new service built tools gales demographicsnow business people compelling story share innovation libraries—from new takes curation content creation great examples collaboration programs enhance learning—we 'd like hear hurry proposals due may 2 streaming video well established consumer market youtube around since 2005 netflix since 2007 still gaining momentum library market yet huge category—ljs materials survey included downloadablestreaming movies category first time 2013 finding responding libraries spent 06 percent materials budget downloadable movies represented 09 percent total circulation—but certainly rise baker taylor bt collection management subsidiary collectionhq announced launch esp evidencebased selection planning optional feature collectionhq aims predict systemwide branchlevel demand books ebooks materials including newly published items feature works analyzing librarys circulation history using collectionhq leveraging data bts online collection development ordering system title source 360 today want talk one greatest services academic libraries offer scholars one absolutely essential sort advanced scholarship one facing biggest obstacle 140orsoyearold existence im talking interlibrary loan ill threat faces ebooks cengage learning announced today emerged chapter 11 bankruptcy completed financial restructuring eliminating approximately 4 billion funded debt securing 175 billion exit financing lj caught michael hansen chief executive officer cengage learning find means whats next company innovative interfaces inc iii today announced acquired polaris library systems bringing together two leading providers library automation technology combined companies led iii ceo kim massana former polaris president ceo william schickling joining innovative vp public library products several polaris executives also join innovatives management team including vp sales scott mccausland vp customer operations jodi bellinger polariss headquarters syracuse ny retained center operations innovative interfaces inc iii developer millennium ils nextgeneration sierra services platform among discovery automation solutions month announced partnership bibliotheca global rfid emrfid hybrid barcodebased library solutions supplier companies describe partnership strategic alliance enhance integration respective software hardware products ninth annual electronic resources libraries erl conference year hosted 650 attendees 40 states six countries representing spike attendance 20 percent compared 2013 online viewership conferences sessions rose significantly well 50 us academic libraries registering erl online whether need flatbed scanner integrated payment system patron use one protect rare oversize maps creating digital record theres scanner library todays book scanners fast many scan page two seconds provide optical resolution 800 dots per inch dpi sheets reaching massive 35 x 25 size wealth options problem may deciding scanner choose lj highlighted newest offerings number providers usergenerated content ugc—which includes tweets reviews facebook posts wikipedia articles—now plays key role average persons internet experience ugc also becoming indispensable resource helping researchers make sense big data wednesday keynote address mining application diverse cultural perspectives usergenerated content electronic resources libraries erl conference austin week brent hecht assistant professor computer science engineering university minnesota discuss ugc reflects cultural diversity contributors previously unidentified extent diversity important implications web users existing ugcbased technologies prior event lj spoke hecht intersection geography computer science influence ugc librarians needed help patrons navigate popular ugc resources wikipedia march 12 academic research nonprofit ithaka s+r released latest survey academic library leaders gathering input 499 library deans directors institutions large small new library survey—the first kind since 2010—paints picture shifting priorities modern academic libraries challenges face resources leadership techniques theyre using meet challenges whether librarians faculty like wikipedia remains heart research process many undergraduate students rather trying stem tide university california berkeley trying make students responsible effective users online encyclopedia end universitys american cultures program hired alumni kevin gorman first wikipedianinresidence us university controversy reading selections pair colleges south carolina last year reared head time may result budget cuts college charleston university south carolina upstate budget committee state house representatives recommended budget cuts totaling 70000 two schools assigned incoming students others read literature lgbt issues last year recent years chester fritz library university north dakota und funding situation may sound familiar many academic librarians budget library flat since 2008 annual largess universitys discretionary funds kept library eliminate services year though supplemental funds available meaning even without cut library faces gaping hole funding wake january court ruling struck federal communication commissions fcc standards ensuring internet traffic delivered without bias—a standard industry watchers refer ‘ net neutrality—the agency issued new proposal outlining new set rules ensure internet users uncensored access full content internet experts though dont think new rules enforceable overturned earlier year ebsco rolled research starters new feature ebsco discovery service eds presents student researchers short citable summaries frequently searched topics drawn sources salem press encyclopedia britannica american national biography 62000 500 1500word summaries accessible offering students authoritative overview chosen subject well links research starter summaries peer reviewed research delve deeper topic group students arizona state university asu proposed revamp traditional bookmobile—one aims provide services school library schools may access resource longer design dubbed bibliotrucka aims take advantage proliferation food trucks phoenix area recycling commission trucks modular moving libraries customized daytoday basis students different learning levels cultural backgrounds librarians continue cite lack access ebook best sellers indemand titles number one problem preventing patrons checking ebooks usability issues close second according ebook usage us public libraries 2013 survey 553 public libraries conducted lj sponsored freading finding downloading ebooks libraries still complicated cumbersome involving many steps always work several key vendors taken steps streamline simplify ebook access recent months according longanticipated readersfirst guide library ebook vendors released january theres loads activity happening world educational technology new startups dozens websites managing learning activities apps dozens academic librarians seem loop limitless libraries ongoing partnership nashville public library npl metro nashville public schools mnps planning move shared ils system requested funding transition office nashvilles mayor flexibility ease use terms appear frequently descriptions room event scheduling software product spotlight feature highlights software exemplifies qualities companies specialize providing solutions libraries broader client base putting distribution storage papers datasets hands authors academic torrents brings even diy ethos world academic publishing may help solve problems field bargain libraries colleges disintermediate scholarly publishing hosting institutional repositories backing offsite services like lockss portico academic torrents goes step offering researchers opportunity distribute hosting papers datasets authors readers offering easy access scholarly works simultaneously backing computers around world nineyearold matthew owner brightlycolored prosthetic robohand created makerspace johnson county library overland park ks late last year bexar county library serves area around san antonio tx set bibliotech first alldigital library united states without physical books branch raised eyebrows head librarian ashley eklof tells library journal months ebookand technologycentric project successful already spinoff county courthouse recorded books one industry leaders audiobook market major supplier audiobooks ebooks electronic content libraries purchased private investment firm wasserstein co lp company sold haights cross communications owned since 1999 terms sale disclosed unglueit crowdfunding platform developed encourage publishers make ebooks drmfree open access creative commons license january launched beta test buy unglue new crowdfunding model offer ebook licenses exchange donations oclc january 22 announced worldcat discovery services wds suite cloudbased applications combines firstsearch worldcat local beginning march suite offer firstsearch subscribers access central index represents nearly 2000 econtent collections containing articles ebooks content providers including ebsco gale proquest total wds enable discovery 13 billion electronic digital physical resources libraries around world using single search codes conduct antiharassment policies listed among leading current trends annual lita top tech trends panel along digital forensics open content next steps social media overdrive one major vendors audiobooks libraries announced moving away wma format making audiobooks library market available solely mp3s wikipedia library open research hub started 2010 credo reference donated 500 free research accounts wikipedia 's active editors partnerships highbeam questia jstor cochrane library followed wikipedia library developing portal connect editors libraries open access resources paywalled databases digital reference tools research experts two project 's leaders discuss potential collaboration libraries wikipedia well new visiting scholars pilot program simon schuster ss last week expanded library ebook pilot systems outside new york city announced overdrive become new partner test pilot launched april 2013 3m cloud library bibliocommons supporting lending acquisition new york public library [ … ] ebsco information services today announced acquisition plum analytics developer plumx tool gives researchers institutions complete view impact publications harvesting aggregating alternative metrics altmetrics data five major categories usage captures mentions social media citations plum continue offer services management team operating whollyowned subsidiary ebsco weve moved beyond question whether people better go college thats settled need figure means college educated humanities contribute student learning university oregon uo staff science library inhouse 3d printer months wasted time putting new equipment use beginning january library printed 3d model rare fossil uo paleontology departments collection—the remains 5millionyear old saber toothed salmon version flow— proquest ‘ cloudbased collaboration document management tool—is available free researchers including affiliated nonsubscribing institutions launched mid2013 alternative mendeley zotero platform helps researchers discover store organize academic articles citations metadata downloaded electronic databases collaborate researchers cloudbased environment years adults dropped high school one venue prove theyd mastered skills diploma reflects passing general educational development ged test better nothing though practice ged complete replacement diploma since treated lesser substitute colleges employers gale cengage learning partnering countrys first accredited online school district smart horizons career online education shcoe offer way adults earn full high school diploma libraries across nation career online high school cohs gale hopes 80 publisher partners participating gale virtual reference librarys gvrl new usagedriven acquisition uda model spring 2014 according company officials us department commerce doc collecting public comment topic first sale doctrine digital files recent weeks agency scheduled meet issue december 12 washington dc first sale doctrine set exemptions us copyright law permit consumers resell used books dvds libraries loan books without seeking permission publishers yet reasons examined detail first sale exemptions translated well digital content docs call public comment could mark beginning campaign reassess copyright first sale mean modern digital era notes one expert colorado library consortium clic recently announced agreement library automation software provider innovative interfaces make skyriver bibliographic services available libraries throughout state skyriver facilitate comprehensive audit clics aspencat union catalog ultimately offer consortiums 400 libraries source cataloging records american catalogers systems librarians forgiven thinking linkeddata action lies bibframe development effort bibframe certainly represents lions share ive bookmarked next semesters xml linkeddata course along ive wondered digital librarians metadata librarians records managers archivists—information professionals describe information resources best peripheral marc establishment—were hiding linkeddata ferment bibframe certainly isnt paying much attention attending semantic web libraries 2013 acronym swib conference takes place germany know theyre making linked data lives creases building bridges across boundaries canals liminal spaces since term coined five years ago massive open online courses moocs subject much debate educational circles brief life span courses many thousands students participate demonstrated promise new technology democratize education declared failed experiments others mooc professors though say early judge moocs perform years even know still figuring moocs really shape—or shapes—theyll take future whatever moocs look like going forward though libraries—in academic public sphere alike—will play key role helping determine design success months since looked lj mooc environment massive open opportunity lj 5113 quickly moving field evolved significantly following news oclc makes sense us smart course essential data updated regularly yelp uploads timely manner know researchers consumers feels like arriving storerestaurant thats moved dialing disconnected phone number oclc [ … ] massive open online courses moocs dominated conversation higher education since sudden arrival spring 2012 mooc movement evidence profoundly disruptive change widely seen coming higher education unit university campus survived thrived disruptive change library libraries institutions actively offering moocs applied background figuring manage intellectual property questions however libraries universities offering moocs seemed role watch read movement wonder amusement occasional envy z smith reynolds library zsr wake forest university wfu however enough wfu contemplating offering moocs 2012 library decided experiment open online course much written role academic libraries supporting massive open online courses moocs inclusion moocs public library setting largely unexplored territory past summer ridgefield library included mooc part adult summer reading program based experience ridgefield library plans continue meetup destination moocs part mission intellectual cultural center support lifelong learning ages boopsie developer custom mobile apps libraries planning launch boopsie analytics early 2014 currently alpha testing stage new webbased platform help companys customers analyze data number different patron behaviors many queries sent database catalog app day week services accessed often via app many titles downloaded overdrive vendor partners using app example madison wisconsins struggling public access tv station wyou new lease life courtesy madison public library station limping along since 2010 state law cut funding welcomed new madison central library branch library staff station volunteers described new partnership winwin situation lets station eliminate rent costs take advantage librarys media lab equipment library gets batch potential new volunteers media teachers years experience chance experiment serving incubator communityproduced media access good data key metrics circulation student visits always helps make better case important role libraries play campus using data proactively address emerging trends challenges really means datadriven organization said sarah tudesco assessment librarian yale university yesterdays datadriven academic library ? webcast mcgrawhills professional 's ebook catalog 5000 business consumer education technical medical titles available k–12 school libraries public libraries worldwide overdrive also 700 mcgrawhills 2012 2013 offerings offered special rates help operation photo rescue nonprofit volunteer network photographers image restoration artists graphic designers fondulac district library fdl il recently launched saving memories program help community members digitize restore photographs damaged 24 tornadoes touched illinois night november 17 late last month announcement libraries university north texas unt denton would cut 17 million materials budget sent staff students around campus uproar students faculty flocking defend library system see key success scholars unt provost warren burrgren walked statements back recent days laid immediate concerns budget cuts rest controversy started conversation campus library funded isnt dying even cuts library budget halted postponed colorado 's arapahoe library district serves denver area heard opportunity purchase google glass released public staff jumped good thing turns library staff heard glass explorer contest tweeted google would google glass using hashtag # ifihadglass one day deadline proquest subsidiary serials solutions launched intota assessment collection analytics service designed give libraries holistic view serial monograph holdings print electronic formats facilitating comprehensive datadriven approach collection management intota assessment first launch intota cloudlibrary services platform lsp shelleygodwin archive free online resource featuring digitized manuscripts percy bysshe shelley mary wollstonecraft shelley william godwin mary wollstonecraft include tools designed encourage collaborative humanities research similar collaborative public projects sciences midwest tapes paypercirc streaming media service hoopla announced addition thousands popular movies television shows lineup new agreements universal pictures metrogoldwynmayer studios national geographic bbc america advance public meeting scheduled december 12 washington dc us department commerce seeking public comment interested stakeholders issue first sale doctrine digital files including ebooks comments due november 13 partnership minnesota 's metropolitan library service agency melsa consortium 3m developed cloudlink new feature ebook lending system consortia many consortial arrangements involve member libraries contributing ebooks common pool patrons libraries use addition functionality cloudlink also enables patron melsa library check ebooks private collections melsa library provided holds list title oklahomas pioneer library system pls week became first library us debut envisionwares new 24hour library officials plan use two new vending units offer 24 hour pickup reserve materials small new branch near busy shopping area enhance access materials another location near community center middle school social media becoming important way libraries interact patrons one ingredient passing along interesting pieces information library 's many programs activities another important part though posting occasional cat picture funny video piece viral content commonly known memes digital shift reinventing libraries virtual event held library journal school library journal october 16 know meme 's resident librarian amanda brennan offered thoughts libraries use memes engage patrons boost followings platforms like twitter facebook revisited presentation picked brennan 's brain points qa offers pointers beginners looking make library 's facebook page must read make library collaboration instructablescom american library association finally launched searchable website makeitatyourlibraryorg librarians seeking maker space ideas projects make library—an initiative developed ilead usa program past year—aims help librarians realize maker projects communities low cost site go live thursday october 31 2013 learn project nypl new york public librarys carl h pforzheimer collection shelley circle proud announce launch shelleygodwin archive new digital resource comprise manuscripts [ ] note village maywood il located west chicago wgntv public library suburban maywood closed doors saturday reopen funding secured place read use computer teens stay trouble maywood library [ ] pinterest blog excited announce partnership getty images learn images pin getty images one industrys best broadest collections imagery created community hundreds thousands contributors collection includes great images also data [ ] dpla news dpla adds three new services hubs launches super cool ebook bookshelf digital public library america digital public library america dpla announced today received 990195 grant bill melinda gates foundation build upon network library professionals [ ] polaris polaris library systems employ overdrives discovery apis circulation apis application programming interfaces create desirable seamless patron experience libraries overdrive econtent subscription [ clip ] integration polaris overdrive available library catalog mobile pac q1 2014 read [ ] librarians want serve communities patrons best knowing best provide service isnt always easy demands day day duties mention privacy concerns make hard staffers learn finer details patrons using services without clear picture services like computer access put use difficult determine fine tune needs users researchers university washington uw ischool introduced impact survey tool lets patrons anonymously report use library technology theyre using helping librarians understand how—and when—patrons interacting access technological resources provide—and demonstrate value services local governments special copies fahrenheit 451 learn daily herald ray bradbury fans chance friday bring home piece estate attend festival honor hosted waukegan public library first 100 guests librarys eighth annual ray bradbury storytelling [ ] villanova u national science foundation nsf awarded 167 million grant villanova university develop virtual reality cave facility uses immersive video telepresence applications well computergenerated graphics 3d visualization grant largest nsf research grant ever awarded university villanovas cave cave [ ] deep conversations streams hyperlinked library mooc massive open online course largescale professional development course im coteaching fall 300 library folk thoughts turn concept librarians facilitators learning becomes clear learning goes move must keep significant changes education environments aim become connectors collaborators within users learning spaces update october 24 new york public library hires firm promote renovation plan via ny times library enlisted parkside group whose team led evan stavisky contract says perhaps best known democratic consultant asked decision hire parkside library said statement like [ ] lj columnists barbara fister michael stephens discussed improving student understanding information created stored well ways keep students engaged moocs presentations digital shift reinventing libraries last week ebook distribution libraries took another leap forward october 17 baker taylor overdrive 3m rbdigital recorded books told customers macmillans entire ebook backlist 11000 titles lead imprints st martins farrar straus giroux henry holt macmillan children 's tor would available patrons last weeks digital shift virtual event reinventing libraries produced library journal school library journal looked broad spectrum ways libraries remaking rethinking missions—and accomplish them—in digital age throughout day panelists gave presentations took questions honing new skills developing new ones thinking ahead assets make successful library—and successful librarian—in future internet offers todays youth unprecedented opportunities connect peers seek knowledge almost area interest—and libraries uniquely positioned play central role learning according mimi ito professor cultural anthropologist university california irvine principal investigator new education model connected learning dc public library today ten firms selected move next round search architect team help design next generation martin luther king jr memorial library 901 g st nw three firms selected middecember move third final round [ ] wreg memphis tennessees supreme court ruled city memphis upheld states voter id law court upheld 2011 law requires photo identification registered cast vote two voters city memphis sued arguing id requirement unfair burden [ ] honolulu staradvertiser university hawaii drastically cut funding request planned daniel k inouye library including slashing request state bond financing two thirds 5 million interim uh president david lassner proposed funding change todays board regents meeting hearing public testimony [ ] worldreader blog bill melinda gates foundation grant provide eight libraries kenya 250 ereaders protective cases library customers instantaneous access 50000 fiction nonfiction books reference materials storybooks plus complete set digital textbooks used kenyan schools suitable [ ] recent infusion 11 million open road integrated media private equity firm newspring capital others come surprise librarians familiar company ceo jane friedman years former harpercollins ceo team took digital publishing multimedia marketing company distributing handful pre1994 titles major 20thcentury authors like william styron 4000 titles 500 authors decision center collection management solution developed innovative interfaces inc iii released new features help users manage floating collections across multiple branches separately anticipate demand new titles decision center replaced iii reporter went general release june designed work iiis millennium ils sierra services platform clemson universitys cooper library new addition may seem place first glance—a study hall filled stationary exercise bikes space isnt taken phys ed department though bikes fitdesks specially equipped cycles attached desktops allow riders readers well theyre part new study clemson psychologist dr june pilcher effects exercise productivity learning wednesday november 13th 2013 100 200 pm et libraries share many common challenges scarce resources increased user demand ever complex collections systems workflows help manage challenges todays cloudbased library management services offering workflows save time discovery solutions meet users expectations libraries using services seeing drastic reductions time takes routine tasks integration cloud libraries applications partners data information shared departments libraries improving quality relevance enhanced along way archive available original developers network technology wanted democratize access information networks succeeded improving access ways governments corporations gathering using personal data unfortunate consequence argued author computer science pioneer jaron lanier live new york public library nypl event october 10 wednesday november 20th 2013 300 400 pm et webcast focus makes hoopla digital uniquely attractive digital solution public libraries features functionality offers simplify digital shift hoopla digital patrons borrow instantly stream download free dynamic content valid library card archive available result federal government shutdown many resources researchers academics library patrons depend on—like library congress lc archives—have rendered unavailable last week bad news eight days clear end stalemate sight theres telling long resources might lock good news variety institutions stepping fill gap make sure government shutdown doesnt turn information shutdown next series innovations come result accelerating demand education space serving students learners ages prek–12 higher ed lifelong learning provide new engagement library users drive next wave innovation david burleigh director marketing overdrive south carolina state library scsl launched south carolina state agency social media library new project archive tweets facebook posts youtube content generated official accounts south carolinas state agencies simplifying public access social media activity via single online portal scsocialmedialibraryorg portal archive developed collaboration archivesocial forprofit social media archiving company based durham nc regularly ranked busiest second busiest library united states king county library system kcls washington annually processes 22 million checkouts records 84 million visits catalog enough strain integrated library system ils years ago services director jed moffitt decided owing volume need add proprietary features system simply wasnt commercial ils market could meet librarys unique requirements famously coauthored institute museum library services grant 1 million enabled kcls experiment migrate open source evergreen ils developing peertopeer support model help libraries consortia interested moffitt admits growing pains past three years still maintains commercial ils vendors simply arent organized type development work kcls needs teaching real world pure joy time students love see something class pixels library journals magazines mass media technology press time discussing change happening visceral lesson professional adaptability continuous learning however could done without teach technologyrelated privacy issues digital trends tools debates students shadow nsas newlyrevealed surveillance practices higher education mainstream media tend report studies relating college students lack openness nonprint textbooks research experimentation area suggest student attitudes may starting change privacy society undermined daily intensity may unmatched history confluence compromises digital lives political arena chips away sense needs private risks codifying culture privacy right state hardwon continual effort worse state available wealthy enough protect overdrive digital library blog circulation apis allow approved partners request checkouts downloads holds returns within discovery interface means users able browse search librarys digital collection see whats available check title place hold without [ ] october 16 library journal school library journal host digital shift reinventing libraries fourth annual online event reinvented new format offering program tracks focused around community instruction getting beyond container new content ebsco platinum sponsor event lj reached scott wasinger vice president sales ebooks audiobooks ebsco publishing third series interviews addressing ongoing digital shift transforming libraries today tomorrow quick reversal position kindle lending penguin september 26 loosened terms renewed agreement overdrive announced day publisher agreed allow library patrons download ebook titles wirelessly via overdrives get kindle function instead initially announced first downloading titles computer sideloading titles kindle classic paperwhite using usb cord penguin resume business overdrive morning penguin spokesperson erica glass told lj september 25 according blog post karen estrovich collection development manager overdrive 17000 penguin ebooks already live available purchase overdrive marketplace although estrovich refers transaction purchase books offered one year term one copyone user lending model overdrive announced 17000 penguin titles new backlist available overdrive 's us library partners—public college consortium—via one copyone user lending model however kindle users able access penguin books via sideloading rather wireless loading effort enhance access options people arent affiliated universities colleges high schools notforprofit digital library jstor launched jpass new program offering individual users access 1500 journals jstors archive collection move underscores overdrives plans support robust selection streaming video libraries company tuesday announced appointment lee c milstein newly created position chief strategy officer milstein recently head news content partnership team googles youtube division previously held [ ] students faculty north carolina state university ncsu raleigh diving first full school year new library disposal schools centennial campus rest us get watch new model hits stride hunt library opened doors january much anticipation spring work kinks articulates vision team ncsus libraries team led susan nutter vice provost director ncsus libraries ljs 2005 librarian year saying lj librarian year always librarian year keeps living got ready tour james b hunt jr ­library north carolina state university ncsu raleigh last spring part association research libraries arl meeting held nearby buzz newly unveiled building reached level expected find however cool overhyped wasnt exactly right amount hyped every corner hunt library designed memorable stunning librarys vision claims grandiose might sound corners deliver october 16 library journal school library journal host digital shift reinventing libraries fourth annual online event reinvented new format offering program tracks focused around community instruction getting beyond container new content recorded books gold sponsor event lj reached matt walker vice president recorded books second series interviews addressing ongoing digital shift transforming libraries today tomorrow earlier month drexel university announced formation college computing informatics new educational hub act home schools computer science technology programs—including universitys alaaccredited ischool joins growing ranks mlis programs found new organizational management recently reasons increasing collaboration departments cutting administrative costs kansas city public library mo kcpl developed new software lending library remote desktop system enable patrons check use software applications adobe photoshop microsoft excel home computers laptops edx web site edx today announced partnership google jointly develop edx open source learning platform open edx expand availability platform learning tools individuals institutions around world collaboration google edx build operate moocorg [ launching early 2014 ] [ ] belts tightening departments across campus university south florida library faced cuts hours 24 hours day five days week administrators though seemingly underestimated much usf students counted library play host night study sessions reduced hours went effect august 26 usf students returned school find library opened 730 weekday mornings shutter doors midnight response hundreds students protested decision sitouts letter writing campaigns protests paid last week administration library officials announced return librarys popular ‘ upallnight schedule texas state library archives commission tslac awarded round rock public library system grant 49500 build innovation station afterschool maker space program aims engage middle schoolers projectbased science technology engineering mathematics art design activities grant part total 16 million awards tslac distributing fiscal 2014 texas library programs october 16 library journal school library journal host digital shift reinventing libraries gale part cengage learning gold sponsor event lj reached jim draper vice president general manager gale first series interviews addressing ongoing digital shift transforming libraries long islands jericho public library hampton library mattitucklaurel library recently launched customized versions capiramobile new suite native apps apple ios android kindle fire nook devices long hot summer apple case tech company allegedly conspiring bigname publishers fix price ebooks ibooks store drew conclusion company finally got bit good news last week though federal judge denise cote mitigated sanctions originally proposed company final terms injunction signed yesterday judge cote take much sting series penalties suggested department justice doj apples lawyers complained excessively harsh need greater accountability higher education back spotlight time major advocate calling president obama new plan rating colleges connecting financial aid allotments sure put higher ed administrators edge echnology education provider treehouse announced treehouse education library aid new pricing plan offers small demonstrably cashstrapped libraries discounts 50 percent subscriptions collection stepbystep online courses website design computer programming app development android ios devices entrepreneurship topics youre reading im sure youre already aware important twitter libraries 32 percent internet users platform importantly theyre type internet users strong overlap kinds people use libraries would knew offered kinds people tweet unlike social media twitter users receptive interacting libraries platform novoed privately held massive open online course mooc platform announced new entrepreneurship curriculum partnership several institutions including stanford university novoed developed taken private april new series 12 courses begins fall courses free though priced 250 one course venture capital priced 999 proquest affiliate rr bowker bibliographic information provider today signed definitive agreement sell bowker business intelligence commerce solutions products global information company nielsen audio publishers moving way beyond core audience capture sales libraries consumers june random house audio group launched onlineradioprint ad campaign reinforces librarians already know dont commuter roadtripper listen working ? knitting ? ironing ? campaign website tryaudiobookscom even features personal audiobook assistant match long project take titles similar length ad campaign caught attention new york times august 15 north carolina state university libraries ncsu libraries released lentil opensource software supports harvesting images image metadata instagram enables organizations build special collections based around topic event invite participation evaluating library program according release san antonio public library sapl month unveil connect central new 12800 squarefoot digital commons system 's main library addition beta tester overdrive sapl experimenting installation companys new overdrive media station oms interface ruggedized kiosk could deployed public areas outside library publishers worried public libraries lending ebooks restricted us 2010 uks publishers association pa warned libraries considering preventing remote borrowing ebooks unless certain protections put place announcement caused great deal concern part librarians library ebook distributors library web hosting provider lishost month launched library cms modular drupalbased content management system template tailored needs library websites move follows march debut prefab wordpressbased cms template designed libraries user experience ux consultancy influx offered conjunction web hosting positioned affordable comprehensive website redesign services individual libraries small systems statewide programs ebook ownership emerging california kansas arizona massachusetts aiming direct deals publishers cases longterm preservation local content others first glance partnership libraries airports may seem case strange bedfellows libraries offer space concentration relaxation airports notoriously stressful full distractions venues one thing common users looking something read citing concerns privacy employees security networks massachusetts institute technology mit nonprofit jstor filed motions intervening freedom information act foia lawsuit seeks obtain secret service documents regarding internet activist aaron swartz global information services company swets month launched new service help academic libraries pay manage article processing charges apc institutional scale move comes response sharp increase feebased open access publishing united kingdom dc public library dcpl yesterday hosted grand opening new digital commons dream lab collaborative workspace new areas designed enhance library systems digital literacy efforts building relationships local tech entrepreneurs since beginning 2013 four major library vendors announced launch new expanded streaming services enable patrons view movies television shows library home using computers tablets smart tvs device equipped web browser new rules take effect month intended protect kids privacy online librarians worried say stringent regulations may impede mobile app use elementary schools—and also prevent kids recreationally sharing favorite hobby sites big six publishers working libraries ebook lending capacity pricing licensing terms remain unfavorable many cases saturdays ala ebooks digital content whats next ? panel 2013 ala annual conference exhibition chicago concluded meanwhile concerns longterm preservation ebooks [ ] cengage learning reached agreement ad hoc committee first lien lenders reduce approximately 4 billion companys 58 billion outstanding debt company announced yesterday conjunction deal company announced might may cengage domestic wholly owned subsidiaries filed voluntary petitions chapter 11 bankruptcy court eastern district new york cengages nonus subsidiaries included filings continue operate ordinary course without interruption company said statement continuing travels edward snowden keeping national security administration 's nsa surveillance habits news discussion sunday 's lita top technology trends 2013 panel american library association 's annual convention turned frequently future privacy role libraries might play protecting patrons jason griffey head library university tennessee chattanooga launched kickstarter campaign help fund expansions upgrades opensource librarybox project libraryboxen selfcontained batterypowered pocketsized routers enable wireless distribution ebooks images digital content without internet connection joshua sosin associate professor dukes department classical studies become director duke collaboratory classics computing new digitalhumanities unit duke university libraries supported 500000 grant andrew w mellon foundation sosin first tenured faculty member university joint appointment library academic department september 2011 overdrive announced ebooks provided would accessible kindle devices big moment history ebooks libraries something library community wanted however increased access came privacy concerns amazoncom would due way system [ ] libraries use services items checked using new quick connect interface 3m selfcheck trigger novelist search enabling selfcheck screens display reading recommendations limited items owned patrons library academicpub launched shelf new component custom college plus course pack publishing solution help institutions maximize value existing licensing arrangements journals databases content providers movie game rental business redbox oclc launch pilot program summer sponsor arts festivals concerts outdoor movies free public entertainment events partnership local libraries program called outside box begin five libraries billings mt public library west town branch chicago public library richland library columbia sc chattahoochee valley libraries columbus ga cuyahoga county oh public library hathitrust digital library become digital public library america dplas single largest content hub two institutions announced june 18 metadata records associated 3384638 volumes growing daily held hathitrust accessible web dpla dpla application programming interface api digitized volumes continue reside hathitrust new portal content produced stored using bepresss widely used digital commons publishing institutional repository platform digital commons network helps users search hundreds thousands open access articles content dpla blog hathitrust digital library partner recently launched digital public library america dpla expand discovery use hathitrusts public domain openly available content library launched kickstarter campaign fund ebook platform would enable distribution ebooks developing world organization seeking 100000 pledges roll pilot program respire school gressier haiti fall response growing demand ebook content springer begun offering colleges small universities complete collections ebook titles copyright year pricing based size institution ebooks sold drmfree perpetuallicense model allows unlimited simultaneous use representatives publisher told lj creating open environment reading research analyzing copyright shades grey linking libraries archives museums together better explore new ways accessing digital collections much weeks episode twil weekly dose library innovation deepdyve article rental company today introduced additional freemium service user signs email password read eight million scholarly articles normally found behind paywall free five minutes following successful pilot orange county fl library system ocls online technology education provider treehouse island launched subscriptionbased service allow library patrons learn programming skills home library computer kid used play girl lived across street never got choose game house would say house get pick house shed say im guest get pick wouldve fine either rules fine choosing whichever advantage moment visiting bookexpo america bea last week occurred question whether ebook sold licensed many publishers dead ringers little girl across street sale sale ? selling vs licensing digital content international digital publishing forum 's digital book 2013 conference asked panel took place may 30 colocated bookexpo america last week new york featured bill rosenblatt founder giantsteps media technology strategies gave pointbypoint overview current state digital copyright law hachette book group may 29 announced plans provide unabridged audiobook recordings free national library service blind physically handicapped nls division library congress loc select backlist new titles including new releases available nlss talking books program end 2013 may 21 sipx provides cloudbased endtoend copyright management digital document delivery higher ed announced customer agreements several schools consortia including companys former home stanford university research underlying technology conducted last three years sipx spunout stanford completed financing operating separate forprofit company recently attended local hackfest sponsored government county reside app challenge one series events encouraging citizens invent new ways use considerable open data resources county make available others meeting held local high school surprise sixty people turned many far corners county group notably diverse one contingent however evidence librarians four corners sky 2009 michael malone novel promoted overdrives big library read ebook initiative checked almost 24000 times may 15 may 23 according preliminary data provided overdrive publisher sourcebooks titles position amazons sales rank charts also rose dramatically promotions first nine days moving 50000 spots 67198 16798 datadriven decision making creating large pools data around public libraries trying define everything overarching strategies granular collection development strategies although analysis data often left thirdparties libraries taking step hiring data analysts help administrators decide data means matters best present stakeholders archive available coming wire trial scheduled start june 3 penguin announced may 22 settle remaining ebook price fixing class action suits well claims filed 33 states publisher already settled similar federal claims department justice december 2012 settlement penguin agreed end allegedly anticompetitive agreements apple retailers period two years institute museum library services imls announced may 21 plans participate first national day civic hacking june 1 2 described publicprivatepeople partnership event described largest ever bring together citizens around country work local state federal governments—as well private sector organizations—with common goal improving community technology bookstats 2013 survey coproduced association american publishers aap book industry study group bisg released provisional numbers may 15 statistics recalculated wont impact trend bookstats found trade publishing overall saw significant growth since 2011 despite closures many brickandmortar stores period surprisingly publishers revenue brick mortar retail fell 7 percent made ground online growing 21 percent overall trade net revenue rose 69 percent 15 billion 2012 number books sold also grew 81 percent 2291 billion califa library group contra costa county library cccl today officially announced beta launch enki library new ebook platform designed host lend librarymanaged ebooks using douglas county model named sumerian god mischief creativity intelligence enki went live cccl san francisco public library sfpl may 6 soon serve multiple libraries california beginning members bay area library information system balis consortium spring bibliolabs charleston sc–based developer free multimedia anthology production platform biblioboard creator began offering subscription service allow users download view anthologies created libraries third parties two library service prototyping spaces two different places remarkable amount common nate hill runs operates 4th floor chattanooga large public library loft space operating flexible community makerspace event space jeff goldenson coran operated labrary 37day design experiment occupying vacant storefront cambridge public library science plos last week launched plos labs new division develop software prototypes coordinate opensource development projects aimed generating disruptive ideas products scientific communication customer segmentation studies data analytics combines demographic data lifestyle information help public libraries better understand customers services best meet communitys need whether schoolaged children emptynester couples type gisbased market segmentation also help inform strategies around initiatives levy ballot also eliminate inefficient marketing efforts archive available youre academic librarian youre probably already awash least peripherally news moocs—massive open online courses touted next big thing higher ed since burst scene year ago youre public librarian hand may even heard yet moocs bringing unprecedented challenges opportunities kinds libraries already theyre going grow update 1 report new policy federal news radio includes 10 minutes audio update 2 reaction new policy via free government information white house executive order declares information valuable resource strategic asset nation [ clip ] terms executive order [ ] abeginning may 8 instructors providing massive open online courses moocs via coursera option supplement video lectures content major academic publishers cengage learning macmillan higher education oxford university press sage publicationsand wiley cost students thats beginning coursera also actively discussing pilot agreements related alliances springer additional publishers company said statement could sea change moocs publishers business models datadriven collection analysis growing quickly libraries take advantage new tools services market allow rapid evidencebased decision making everything materials buy deploy collections data also underpinning large collaborative efforts create shared strategies management print collections archive available educators struggling distracted students competition attention time experiment different strategies getting reconnected larry rosen professor psychology california state university expert psychology technology believes solution lies helping students focus attention opposed simply trying get without distractions recommended technique actually quite simple revolves around fifteenminute time period students check facebook new texts least national telecommunications information administrations 4 billion broadband technology opportunities program btop helped 20 percent us libraries make improvements publicly available technology resources digital literacy within communities according report released monday american library associations ala office information technology policy oitp baker taylor bt announced release axisreader new ereader app developed specifically work companys axis 360 digital media platform axisreader app available library patrons install android apple ios tablets phones via google play store itunes 1 billion people facebook twitterverse help topple governments makes sense libraries would also using two social media channels connect communities right ? well yes libraries using social media thats clear according library journals survey public library marketing methods best practices 86 percent libraries said using social media top two social media platforms used libraries facebook 99 percent twitter 56 percent pinterest making gains 30 percent libraries reporting pinning problem 48 percent libraries surveyed said werent measuring efforts survey didnt ask libraries getting fans interact libraries spoken lately said still struggling right biggest trend website design responsive web design rwd responsive design website elegantly displays size device popularity rwd part response proliferation mobile devices hopes increasing usability organizations want ensure people use sites matter theyre accessing web rwd isnt solution library website woes see two problems rwd accomplish much doesnt address root issue providing library services mobile context overdrive sourcebooks preparing launch innovative ambitious pilot program whose goal clearly demonstrate impact libraries book sales author recognition overdrive sent letter today 35000 librarians worldwide invited opt program run may 15 june 1 allow participating libraries feature simultaneously overdrive home page cost single title sourcebooks purdue university libraries pul distributed data curation center partnered purdue university epubs repository launch data curation profiles directory new online resource track research data management projects academic libraries 1000 library professionals gathered san francisco april 2426 eager curious learn latest product news innovative interfaces also hear companys new leadership articulate firms direction year upheaval hachette book group today announced sell frontlist ebook titles libraries beginning may 8 hachettes entire catalog 5000 ebooks available overdrive baker taylors axis 360 platform 3m cloud library pricing licensing model similar one employed random house oclc begun supporting demanddriven acquisition dda worldcat knowledge base dda pioneer proquest subsidiary ebl first ebook service provide data sister company ebrary follow soon interest dda well established still challenges facing adopters programs douglas county libraries dcl pioneering project rather license much econtent forged new business model also exposed new frontier metadata march 22000 librarys nearly 58000 econtent titles purchased directly publishers stored adobe content server acs became quickly apparent library staff going get creative metadata associated material overdrives recent agreement touts plans deep api integration innovative interfaces inc iii products including sierra encore discovery services platform including new api updates include ability check place hold ebooks librarys online catalog according company announcement integration also enable seamless experience within overdrives content reserve collection portal offering option viewing librarys physical digital holdings sidebyside oclc recently launched library spotlight new free service uses data worldcat registry make easier users find location contact information libraries using web includes analytics tools help libraries examine patron traffic trends compare collections services libraries location local demographics criteria stock market hit record highs unemployment reached lowest level since recession began despite good news library economic environment seen commensurate improvement continues struggle find resources needed support library collections services conditions remain highly unsettled anyone create beautiful digital zine customized content thanks flipboard highly touted feature version 20 iconic newsstand app allows users select content find flipboard create magazines interest topic slj 's screencast shows make publication imagerich format add articles publish world select subscribers polaris library systems baker taylor bt announced working together integrate bts axis 360 digital media platform polaris integrated library system ils integration allow patrons browse place holds check ebooks digital materials sourced axis 360 without navigating away librarys catalog launched yesterday digital public library america 's portal offers browsing search access still growing aggregation cultural heritage records dozens us cultural heritage institutions time dpla began offering programmatic access metadata stores urging developers create interfaces access points collections first impressions almost uniformly positive though many suggested avenues enhancements refinements new york times crowned 2012 year mooc journalist audrey watters trains critical eye hottest trend education considers might mean k12 schools visit egypt two years ago george kerscher secretary general digital accessible information system daisy consortium found countrys major libraries small collection books available printdisabled patrons staff volunteers working make books accessible output limited handful titles year discerning outsider ­kerscher blind realized much microcosm process producing accessible books traditionally functioned united states simon schuster ss monday announced oneyear pilot program publisher 's complete catalog ebooks available sale lending new york public library nypl brooklyn public library bpl queens library beginning april 30 content library owns subscribes discoverable way librarians want however always case comes webscale discovery systems backing several technology investment firms stanfords venture lab taken private relaunched today novoed online learning startup offer combination massive open online courses mooc professional courses forcredit courses partnership universities simon schuster last remaining holdout among big six publishers comes library ebook lending announced today launching program new york city libraries text press release follows story update information becomes available simon schuster together new [ ] world mystery everpopular everevolving whether classic whodunit cozy police procedural something crime fiction still draws readers nationwide brief survey 232 public libraries conducted lj 55 % respondents reported mystery continues popular genre terms circulation survey also found print fiction collections 241 % materials mysteries new year mystery titles make 20 % library ebook collections like print counterparts highest circulating subgenres mystery ebooks police procedurals cozies however 57 % survey respondents purchase eoriginal mysteries perhaps owing lack review coverage issues discovery ? chief emystery purchase influencers highdemand titles user requests cost 3m process rolling new catalog acquisition tool cloud library ebook platform company announced today beta testers said new features included buying tool offer several helpful improvements compared old interface every april toronto public library tpl runs keep toronto reading program monthlong celebration includes big community read single title first year patrons able enter interact world chosen book discussion selfpublished titles libraries increased recent years direct proportion angst surrounding ongoing ebook licensing negotiations major traditional publishers prompted prospect limited availability popular titles higher prices—probably both—­librarians understandably weighing alternatives might satisfy readership demands however real barriers must overcome selfpublishing likely even small component many collection efforts barriers fall away naturally growing market gains momentum filters way downstream publishing markets like libraries others require concerted advocacy effort overcome librarians rejoice supreme court united states insisted wiley v kirtsaeng decision legally lend foreignmanufactured materials case textbooks textbookmarket arbitrage though thats worth keeping sight extrapolating reactions sides wiley v kirtsaeng decision likely mean textbookpublishing business textbook publishers libraries dont like ? question frequently come course twoyear planning process digital public library america dpla simple one ? since april 2010 planning initiative taken form extended national design phase plan build together emphasis process solicit diverse views working toward move allow independent software developers write programs accessing one million digital objects records new york public library week released application programming interface api facilitates connection nypl digital gallery processors low volume small transactions libraries unlikely count credit debit card processing issues among pressing concerns yet many libraries may unaware state compliance payment card industry data security standard pci dss enforced credit card industry standard helps ensure payment data protected theft fraud libraries friends groups interested reselling giving away used ebooks digital content files purchasing may little cautious march 30 court decision capitol records v redigi inc redigi virtual marketplace preowned digital music sued capitol records court characterized fundamental clash culture policy copyright law envisionware one largest providers selfservice products public library market preparing ship month reporting tool company says thread together visualize data entire line 22 products april 3 north carolina state university officially dedicate james b hunt jr library named north carolinas governor 1977 1985 1993 2001 library also house institute emerging issues public policy think tank established hunt amazons recent acquisition goodreads likely ripple effect social media sites targeted book lovers librarything bookish potentially drawing membership defectors unhappy sale meanwhile many kindle owners introduced goodreads first time sites social media functions integrated kindle devices goodreads fully independent… made natural allies people wanted avoid consolidation industry particular publishers librarything founder tim spalding told lj time transition library automation industry stakes high vendors creating innovative—or even transformative—products competing bring products first market establishing momentum early essential library arena attentive successes vendors peers risk averse youve doubt heard lawsuits edwin mellen press brought mcmaster university librarian dale askey one suits also named mcmaster plaintiff subsequently dropped far know writing naming askey alone still stands im writing [ ] credo reference integrating texttospeech technology readspeaker literati fulltext reference line offerings texttospeech functionality already available literati public soon added literati academic literati school literati student athlete latter two products launched earlier year move comes several library organizations embarking focused efforts address need accessibility digital content april 12 library ideas launch freading 20 upgrade existing paypercirc ebook platform include several new features marc records supplied oclc 30000 titles offered service along updated website enhanced search functions new navigation tools help users find books grouped category summer freading also begin offering foreign language ebooks beginning 2000 titles spanish update 2 allthingsdwsj actually amazon paid 150 million goodreads according sources amazon paid 150 million goodreads popular books recommendation service number could close 200 million certain performance metrics met update read goodreads ceo otis chandler say amazon acquisition [ ] penguin group today announced changing terms library ebook lending program tuesday april 2 begin allowing libraries purchase lend ebook titles day hardcover editions released according associated press previously penguin placed six month embargo new ebooks [ ] library conferences great places pick new ideas roundtables seminars sessions filled stories successful projects peers vendors professionals fields information sessions help libraries get started new initiatives without reinvent wheel projects involve degree risk projects fall apart result preventable problems recent code4lib 2013 event held uic forum university illinois chicago group librarians found fail4lib preconference workshop discussing failed problematic projects constructive discussing success according sunlight foundation march 20 house oversight government reform committee greenlighted bill would make public presidential library donation records bill would require disclosure donations 200 whereas currently donations required disclosed lj 's career insights reaches movers shakers asks key moments careers lynn yandell led installation green energy system fayetteville public library arkansas one change agents sirsidynix one largest ils companies poised roll new system later year company says integrate product lines cloud architecture various aspects bluecloud suite bcs discussed previously products comprisessuch enterprise bookmyne social libraryare already market cosugi conference held salt lake city march 1416 bcs announced reengineered technology stack holistic brand company officials say become architecture upon company build products future lj 's career insights reaches movers shakers asks key moments careers nina mchale seeks cuttingedge avenues technology serve patrons better one tech leaders rebuttal roy tennant 's recent blog post paul oh national writing project maintains knowing html—even knowing find html webpage knowing tags comprise language—makes us increasingly web literate gives us critical knowledge relation important writing production engine lifetime internet digital public library america dpla last week appointed dan cohen founding executive director lj caught discuss work director roy rosenzweig center history new media george mason university plans dpla owns library patron user data ? libraries think matter increasingly competitive landscape data valuable ? article fourth installment series initiative build digital public library america examine underlying role law ebook lending debate explore potential solutions problems consider dpla contribute solutions serve core issue way copyright law works–or doesnt–when comes books libraries readers united states today future roy tennant 's recent series assimilating new technology start read spurs talk helping library school students workhorse course one first developed taught 2007 've teaching ever since introduction computerbased technologies libraries called digital tools trends debates newcomers computer source code look quite alien librarians might reminded first time saw marc record—a mishmash recognizable words bits information embedded funky punctuation n't waylearning code help librarians customize improve usability webbased resources vendor interfaces improve communication librarys staff software vendors week library congress lc argued legality unlocking cellphones issue decided using librarys power grant digital millennium copyright act exemptions beta test hoopla new digital content platform midwest tape launched friday columbus metropolitan library cml expand next several weeks include tests several libraries proquest oclc announced launch data exchange program share metadata across oclcs worldcat local proquests summon service full text proquest central ebrary ebooks enriching discoverability users services part librarys efforts raise awareness poetry leading national poetry month april nypl encouraging aspiring poets follow nypl twitter submit three poetic tweets english public posts twitter stream march 1 10 2013 overdrive initial stage rolling robust data reporting tools company officials say allow libraries improve services pending federal budget sequestration could cut appropriations budget government printing office 53 % approximately 67 million addition gpo expecting sequester force federal agencies cut back ordering printing information services gpo would also lower agencys revenue telecompaper dutch libraries lend ebooks part services education culture minister concluded research report copyright law digital services role public libraries acknowledging issue may still face legal challenge government proposes copyright laws exception [ ] must certainly rank one least expensive plans ever proposed replace librarys aging online public access catalog terminals white plains public library wppl soon roll terminals built inhouse using 49 apc 35 raspberry pi computers heres media roundup direct links coverage lawsuit first reported yesterday weve also embedded full text complaint filed february 15 2013 federal district court southern district new york bottom post classaction lawsuit filed posman [ ] sometimes tell people 'm haunted ipod first came us looked basically said oh fun 's digital walkman figured would walkman did—give people easy private way listen albums walked around—the difference could hold multiple albums music would loaded saved digitally perfectly reasonable assessment situation particular reason expect ipod fact going take us albumbased music economy back songbased one thereby massively disrupt record industry giving birth iphone thereby revolutionizing mobile computing marketplace telephone services roku lending program launched last year ephrata public library epl pennsylvania proven popular library planning invest several media streaming devices coming months depending institution academic library succeed partners despite different functionalities resources services moving towards common vision offers benefits ukbased company owlstone nanotech known bombdetecting technology firm turning technology detecting metaphorical ticking time bombs library owlstones lonestar portable gas analyzer detect volatile organic compounds vocs correlate paper degradation digital information industry veteran jeff moyer last month launched reveal digital company aims use lean efficient funding model digitize special collections make collections open access reveal treat digitization service libraries rather traditional publishing product approach said ongoing efforts trade scholarly publishers demand higher prices digitized content growing flawed perception new technologies made information function libraries obsolete put librarians defensive new devices methods deliver entertainment information people want rekindled ancient debates mission library december 27 2012 colorados douglas country libraries first publicly announced partnered impelsys announcement pointed beta test phase complete dashboard available impelsys purchase libraries beta fast service formally launched [ ] lc announcement library congress today unveiled library congress national recording preservation plan blueprint saving americas recorded sound heritage future generations congressionally mandated plan spells 32 short longterm recommendations involving public private sectors covering infrastructure preservation access education policy [ ] 2012 usage apps surpassed usage browsers smartphones tablets first time according recent data digital business analytics provider comscore difference still small—545 percent mobile subscribers used apps october 2012 compared 527 percent using browsers—but shift could mark significant moment mobile computing developers continue enhance accessibility incorporate features including cloudbased storage geolocation voice input visual input native apps making mobile devices something sum component parts multidisciplinary open access journal publisher peerj announced publication first 30 peerreviewed articles today cofounders jason hoyt formerly chief scientist vp research development mendeley peter binfield formerly publisher public library science plos launched peerj june 2012 quickly garnered support project ultimately assembling editorial board 800 academics advisory board 20—five nobel laureates peerj hoping business model help make academic publishing efficient less expensive researchers libraries publisher research workflow solutions provider john wiley sons implemented labtivas readcube web reader wiley online library pdfs read readcube allow users access hyperlinked inline citations annotations clickable author names direct access supplemental content making easier researchers discover access interact scientific literature playaway view units designed kids mind two librarians participated pilot test portable audiobook media platform provider say units ' portability easeofuse also proven popular adults since company began offering units featuring classic tv shows doityourself diy videos documentaries content interesting convergence web people talking quiet contemplation macmillan friday became last five major publishers settle lawsuit pricing ebooks originally filed us department justice doj 15 states april 2012 email addressed authors illustrators agents macmillan ceo john sargent wrote believed company done nothing wrong could still win case risk losing legal battle become high university pittsburgh recently wrapped pilot test plum analytics one several new companies emerging field altmetrics examining often paper downloaded mentioned news linked social media sites altmetrics providers offer researchers funding agencies librarians immediate quantifiable view impact article field jerry kline founder innovative interfaces third largest north american library automation company terms revenue sold remaining shares company private equity firms huntsman gay global capital jmi equity fully company american library associations digital content libraries working group dcwg begun exploring idea could help publishers better understand powerful impact libraries authors bottom line weekend iverse media announced comics plus library edition available school public library patrons via tablet computers desktops mobile devices beginning april 1 recent months 250 libraries beta testing service offers 10000 comics graphic novel titles including adventure time doonesbury bone mouse guard sesame street robert jordan 's wheel time u chicago library news university chicago library staff members developing new library catalog replace current library catalog lens vendors support current catalog systems planning discontinue necessitating change new catalog could launched [ ] ebooks digital literacy plenty debate midwinter meeting american library association unconference january 25 revealed clear consensus one topic maker spaces theyre red hot chicago public library joined list major us libraries signed torontobased bibliocommons discovery provider investment chicago public library foundation made possible threeyear deal announced saturday among libraries bibliocommonss bibliocore catalog live seattle public library cleveland [ ] late rainy monday afternoon end american library associations midwinter meeting 39 leading librarians library vendors gathered 90 minutes around horseshoearrangement tables fourth floor seattle public library discuss create new lending experience group came together [ ] recorded books announced worldwide availability indieflix libraries online streaming service offer access independent films shorts documentaries library cardholders computers android ios tablets mobile devices roku later year ps3 xbox game consoles service offer patrons unlimited access films screened 2000 film festivals worldwide interested libraries would pay flat annual fee using tiered pricing model based total materials circulation edge initiative released earlier month initial version benchmarks hopes libraries across country use evaluate measure public access technology services groups efforts subject panel ala midwinter meeting seattle saturday edge benchmarks version 10 [ ] roger brisson head metadata services boston university bu libraries deeply immersed cloudbased library services platform alma ex libris better part two years bu went live alma november one early adopters brisson part ala midwinter conference explained [ ] american library association digital content working group report created ala digital content libraries working group dcwg used librarians weigh ebook contract variables important library report assesses 15 ebook contract variables importance libraries ranging ebook title inclusion ebook pricing immediate patron access variables include important ebook lending characteristics ebook revenue streams publishers ebook accessibility people disabilities innovative interfaces inc today announced new development initiative integrate access digital public library america dpla encore synergy platform separately company announced today decision center collection management solution implemented several public academic libraries including jefferson county public library co tulsa citycounty library ok university nebraska lincoln recent tv ads samsung galaxy smartphones two actors exchange music playlist simply tapping phones together quick easy method exchanging information enabled near field communication nfc technology isnt particularly prevalent feature smartphones yet given nfcs functionality—it particularly useful applications like secure contactless payment—it seems likely ubiquitous feature smartphones future planning executing mooc massive open online course easy undertaking involves lot work including thoroughgoing reevaluation pedagogical goals methods lots planning extensive technological support get module mooc right also involves lots new decisions copyright peter brantley recently director bookserver project internet archive ia previously director digital library federation accepted position director scholarly communication hypothesis lj caught find new project captured interest todays announcement sirsidynix 3m today announced intent integrate 3m cloud library content eresource central currently scheduled release q1 2013 [ clip ] library users eresource central provides simple access library resources including ebooks ejournals via single user interface eresource central include full support [ ] proquest january 18 signed definitive agreement acquire ebook library ebl companies announced today plan merge ebls platform ebrary proquest acquired january 2011 statement press proquest ceo kurt sanford said company viewed ebls business models acquisition tools complementary ebrarys core platform technology subscription service content selection major bookstore chains struggling draw foot traffic ebooks proliferating online publishers finding increasingly difficult help potential customers discover new authors explore midlist titles environment libraries could powerful partners noted group panelists libraries important ever discovery session digital book world 2013 conference new york last week nobody loves debut novelist like librarian love finding books said stephanie anderson head readers advisory darien library sixty percent publishing executives believe tablets become ideal reading platform 45 percent believe dedicated ereaders soon irrelevant according recent online byinvitation survey conducted global research advisory firm forrester david vinjamuri someone lot experience marketingbranding adjunct faculty member nyu bloggercolumnist forbes postedwhy public libraries matter second article twopart series vinjamuri public libraries comments 1 100 % agree vinjamuri [ ] brooklyn public library tuesday unveiled central librarys shelby white leon levy information commons area—a new public space designed complement buildings history pointing toward librarys future 5500 square foot area really consider nucleus around future service delivery strategies revolve richard reyesgavilan bpls chief librarian told group librarians gathered throughout region preview space last week dr martin eve lecturer english literature university lincoln recently proposed open access archive humanities social sciences plos model lj caught hear plans datadriven voter outreach become crucial component modern political campaigns wadsworth public library wpl recently illustrated analytics tools underpin efforts also help libraries getoutthevote flurry partnership announcements pending ala midwinter seattle sirsidynix within weeks official launch eresource central ercthe electronic resource management system promises make ebooks digital content multiple vendors seamlessly available symphony horizon ils systems via sirsidynix enterprise portfolio discovery tools recent months ebsco publishing deepening extending partnerships major vendors library management systems around world remain focused considers core competency—discovery end company planning 2013 implement ils integrations first announced june 2012 oclc sirsidynix [ ] company announcement mcgrawhill professional today announced offering enhanced purchasing program mcgrawhill ebook library [ clip ] new purchasing alternative – perpetual access – designed give libraries flexibility acquiring mcgrawhill professionals digital content meet growing demands patrons ebooks [ clip ] [ ] among many gadgets gewgaws announced week consumer electronics show las vegas debut may boon students getting comfortable digital textbooks new etextbook dashboard tool included feature etextbooks distributed kno inc allow students keep study analytics information private optin share study results peers classmates completing deal originally announced august douglas county libraries last week acquired almost 10000 ebooks indie distributor smashwords using companys new library direct service transaction took much longer initially expected ultimately helped parties discover ways weed filter tweak list independent titles develop optimal collection dcls patrons seismic move struggle create workable ebook access model users americas libraries engineered joanne jo budler kansas state librarian realized initial proposal 2010 renew kansas state library ksl contract overdrive would increase administrative costs 700 percent next years state ebook deal restructured despite risk disrupting even losing access ebooks users kansas libraries budler rejected one proposal overdrive new contract year ago right transfer titles overdrive new platform dispute set long public national examination library service agreements update digital preservation expert founder lockss dr david rosenthal offer analysis amount data archive contains hat tip lorcand — library congress blog post white paper embedded provides info complete archive tweets twitter donated [ ] cuyahoga county public library ccpl pioneer library system pls hennepin county library hcl midcontinent public library mcpl among several library systems broke singleday ebook audiobooklending records past christmas according announcement overdrivein separate news 3m last month achieved milestone goal make ebook searching completely seamless experience top distributors ebooks public libraries along counterparts among ils vendors going sit leading librarians us canada end month discuss technology business model electronic lending develop january 28 gathering seattle public library coincide midwinter meeting american library association although roundtable discussion part conference one concerns expressed planning initiative create digital public library america dpla existence might threaten public libraries credit fear—no outcome initiative could worse—the dpla designed precisely opposite establish platform resources help libraries cultural heritage institutions public private succeed digital era avid readers made new years resolutions visit local library often might interested library extension google chrome free extension lets users know whether specific books ebooks audiobooks music cds available local library browse titles amazoncom thirteen percent people aged 16 older united states used mobile device visit library website otherwise access library services according national survey pew research centers internet american life project percentage doubled since 2009 report notes citing earlier survey conducted researchers university washington news release nook media subsidiary barnes noble today announced pearson worlds leading learning company agreed make strategic investment nook media pearson agreed invest 895 million cash nook media llc postmoney valuation approximately 1789 billion exchange [ ] holiday letter authors illustrators agents macmillan ceo john sargent says pilot ebook program libraries programs existence confirmed october launch early 2013 also learn program limited part macmillan list books want specifics ? sorry [ ] earlier today learned 3m cloud library polaris announcing release integrated ebook catalog 3m cloud polaris opac installation baltimore county public library take look afternoon weve heard overdrive blogged next generation websites live [ ] digital public library america dpla europeana today announced official launch leaving europe new life america jointly curated virtual exhibition tells story european emigration united states 19th 20th centuries exhibition includes digitized photographs manuscripts broadsheets paintings letters audio government documents materials us european libraries museums archives curated describe experiences faced different groups emigrating europe united states ebook library ebl library ebook platform launched 2004 australian company ebooks corporation worldwide success 600 institutions encompassing thousands libraries around world use ebl majority 81 percent academic libraries another 15 percent client base made special government corporate libraries remaining four percent split public school libraries higher education institutions large small including three lj look closely—the university texas ut austin wellesley college one famed seven sisters schools fairfield university ct—are among ebls many clients patrons visiting new york public librarys science industry business library sibl free access entire catalog 1500 instructional online training videos offered lyndacom thanks new partnership announced last week first time service deployed public library setting across range ip addresses allowing sibl offer lyndacom access 60 workstations throughout building without requiring login information got thoughtprovoking conversation digital humanities question answer site day columbia university planning twoyear staffreskilling program librarians consulting arm [ universitys ] reenvisioned digital humanities center columbias hardly library—hardly academic library even—needing reskill existing employee complement various ways digital humanities one possibility many granting necessity profession ? saturated nonconsolidated field recorded books hopes distinguish ebook sales platform allow publishers set licensing terms libraries titlebytitle marketbymarket basis analyze impact decisions comparing library circ consumer sales zip code level ebooks libraries web site sponsored library renewal topeka shawnee county public library kansas relaunched provide public awareness news ebooks libraries david lee king writes goal isnt complain share information current ebook landscape [ ] research collaboration startup mendeley week announced launch new whatyouseeiswhatyouget wysiwyg citation style editor enable users format citation styles contribute open repository reused academics produced collaboration columbia university libraries support grant alfred p sloan foundation new editor developed response frequent requests mendeleys user feedback board due longstanding frustration amazon 's failure make kindle ereaders accessible people blind officials national federation blind protesting outside amazon 's seattle headquarters december 12 library journal mean library anthropologist ? nancy fried foster trained anthropologist columbia university conducted fieldwork several wapisiana villages roraima brazil also chance research england guyana venezuela papua new guinea background provides lot field experience grounding anthropological theory apply look happens libraries open access one part larger shift taking place academic world—particularly sciences—says richard price founder ceo academiaedu price argues academia moving toward system credibility research publications ultimately researchers gauged prestige journal works published usage citations professional feedback works generate online exciting news jstor todays announcement jstor pleased announce new alumni access program enables participating higher education institutions provide alumni access jstor archive collections important next step ongoing efforts extend access scholarship individuals around world [ ] peerj new multidisciplinary open access journal focused biological medical sciences today announced first formal call papers submissions accepted beginning december 3 2012 journals launch announced june company cofounders jason hoyt formerly chief scientist vice president research development research software provider mendeley peter binfield formerly publisher public library science plos told lj anticipating wholesale move open access academic publishing front doors boston public library bpl appear words free bpl host celebration april 2013 launch officially project based upon three words digital public library america dpla ambitious broadbased effort establish new library platform digitallymediated age emop project led texas use page images proquest 's early english books online early european books gale cengage 's eighteenth century collections online sources create database early typefaces used english books documents train optical character recognition ocr software read documents mary lee schneider becomes president chief executive officer follett corporation schneider 's appointment important implications elementary high schools rely follett print digital learning materials im writer geek coursesmart wanted track students use etextbooks improve texts could totally sympathize seems coursesmart wants use analytics fix book reader potential disturb privacy advocates put students etextbooks altogether media decoder ny times penguin group plans announce monday expanding ebook lending program libraries los angeles cleveland surrounding areas though new distribution partner pilot program begin year penguin worked baker taylor distributor [ ] golden gate capital 12 billion san franciscobased private equity firm significant software technology portfolio entered agreement acquire library automation solutions provider ex libris group current owner leeds equity partners companies announced morning deal expected completed december new ownership ex libris remain independent business based jerusalem run current management team company explained announcement additional terms sale disclosed mobile app shop boopsie announced boopsie star program help library vendors increase visibility mobile apps making available librarybranded boopsie mobile portals boopsie apps already offer oneclick access vendors including overdrive mango languages tutorcom credo reference ebsco galecengage learning recorded books library h3lp coursesmart worlds largest provider digital course materials announced pilot test coursesmart analytics program evaluate students use specific textbooks measuring page views total time spent reading well notes highlights made aggregate data allow professors course designers academic administrators assess effectiveness digital titles faculty also access etextbook reading habits specific students enrolled courses buffy hamilton best known unquiet librarian soon joining cleveland public library starting next year hamilton become cpl 's learning specialist work engage clevelands patrons students greater public librarysupported communities participatory learning open source program created part effort make us redistricting process transparent awarded one five inaugural strata data innovation awards last months oreilly strata conference gathering leading minds emerging field big data webbased program districtbuilder developed public mapping project effort engage public redistricting process scottsdale public library spl recently went live papago salado story tour collection digitized project features historic photos several citys notable buildings accompanied audio files locals telling stories buildings collection got start last year arizonas papago salado association received grant arizona humanities council record memories historical buildings november 8 authors guild appealed verdict case hathitrust us court appeals second circuit guild filed suit trust 2011 alleging trusts digitization efforts constituted copyright infringement however october 10 judge baer united states district court southern [ ] coup 3m announced june three months penguin group severed relationship overdrive brought penguin tentatively back library ebook fold pilot project new york public library nypl brooklyn public library bpl deal typified way 3m made presence felt library ebook market striking notable content deals bringing considerable experience technology company bear development 3m cloud library platform hiring away lj reviews editor heather mccormack developers behind book genome project booklamporg launched kickstarter campaign game books new digital card roleplaying game designed reward young adults reading funding raised campaign would used design produce distribute 4000 game books starter kits us libraries founded 2003 book genome project works publishers solve challenges book discovery using computer analysis language theme characters books brown university library month opened new patrick digital scholarship lab facility offers students access software used variety disciplines stateoftheart viewing listening environment centerpiece lab video visualization wall made twelve 55inch led screens used together show single seven foot 16 foot image video 24 megapixel resolution linked individual touchscreen monitors groups classes working collaborative projects free library philadelphia flp week settled lawsuit filed may four blind patrons assisted national federation blind nfb terms settlement flp agreed supplement collection 60 nooks ten accessible devices according press announcement nfb within four years library transition collection ereaders accessible blind begin incorporating accessibility requirement technology procurement contracts stultifying confusion library ebook lending would benefit empirical approach would like propose least short term harpercollinss 26loan cap model far perfect receive careful analysis according younger americans reading library habits pew research centers internet american life project 83 percent americans aged 1629 read book past year compared 78 percent americans 16 chattanooga gigabitpersecond connection means opportunity attract new business city even sponsoring competition entrepreneurs winning ideas receive financial incentives move chattanooga similarly director corinne hill along cpls new assistant director technology digital initiatives nate hill hopes turn library creative hub include competitive art technology residency program drawing cuttingedge talent library community lj 's third annual ebook third annual ebook summit digital shift libraries ebooks beyond featured insightful presentations lively discussions topics ranging ebook discovery ebooks affected collection development strategies growth etextbooks postmortem industry 's response research works act early year readers continuing experiment ebooks pace adopting format increasing according forthcoming edition lj 's fall 2012 patron profiles survey patron profiles fall 2012 report contains detailed data ebook user demographics device preference preferred reading formats library visitation trends shifts onsite use patron book ebook acquisition trends opinions possibility libraries selling ebooks section selfpublishing trends scott wasinger ebsco publishings vp sales ebooks audiobooks discusses ebscos new collection manager tool new options patron driven acquisition plans expand companys fiction audiobook offerings 2013 part series qas leading digital shift libraries ebooks beyond ljs third annual ebook summit wednesday october 17 challenge turn ornately designed inconveniently shaped basement sleek technologydriven community space ? question bostwick design partnership faced taking task creating techcentral cleveland public librarys new technology center lower level librarys downtown louis stokes wing third year ljslj ebook usage reports track longterm trends public academic k12 school libraries presenting detailed information libraries adapting technology sponsored freading ebooks ebscohost follett years reports freely available download steve potash overdrive president ceo discusses several new developments company including new apis simplify ebook integration new overdrive read browserbased ereader companys new win catalog part series qas leading digital shift libraries ebooks beyond ljs third annual ebook summit wednesday october 17 attendees annual polaris users group pug conference last week given indepth look results ils providers integration efforts 3m cloud library well new features systems latest version polaris 41 vision integration effort polaris president ceo bill schickling explained opening presentation simply create system would allow patrons check ebooks directly librarys opac using library authentication information nothing tom mercer 3m library systems digital business development leader discusses 3ms integration efforts ils provider polaris recently launched pilot penguin books new york public library part series qas leading digital shift libraries ebooks beyond ljs third annual ebook summit wednesday october 17 dpla web site digital public library america—a groundbreaking project make content nations archives special collections digital searchable freely available—will launch pilot projects seven states 1 million funding john james l knight foundation state libraries regional digital library [ ] kindle owners lending library debuted us early november 2011 5000 titles last count 180000 titles available us koll users todays news amazoncom amazoncom inc today announced kindle owners lending library coming uk germany france later month bringing kindle [ ] great hope rapidly maturing discovery products promote information literacy strategies also deliver metasearch federated search failed achieve—a googlelike interface provides fast single point entry institutions relevant vetted scholarly content however moment even libraries struggling reestablish compelling place start research three constituencies—libraries content providers discovery service vendors— even agree common vocabulary describe honorable harold baer jr yesterday held hathitrusts mass digitization fair use spite challenges raised lawsuit authors guild others associations individual authors crucial reading case baers rejection plaintiffs theory section 108 copyright law prevents libraries claiming fair use defense baer said opinion imagine definition fair use would encompass transformative uses made defendants mdp would require terminate invaluable contribution progress science cultivation arts time effectuates ideals espoused ada frank menchaca executive vice president publishing gale cengage learning discusses digitization projects companys new college courses public libraries part series qas leading digital shift libraries ebooks beyond ljs third annual ebook summit wednesday october 17 37 member libraries orbis cascade alliance replace current ils discovery systems ex libris alma unified resource management system primo discovery solution alliance announced today following extensive request proposal process orbis council library directors decided enter contract library automation provider ex libris july rich rosy vice president general manager ingram library services discusses distributor 's views econtent management part series qas leading digital shift libraries ebooks beyond ljs third annual ebook summit wednesday october 17 new library city blog post ebookdigital publishing expert david rothman offers praise new ios ebook reading app version 10 released douglas county libraries last friday app provides access epub pdf ebooks acquired directly dcl well overdrive materials app powered [ ] skip dye vice president director library academic marketing sales random house discusses publisher 's views ebooks libraries part series qas leading digital shift libraries ebooks beyond lj 's third annual ebook summit wednesday october 17 bt announcement baker taylor today released upgrade popular axis 360 digital media platform new options allow library patrons check ebooks ereaders compatible epub pdf formats nook sony reader kobo devices [ clip ] axis 360 library patrons use virtually [ ] selfpublishing via libraries hot topic days califa partnering smashwords allow order cialis overnight patrons selfpublish public libraries brought espresso book machines seen demand selfpublishing dwarf printondemand jamie larue david weinberger call libraries platform selfpublished [ ] via oclc geek library oclcs community awareness campaign designed highlight value public libraries received 1924883 bill melinda gates foundation extend participation program 1000 additional libraries june 2015 funding allows increased emphasis library staff planning implementation program [ ] association american publishers aap publisher plaintiffs mcgrawhill pearson education penguin john wiley sons simon schuster settled longrunning litigation google today lawsuit googles scanning library books first filed 2005 result settlement publishers choose make books available [ ] september 27 california governor jerry brown signed legislation would give undergraduates free access online textbooks 50 common courses california public colleges students also pay 20 hard copy begun back 2001 oreilly media pearson education safari books online something pioneer contains 25000 ebook video titles 75 publishers new publishers added regularly main strength specificity rather try cover every possible subject safari books online concentrates largely technology business especially programming subscription basis overdrive announcement overdrive [ announcing ] release free overdrive media console app nook making even easier users borrow ebooks audiobooks libraries schools new overdrive app users nook hd nook hd+ nook tablet nook color wirelessly borrow ebooks mp3 [ ] 3m cloud library new york public library nypl brooklyn public library bpl publisher penguin books officially launched pilot program allow patrons two systems check selection penguin ebook titles six months initial publication nypl also offer additional titles 3m cloud library company said announcement today past year fayetteville free library ffl enjoyed successful rollout fabulous laboratory fab lab maker space resulted librarys commitment community engagement innovation time librarys staff honored speak fab lab explain success also variety challenges assumptions libraries face developing similar space past 40 years public libraries followed popular culture evermoreabstract artifacts digital age offering music video every format public computers internet access online branches downloadable content libraries following maker culture back things hold hands maker spaces libraries latest step evolving debate public libraries core mission collecting era scarce resources curation era overabundant ones libraries moving incorporate cocreation providing tools help patrons produce works art information sometimes also collecting results share members ­community month new york public library nypl celebrating centennial cages birthday live event september 27 publication john cages prepared piano new edition point ibook periodical series evening event also offered nypl opportunity highlight ongoing development john cage unbound living archive new website showcases john cage manuscript collection housed nypls library performing arts well videos professional musicians students others explain prepare perform works cage googles entry internet provider business kansas city ks kansas city mo moving ahead thanks lastminute rally community groups earlier month enable 89 percent cities access service – including many public libraries schools american library association president maureen sullivan spoke 100 publishers week association american publishers event new york presentation struck placatory tone sullivans open letter publishers regarding current state ebook access libraries sent days earlier began arguing [ ] association american publishers aap today issued response american library association ala president maureen sullivans open letter monday sharply criticized ongoing refusal several major publishers sell ebooks libraries aaps response counters publishers support concept elending must solve breadth complex technological operational financial challenges make reality individual publishers working address challenges antitrust laws prohibit publishers convening find common solutions emerging issues statement argues goes question timing open letter noting aap scheduled meeting ala 100 representatives publishing community days wikipedia users create ebooks using articles english edition crowdsourced reference library consultant linda braun shows 's done macmillan working pilot project test lending ebook titles libraries publisher confirmed statement publishers weekly today details project remained undisclosed working hard develop ebook lending model works parties value libraries role play reading community macmillan wrote pw prepared statement currently finalizing details pilot program announcing ready reaction demand seth finkelsteins blog alerted fact case aaron swartz stealing jtsor files expanded four felony counts thirteen overview revised charges september 24 2010 january 6 2011 swartz contrived break restrictedaccess computer wiring closet mit b access [ ] increased availability books electronic format libraries move justincase justintime delivery model storage facility collaboration center wonder academic libraries shifting toward purchasing ebooks paper copies like transition print electronic serials transition comes [ ] post academic ebooks user experience appeared first digital shift american library association ala friday denounced hachette book groups decision implement steep price increases backcatalog ebooks sold library market overdrive broke news customers email september 13 stating hachette raising ebook prices october 1 2012 currently available ebook catalog ~3500 ebook titles release dates april 2010 earlier average prices increase 220 percent ala president maureen sullivan expressed disappointment hachettes choice noting ala believed publisher moving toward favorable terms librariesthe post ala larue respond hachette price increase appeared first digital shift institute museum library services imls awarded 291178 grant public library association pla develop online collection digital literacy resources two year grant given via laura bush 21st century librarian program help pla partner american library association alas office information [ ] post pla gets grant build digital literacy resource libraries appeared first digital shift update 4 jamie larue douglas county libraries comments library journal report update 3 reached overdrive specific questions price increase technical issues hachette refers comment told us policy dont comment internal processes business relationships [ ] june nicely timed american library associations annual conference gluejar announced first unglued title oral literature africa well available downloading several different formats pdf epub kindle kindle daisy full text djvu also read online using internet archives book reader [ ] post first book comes unglued appeared first digital shift dpla announcement digital public library america dpla steering committee pleased announce appointment five members inaugural dpla board directors inaugural board support dplas goal creating maintaining free open sustainable national digital library resource inaugural dpla board [ ] many libraries facing squeeze rising usage flat declining funding selfservice technologies become necessity librarians discussed technologies lj said selfservice options generally improve service overall tools place staff time answer questions assist patronsthe post helping users help selfservice technologies product watch appeared first digital shift home base new york public library nypl labs strange mix old new bunch modern cubicles hover incongruously amid stately marble walls used courtyard venerable schwarzman building need space convinced library press service bad metaphor labs turn librarys substantial historical holdings something new useful little bit quirkythe post something old something new dicing data nypl labs cover story appeared first digital shift harris county public library hcpl houston developing libraryowned librarymanaged ebook platform similar system pioneered colorados douglas county libraries dcl according hcpls coordinator marketing programming linda stevens multimedia selection librarian michael saperstein 26branch library continue offering patrons ebooks existing relationship overdrive stevens explained hcpl decided explore model werent putting ebook eggs one basket licensing content ebook distributorsthe post harris county latest try dcl ebook model appeared first digital shift 41 million grant bill melinda gates foundation support ongoing operations library resource training center webjunction oclc announced founded 2002 launched following year grant funding gates foundation webjunctions training resources programs content since used staff almost 70 percent us libraries helped 70000 library staff members enhance job skills according oclcthe post grant support oclc webjunction five years appeared first digital shift educause internet2 implementing series etextbook pilots latest launched fall 2012 term two dozen us universities along nonprofit aims advance higher ed information technology massive notforprofit advanced networking consortium pilot conducted partnership mcgraw hill education digital textbook distributor courseload facebook many ways antimodel libraries one action libraries learn much may 24 2007 facebook became platform set resources — services data tools — enable independent developers create applications interesting possibilities open think libraries platformsopen platforms library platform would developing knowledge community primarily developing software still like open software platform would pending approval us district judge denise cote 69 million awarded consumers purchased agencypriced ebooks april 2010 may 2012 part proposed settlement state antitrust suit filed harpercollins hachette sa simon schuster led attorneys general connecticut texas 49 states excluding minnesota 5 us territories accused publishers conspiring fix ebook prices innovative interfaces developer sierra services platform millennium ils library technology solutions announced appointment kim massana companys new chief executive officer cofounder chairman ceo jerry kline remain role chairman massana previously president thomson reuters elite division global news organization provides integrated information solutions professional services firms legal accounting marketing management consulting fields libraries tumblr free marketing tool—and depending much effort want put crafting code purchasing theme tumblr blog look professional library 's website specific steps take attract engaged readership ie followers slow first months accumulate audience discover fit community investment worth heres guidelines consider proquest announced launch graduate education program gep new service combines several popular development programs library schools single resource gep includes programs proquest business units dialog offers single point access teaching tools training development opportunities awards internships within free social networking site called discover corps many fun tumblrs least which—dare say—are house tumblrsinchief chelsey philpot associate editor slj book review molly mcardle assistant editor lj book review share favorite sites library technology solutions provider bibliotheca announced al coalla formerly north american sales director assume role president companys north american divisions beginning october 1 coalla responsible bibliothecas operations throughout americas region taking reins shai robkin requested step position according announcement us navy general library program nglp hoping pilot test expandable nonwebbased ebook lending library platform ready within year ultimately developing system allow onship libraries loan ebooks areas limited internet access libraries smaller surface ships submarines store [ ] memo filed week southern district court new york apple refused proposed settlement three book publishers said instead seek trail antitrust case pressed us department justice doj doj initially sued apple hachette sa harpercollins macmillan [ ] mobile phone subscriptions people united states us citizens—particularly young people—have rising expectations mobile services offered commercial businesses public institutions according state mobile connectivity keynote address lee rainie director pew research centers internet american life project 7th handheld librarian online conference wednesday citing data pew study released earlier year rainie noted 17 percent us consumers use mobile phone smartphone primary exclusive point access internet young people minority groups households earning less 50000 per year rate significantly higher us circuit court appeals second circuit allow google appeal class action status sevenyear old google inc v authors guild case court announced order morning decertifying case would force authors guild members dispute digitization works sue google individually google argued many authors benefited economically google books project whether scan violated copyright protected fair use doctrine determined casebycase basis many committees take come ebook strategy public libraries ? seems cant many califa douglas county libraries internet archives open library made purchase commitments acquire variations top 10000 bestselling ebooks indie distributor smashwords told three separate commitments total 100000 sales occur library direct new service smashwords launched facilitate transfer large collections ebooks libraries unglueit new crowdfunding site encourages authors publishers make ebooks available creative commons license today forced suspend active campaigns amazon informed organization would longer process pledge payments eric hellman founder unglueit developer gluejar inc told lj amazon representative informed crowdfunding general presents regulatory contractual issues amazon difficulty keeping pace according conversation exception kickstarter amazon payments rejecting business new crowdfunding operations oclc recommending member institutions would like release catalog data web open data commons attribution license odcby license allows users share copy distribute modify transform build upon database provided users attribute public use database works produced database manner specified license according odcs simple language summary oclc requested participants making use worldcatderived data conform norms defined worldcat rights responsibilities odcby license also used oclc releases additional sets worldcat data including future linked data projects bristol city straddling border tennessee virginia bristol public library bpl taking digital literacy training next level library employs small staff fulltime teachers made computer training key component bpls 25 yearold patricia freedman literacy academy pfla academy launched ged prep program late 1980s even offered small computer component students wanted learn keyboarding said bpl executive director jud barry computers since become ubiquitous five years ago bpl opened new main library computer lab teachers available oneonone instruction five days per week need read art war ? texas ams libraries odds ever favor librarys new orientation marketing video ‘ tribute bestselling ya book hunger games movie adaptation library dvd borrowing fallen sharply past year library users rapidly migrating toward streaming services music movies according july 2012 edition lj 's patron profiles examines trends media consumption library use dvds top format films loaned libraries 27 percent respondents said libraries remain primary source movies—down 36 percent first patron profiles survey conducted less year ago strong indicator changing media landscape rise streaming discbymail services—both currently dominated netflix report states national endowment humanities neh awarded 1 million fund creation infrastructure digital public library america dpla last week organization turn focus toward developing way search across many disparate collections involved project member founding team unglueit says ebook models make us choose n't mean choosing catalog interface set contract terms librarians want though make choices matter means librarians choose values advance sacrifice canadian urban libraries council culc process clarifying technical aspects nine responses received month issuing request information rfi invitation vendors concerning canadian public library ebook lending initiative goal development ebook infrastructure canada‚äôs libraries would control ‚äúthe storage distribution digital content well as‚ä¶the management lending agreements transactions public libraries publishers library patrons‚äù organization explained using mobile devices explore websites optimized mobile devices frustrating experience libraries consider aesthetic issue since mobile devices primary internet access point growing number users almost 90 percent us adults cell phone kind 55 percent use phones go online according june report pew internet american life project seventeen precent respondents said online browsing phone national federation blind honored baker taylor‚äôs axis 360 digital media platform dr jacob bolotin award recognizes individuals organizations ‚äúmade outstanding contributions toward achieving full integration blind society basis equality‚äù every ebook available project gutenberg along songs artwork produced within local community could stored flash drive distributed wirelessly using pocketsized router ? technology already available open source creative commons gplv2licensed librarybox project led jason griffey head library university tennessee chattanooga librarians others already using devices store distribute ebooks music artwork digital files seattle public library spl partnered university washington‚äôs acclaimed kexp radio 903 fm offer access kexp‚äôs collection approximately 3200 live instudio performances recorded station recordings‚äîincluding performances upand coming local groups well nationally popular acts arcade fire wilco death cab cutie norah jones black keys‚äîcan discovered streamed via spl 's online public access catalog field evolved considerably past two decades several vendors offering solutions often one component broader integrated revenue management selfservice software suites strengths francine fialkoff editor chief library journal today announced heather mccormack lj book review editor leaving publication july 17 boston college university libraries bcl replaced multiple systems previously used managing print electronic digital collections single consolidated solution provided ex libris nextgeneration alma library management service company announced july 11 bcl first 70 institutions using new cloudbased [ ] comes trendy pedagogy libraries ahead curve barbara fister thinks celebrate little online digital library ebrary launched two new subscription database products focusing employee development human resources featuring selection titles geared toward corporate libraries employee development database includes ebooks digital resources covering topics including business communication strategic thinking business creativity human resources collection focuses topics employee recruitment diversity retention remuneration training development corporate culture ceo ohio 's columbus metropolitan library urges public libraries overhaul passive ebook strategy champion business models also serve public 's interests john wiley sons announced onlineopen wileys hybrid open access model subscription journals allows authors publish open access paper journal choice available 1200 journals wiley publishes connecticuts westport public library wpl officially launched new maker space press conference week contained within large open metal structure modeled early airplane hangars new section librarys great hall features cutting edge tech gadgets makerbot 3d printer host presentations participatory workshops topics ranging robotics intellectual property rights inventors arts crafts national trend youre going see sweeping country youre seeing one first places ever said wpl director maxine bleiweis ebsco publishing last week announced new expanded partnership agreements oclc sirsidynix innovative interfaces enhance discovery offer easier access many databases ejournals content web developers prioritize mobile websites desktop websites librarians need design relevant instructional materials users field experiencebased transformational development could major impact future educational tools topics discussed top technology trends lita awards presentation session last sunday ala annual conference anaheim internet archives peter brantley made cogent precise presentation american library association conference week urged librarian community better job directing multitude conversations ultimately affect libraries digital content iverse digital comics distributor debuting library version comicsplus app company announced ala inaugural reception eisner graphic novel prize libraries app brainchild josh elder president founder nonprofit reading pictures serve service manager [ ] san mateobased califa group largest library network california made major strides project create ebook ownership model along lines douglas county libraries colorado ebooks true collection development going waituntil access access everything 's published anne silvers lee chief materials management division free library philadelphia said saturday panel discussion american library association 's annual conference anaheim weekend internet giant takes small table pitches free map service american library associations digital content libraries working group busy year halfway twoyear mission help guide ala response challenges difficulties ebooks presenting librarian community particular focus public librarians big [ ] although many details yet worked bibliotheca 's fledgling ebook division attracted strong library talent aspiring national ebook solution libraries americans aged 16 2 percent borrowed ebook library past year pew internet project announced today american library association conference anaheim ca although numbers higher ebook readers theyre still small 12 percent borrowed ebook [ ] ala annual conference got way ala president molly raphael welcomed news penguin putting toe back library ebook lending waters big six publisher penguin group new york public library nypl brooklyn public library bpl 3m library systems today announced pilot project make penguin ebooks available patrons new york brooklyn public libraries six months initial publication program begin august successful could roll across country move comes four months penguin pulled contract overdrive may 25 nine libraries colorado alliance research libraries launched datadriven acquisitions ebook pilot program project similar one run orbis cascade alliance recently received fy13 funding 750000 ingram content group one dominant players academic ebook market myilibrary platform gearing several months introduce myilibrary public library market launch date scheduled september ingram demonstrating tailoring platform serve public library channel american library association annual conference week anaheim booth # 1446 response feedback librarians patrons digital content distributor overdrive soon roll several next generation features make ebooks easier access catalog make audiobooks easier sample download according steve potash president chief executive officer clevelandbased company going live with…one new partner one new service automate reduce time cost marc records potash explained june 14 meeting lj slj staff recent news companies developing library services platforms well listing ala programs around products sierra intota alma worldshare management services kuali ole fall 2009 bing thom architects bta stimulus grant canadian government build new 36 million canadian 77000 square foot surrey city centre library envisioned centerpiece fastgrowing community outside vancouver bc caveat use lose exchange funding construction finished 18 months—half usual time allowed project got grant november started working december says michael heeney principal vancouverbased bta february construction accelerated schedule meant time conduct essential public meetings focus groups find community wanted new library btas solution use social media move could engender significant innovation library selfservice systems 3m library systems announce friday donating standard interchange protocol sip national information standards organization niso responsibility future development ongoing maintenance sip third panel day best digital practices offered concrete advice librarians whove spent time ebook trenches unless willfully ignorant dead library journal book review editor heather mccormack began aware challenges librarians face new digital collections built maintained petition calling public access federally funded research posted last month white houses people website garnered 25000 signatures necessary considered action obama administration two prominent veterans library vendor world recently launched startup company aims capitalize rapidly flowering field altmetrics ebook distributor overdrive announced plans introduce overdrive read new ebook platform enable readers use standard web browsers read ebooks computers mobile devices without installing additional software activating dedicated device unglueit crowdfunding platform designed encourage authors publishers make ebooks available creative commons license officially launched may 17 featuring campaigns books michael laser joseph nassise nancy rawles budding reader open book publishers one closely watched ereserve cases recent memory came end—though appeal still possible—on may 11 judge orinda evans us district court northern district georgia ruled cambridge university press cup oxford university press oup sage publications v georgia state university gsu case alleged copyright infringement gsus ereserves essence judge came side libraries 350page decision delivered almost year heard closing arguments crowded field students practitioners benefit careful consideration means professional libraries 2012 market one library job may 200 applicants set apart ? things change remain same—or ? history brought bear numerous respects past year significant changes occurred government information landscape said years list notable titles reflects enduring interest aspects past mirrored current reality want change world need right place right time need good idea vision motivated peers determination make difference year small mighty group librarians put formula test organized international movement participate educate advocate south southwest interactive leading conference innovative technologydriven ideas applications entrepreneurship national interest mind us public libraries buy overdrive help philanthropist group benefactors hello warren buffett bill gates paul allen steve jobs ' family larry ellison ross perot like ? wallets ready ? possibility begs discussion stuck rock stagnant budgetsand hard place steady serials price increases every year libraries forced come creative ways meet evergrowing needs users inventiveness limits many libraries nearing end ability leverage shrinking buying power january 21 2012 american library association ala midwinter meeting dallas lj met reference publishers database aggregators public academic reference librarians discuss recent events issues library world exciting week protest proposed stop online piracy act sopa protect ip act pipa would effectively forced online sites police usergenerated content online reference giant wikipedia gone dark day blackout fresh everyones mind inspired soulsearching overreliance resource patrons librarians alike group covered lots topics debates patrondriven acquisition pda get reluctant students faculty academic libraries innovative ways measure usage get marketing help vendors following comments highlights conversation latest change library ebook marketplace random houses steep rise ebook prices—initially said much 300 percent trade titles—may even devastating 26loan cap imposed harpercollins last year ebook circulation development efforts near completion new slate automation products vendors beginning pull stops monetize new round competition heating place new products libraries replacing legacy products aiming displace companies live stream archive firstever unconference pla friday march 16 philadelphia pa ebsco publishing ebsco released first subscription ebook collection aptly named ebook academic subscription collection supplies nearly 70000 fulltext ebooks academic subjects business science engineering humanities offered annual subscription basis unlimited access content title offered unlimited users additional titles added package month additional cost library ebook distribution firm overdrive begun construction headquarters garfield heights ohio company announced today 95000squarefoot facility 12acre tech campus house 300 employees northwestern college orange city ia plans build new learning commons include library march 8 northwesterns board hold final vote whether move forward groundbreaking year economy still gutter hardly surprising ljs 2012 book buying survey public libraries nationwide turned book budget decrease two percent average surprising budgets cut respondents adapted purchasing policies particularly highcirc area fiction ­ebooks taking one might expect materials budget breakdown shift somewhat direction harvard library revealed new organizational structure february 10th restructuring focuses eliminating redundancy across universitys 73 libraries creation shared services departments part restructuring university offered 275 voluntary buyouts library staff new york public library offering stereogranimator lets users turn 19th century stereographs animated gifs patrons embrace mobile devices libraries need provide new services heres look state mobile library services—and libraries need stay radar leaders american library association added fourth publisher random house list publishers group planning meet end month barbara fister thinks internet archives open library making good stab 2012 american library association ala midwinter meeting held january 2024 dallas lj exhibit floor taking look library tech companies latest wares highlights time move dialog publishers forward said ala president molly raphael working group digital content libraries meeting time move dialog publishers forward said ala president molly raphael working group digital content libraries meeting overdrive shared additional numbers lj friday opening exhibition hall ala midwinter conference dallas demonstrating draw kindle ebook availability turns book publishing n't crashing burning new report association american publishers book industry study group finds past three years worst recession since great depression publishers making money even growing surprise considering everything hear published advances midlist writers dropped writers well getting less marketing support aspiring writers increasingly assuming 'll never published traditional way also surprise considering 've hearing publishers wo n't let libraries loan ebooks figure make money even though ebook already costs library far book print loaned constraints guest post alexia hudson describes got invited participate tweet lessons left arent many life experiences exciting surreal transformative invited guest white house even incredible receiving invitation however one small thing led 1600 pennsylvania avenue july 6 association college research libraries elected steven j bell vicepresidentpresidentelect would users pay per search get wealth web data 've become accustomed ? 's reasonable search price royal wedding guest list ? kevin kelly highlights interesting research relative search measures merits research also points interesting questions measure value library materials discovery services even library services broadly fully readable saa collection made available creative commons license amanda hocking ebooks recently made available loan via open library months merger project muse editions project university press ebook consortium upcc form university press content consortium see two university press ebook initiatives merge upcc announced total 51 partners board boon overdrive clear amazon 's interest ? 's patroncustomer conversion day library patrons download read library ebook directly mobile device day die happy yet release bluefire app ipadiphone comes closer ever new company called skyriver launched bibliographic utility directly challenging longdominant oclc last 18 years strategic acquisitions oclc narrowed competition skyriver—founded jerry kline owner cofounder innovative interfaces—aims expand market offer alternative bibliographic utility cataloging could save libraries 40 percent expenditures bibliographic services\n"
     ]
    }
   ],
   "source": [
    "filtered_list=[]\n",
    "for words in file_tokens:\n",
    "    if words not in stop_words:\n",
    "        filtered_list.append(words)\n",
    "filtered_stop_words_text=' '.join(filtered_list)\n",
    "print(filtered_stop_words_text)"
   ]
  },
  {
   "cell_type": "code",
   "execution_count": 162,
   "id": "482c9dab",
   "metadata": {},
   "outputs": [
    {
     "data": {
      "image/png": "[encoded data removed]",
      "text/plain": [
       "<Figure size 432x288 with 1 Axes>"
      ]
     },
     "metadata": {
      "needs_background": "light"
     },
     "output_type": "display_data"
    }
   ],
   "source": [
    "%matplotlib inline\n",
    "from nltk import word_tokenize, Text\n",
    "text = Text(file_tokens)\n",
    "text.dispersion_plot(['new','technology','innovation'])"
   ]
  },
  {
   "cell_type": "code",
   "execution_count": 163,
   "id": "faf614ae",
   "metadata": {},
   "outputs": [
    {
     "data": {
      "text/plain": [
       "[('library', 977),\n",
       " ('libraries', 571),\n",
       " ('new', 382),\n",
       " ('public', 325),\n",
       " ('digital', 294),\n",
       " ('access', 178),\n",
       " ('ebook', 165),\n",
       " ('ebooks', 155),\n",
       " ('services', 151),\n",
       " ('university', 150)]"
      ]
     },
     "execution_count": 163,
     "metadata": {},
     "output_type": "execute_result"
    }
   ],
   "source": [
    "from nltk import FreqDist\n",
    "filtered_lem_tokens=lem.lemmatize(filtered_stop_words_text.lower())\n",
    "filtered_file_tokens = word_tokenize(filtered_lem_tokens)\n",
    "filtered_text = Text(filtered_file_tokens)\n",
    "Frequency_distribution = FreqDist(filtered_text)\n",
    "Frequency_distribution.most_common(10)"
   ]
  },
  {
   "cell_type": "code",
   "execution_count": 164,
   "id": "057ad33a",
   "metadata": {},
   "outputs": [
    {
     "data": {
      "image/png": "[encoded data removed]",
      "text/plain": [
       "<Figure size 432x288 with 1 Axes>"
      ]
     },
     "metadata": {
      "needs_background": "light"
     },
     "output_type": "display_data"
    },
    {
     "data": {
      "text/plain": [
       "<AxesSubplot:xlabel='Samples', ylabel='Cumulative Counts'>"
      ]
     },
     "execution_count": 164,
     "metadata": {},
     "output_type": "execute_result"
    }
   ],
   "source": [
    "Frequency_distribution.plot(10, cumulative=True)"
   ]
  },
  {
   "cell_type": "code",
   "execution_count": 196,
   "id": "80d43ecc",
   "metadata": {},
   "outputs": [
    {
     "data": {
      "text/plain": [
       "<wordcloud.wordcloud.WordCloud at 0x7fea0b946610>"
      ]
     },
     "execution_count": 196,
     "metadata": {},
     "output_type": "execute_result"
    }
   ],
   "source": [
    "stopwords=STOPWORDS\n",
    "review_word_cloud= WordCloud(background_color='white', stopwords = stopwords, height=1000,width=1000)\n",
    "review_word_cloud.generate(filtered_stop_words_text)\n",
    "review_word_cloud.to_file('whole_article_description.png')"
   ]
  },
  {
   "cell_type": "code",
   "execution_count": 239,
   "id": "c33fa4e9",
   "metadata": {},
   "outputs": [
    {
     "data": {
      "text/plain": [
       "{'neg': 0.027, 'neu': 0.836, 'pos': 0.137, 'compound': 1.0}"
      ]
     },
     "execution_count": 239,
     "metadata": {},
     "output_type": "execute_result"
    }
   ],
   "source": [
    "siao=SentimentIntensityAnalyzer()\n",
    "siao.polarity_scores(filtered_stop_words_text)"
   ]
  },
  {
   "cell_type": "code",
   "execution_count": 241,
   "id": "17620df1",
   "metadata": {},
   "outputs": [
    {
     "data": {
      "application/vnd.jupyter.widget-view+json": {
       "model_id": "0ffcf9e519844cdca0d8c89ed8b450fd",
       "version_major": 2,
       "version_minor": 0
      },
      "text/plain": [
       "  0%|          | 0/964 [00:00<?, ?it/s]"
      ]
     },
     "metadata": {},
     "output_type": "display_data"
    }
   ],
   "source": [
    "result_dict={}\n",
    "for i,row in tqdm(df.iterrows(),  total=len(df)):\n",
    "    review=row['Description']\n",
    "    name=row['Published_year']\n",
    "    result_dict[name]=siao.polarity_scores(review)"
   ]
  },
  {
   "cell_type": "code",
   "execution_count": 242,
   "id": "62d0f407",
   "metadata": {},
   "outputs": [],
   "source": [
    "review_sentiment_df=pd.DataFrame(result_dict).T"
   ]
  },
  {
   "cell_type": "code",
   "execution_count": 243,
   "id": "bf8191fb",
   "metadata": {},
   "outputs": [
    {
     "data": {
      "text/html": [
       "<div>\n",
       "<style scoped>\n",
       "    .dataframe tbody tr th:only-of-type {\n",
       "        vertical-align: middle;\n",
       "    }\n",
       "\n",
       "    .dataframe tbody tr th {\n",
       "        vertical-align: top;\n",
       "    }\n",
       "\n",
       "    .dataframe thead th {\n",
       "        text-align: right;\n",
       "    }\n",
       "</style>\n",
       "<table border=\"1\" class=\"dataframe\">\n",
       "  <thead>\n",
       "    <tr style=\"text-align: right;\">\n",
       "      <th></th>\n",
       "      <th>neg</th>\n",
       "      <th>neu</th>\n",
       "      <th>pos</th>\n",
       "      <th>compound</th>\n",
       "    </tr>\n",
       "  </thead>\n",
       "  <tbody>\n",
       "    <tr>\n",
       "      <th>2022</th>\n",
       "      <td>0.000</td>\n",
       "      <td>0.762</td>\n",
       "      <td>0.238</td>\n",
       "      <td>0.6486</td>\n",
       "    </tr>\n",
       "    <tr>\n",
       "      <th>2021</th>\n",
       "      <td>0.000</td>\n",
       "      <td>0.960</td>\n",
       "      <td>0.040</td>\n",
       "      <td>0.2500</td>\n",
       "    </tr>\n",
       "    <tr>\n",
       "      <th>2020</th>\n",
       "      <td>0.000</td>\n",
       "      <td>1.000</td>\n",
       "      <td>0.000</td>\n",
       "      <td>0.0000</td>\n",
       "    </tr>\n",
       "    <tr>\n",
       "      <th>2019</th>\n",
       "      <td>0.000</td>\n",
       "      <td>0.596</td>\n",
       "      <td>0.404</td>\n",
       "      <td>0.6249</td>\n",
       "    </tr>\n",
       "    <tr>\n",
       "      <th>2018</th>\n",
       "      <td>0.000</td>\n",
       "      <td>0.971</td>\n",
       "      <td>0.029</td>\n",
       "      <td>0.3182</td>\n",
       "    </tr>\n",
       "    <tr>\n",
       "      <th>2017</th>\n",
       "      <td>0.000</td>\n",
       "      <td>0.874</td>\n",
       "      <td>0.126</td>\n",
       "      <td>0.6808</td>\n",
       "    </tr>\n",
       "    <tr>\n",
       "      <th>2016</th>\n",
       "      <td>0.020</td>\n",
       "      <td>0.884</td>\n",
       "      <td>0.095</td>\n",
       "      <td>0.7717</td>\n",
       "    </tr>\n",
       "    <tr>\n",
       "      <th>2015</th>\n",
       "      <td>0.049</td>\n",
       "      <td>0.848</td>\n",
       "      <td>0.103</td>\n",
       "      <td>0.8100</td>\n",
       "    </tr>\n",
       "    <tr>\n",
       "      <th>2014</th>\n",
       "      <td>0.037</td>\n",
       "      <td>0.863</td>\n",
       "      <td>0.100</td>\n",
       "      <td>0.3925</td>\n",
       "    </tr>\n",
       "    <tr>\n",
       "      <th>2013</th>\n",
       "      <td>0.000</td>\n",
       "      <td>0.825</td>\n",
       "      <td>0.175</td>\n",
       "      <td>0.8993</td>\n",
       "    </tr>\n",
       "    <tr>\n",
       "      <th>2012</th>\n",
       "      <td>0.000</td>\n",
       "      <td>0.947</td>\n",
       "      <td>0.053</td>\n",
       "      <td>0.5413</td>\n",
       "    </tr>\n",
       "    <tr>\n",
       "      <th>2011</th>\n",
       "      <td>0.057</td>\n",
       "      <td>0.888</td>\n",
       "      <td>0.055</td>\n",
       "      <td>-0.0258</td>\n",
       "    </tr>\n",
       "    <tr>\n",
       "      <th>2010</th>\n",
       "      <td>0.000</td>\n",
       "      <td>0.807</td>\n",
       "      <td>0.193</td>\n",
       "      <td>0.9127</td>\n",
       "    </tr>\n",
       "  </tbody>\n",
       "</table>\n",
       "</div>"
      ],
      "text/plain": [
       "        neg    neu    pos  compound\n",
       "2022  0.000  0.762  0.238    0.6486\n",
       "2021  0.000  0.960  0.040    0.2500\n",
       "2020  0.000  1.000  0.000    0.0000\n",
       "2019  0.000  0.596  0.404    0.6249\n",
       "2018  0.000  0.971  0.029    0.3182\n",
       "2017  0.000  0.874  0.126    0.6808\n",
       "2016  0.020  0.884  0.095    0.7717\n",
       "2015  0.049  0.848  0.103    0.8100\n",
       "2014  0.037  0.863  0.100    0.3925\n",
       "2013  0.000  0.825  0.175    0.8993\n",
       "2012  0.000  0.947  0.053    0.5413\n",
       "2011  0.057  0.888  0.055   -0.0258\n",
       "2010  0.000  0.807  0.193    0.9127"
      ]
     },
     "execution_count": 243,
     "metadata": {},
     "output_type": "execute_result"
    }
   ],
   "source": [
    "review_sentiment_df"
   ]
  },
  {
   "cell_type": "markdown",
   "id": "d5e96896",
   "metadata": {},
   "source": [
    "# USING PYTHON WITH SQL FOR FILTERING DATA BASED ON THE PUBLISHED YEAR COLUMN"
   ]
  },
  {
   "cell_type": "code",
   "execution_count": 168,
   "id": "22fc6dd4",
   "metadata": {},
   "outputs": [],
   "source": [
    "import sqlite3 as sql"
   ]
  },
  {
   "cell_type": "code",
   "execution_count": 169,
   "id": "eb18bb57",
   "metadata": {},
   "outputs": [],
   "source": [
    "conn = sql.connect('default.db')"
   ]
  },
  {
   "cell_type": "code",
   "execution_count": 170,
   "id": "d6190e3e",
   "metadata": {},
   "outputs": [
    {
     "data": {
      "text/plain": [
       "964"
      ]
     },
     "execution_count": 170,
     "metadata": {},
     "output_type": "execute_result"
    }
   ],
   "source": [
    "df.to_sql('sql_table', conn)"
   ]
  },
  {
   "cell_type": "code",
   "execution_count": 171,
   "id": "e0975638",
   "metadata": {},
   "outputs": [
    {
     "data": {
      "text/html": [
       "<div>\n",
       "<style scoped>\n",
       "    .dataframe tbody tr th:only-of-type {\n",
       "        vertical-align: middle;\n",
       "    }\n",
       "\n",
       "    .dataframe tbody tr th {\n",
       "        vertical-align: top;\n",
       "    }\n",
       "\n",
       "    .dataframe thead th {\n",
       "        text-align: right;\n",
       "    }\n",
       "</style>\n",
       "<table border=\"1\" class=\"dataframe\">\n",
       "  <thead>\n",
       "    <tr style=\"text-align: right;\">\n",
       "      <th></th>\n",
       "      <th>Title</th>\n",
       "      <th>Published_year</th>\n",
       "      <th>Description</th>\n",
       "    </tr>\n",
       "  </thead>\n",
       "  <tbody>\n",
       "    <tr>\n",
       "      <th>0</th>\n",
       "      <td>Hiveclass Rolls Out Youth Sports Training Digi...</td>\n",
       "      <td>2022</td>\n",
       "      <td>Hiveclass a startup company building a digital...</td>\n",
       "    </tr>\n",
       "    <tr>\n",
       "      <th>1</th>\n",
       "      <td>Academic Movers QA Elisandro Cabada on Using T...</td>\n",
       "      <td>2022</td>\n",
       "      <td>Elisandro Cabada has worn many hats during his...</td>\n",
       "    </tr>\n",
       "    <tr>\n",
       "      <th>6</th>\n",
       "      <td>Brooklyns Books Unbanned Continues to Grow</td>\n",
       "      <td>2022</td>\n",
       "      <td>On August 25 the White House Office of Science...</td>\n",
       "    </tr>\n",
       "    <tr>\n",
       "      <th>7</th>\n",
       "      <td>Beyond Collections How Some Libraries are Seei...</td>\n",
       "      <td>2022</td>\n",
       "      <td>Higher ed nonprofit ITHAKA announced on August...</td>\n",
       "    </tr>\n",
       "    <tr>\n",
       "      <th>8</th>\n",
       "      <td>Open for Growth Open Source Platforms on the Rise</td>\n",
       "      <td>2022</td>\n",
       "      <td>The Las Vegas–Clark County Library District in...</td>\n",
       "    </tr>\n",
       "    <tr>\n",
       "      <th>...</th>\n",
       "      <td>...</td>\n",
       "      <td>...</td>\n",
       "      <td>...</td>\n",
       "    </tr>\n",
       "    <tr>\n",
       "      <th>1092</th>\n",
       "      <td>Library of Congress Posts Twitter Updates on T...</td>\n",
       "      <td>2011</td>\n",
       "      <td>Amanda Hocking ebooks have recently been made ...</td>\n",
       "    </tr>\n",
       "    <tr>\n",
       "      <th>1094</th>\n",
       "      <td>OCLC App Makes Connections</td>\n",
       "      <td>2011</td>\n",
       "      <td>Just a few months after the merger of the Proj...</td>\n",
       "    </tr>\n",
       "    <tr>\n",
       "      <th>1095</th>\n",
       "      <td>EBSCO Publishing Integrates 300K Ebooks and Au...</td>\n",
       "      <td>2011</td>\n",
       "      <td>That this is a boon for OverDrive is clear but...</td>\n",
       "    </tr>\n",
       "    <tr>\n",
       "      <th>1106</th>\n",
       "      <td>Unlocking HathiTrust Inside the Librarians' Di...</td>\n",
       "      <td>2011</td>\n",
       "      <td>The day that library patrons can download and ...</td>\n",
       "    </tr>\n",
       "    <tr>\n",
       "      <th>1430</th>\n",
       "      <td>Journey to Library 20</td>\n",
       "      <td>2010</td>\n",
       "      <td>A new company called SkyRiver has launched a b...</td>\n",
       "    </tr>\n",
       "  </tbody>\n",
       "</table>\n",
       "<p>964 rows × 3 columns</p>\n",
       "</div>"
      ],
      "text/plain": [
       "                                                  Title  Published_year  \\\n",
       "0     Hiveclass Rolls Out Youth Sports Training Digi...            2022   \n",
       "1     Academic Movers QA Elisandro Cabada on Using T...            2022   \n",
       "6            Brooklyns Books Unbanned Continues to Grow            2022   \n",
       "7     Beyond Collections How Some Libraries are Seei...            2022   \n",
       "8     Open for Growth Open Source Platforms on the Rise            2022   \n",
       "...                                                 ...             ...   \n",
       "1092  Library of Congress Posts Twitter Updates on T...            2011   \n",
       "1094                         OCLC App Makes Connections            2011   \n",
       "1095  EBSCO Publishing Integrates 300K Ebooks and Au...            2011   \n",
       "1106  Unlocking HathiTrust Inside the Librarians' Di...            2011   \n",
       "1430                              Journey to Library 20            2010   \n",
       "\n",
       "                                            Description  \n",
       "0     Hiveclass a startup company building a digital...  \n",
       "1     Elisandro Cabada has worn many hats during his...  \n",
       "6     On August 25 the White House Office of Science...  \n",
       "7     Higher ed nonprofit ITHAKA announced on August...  \n",
       "8     The Las Vegas–Clark County Library District in...  \n",
       "...                                                 ...  \n",
       "1092  Amanda Hocking ebooks have recently been made ...  \n",
       "1094  Just a few months after the merger of the Proj...  \n",
       "1095  That this is a boon for OverDrive is clear but...  \n",
       "1106  The day that library patrons can download and ...  \n",
       "1430  A new company called SkyRiver has launched a b...  \n",
       "\n",
       "[964 rows x 3 columns]"
      ]
     },
     "execution_count": 171,
     "metadata": {},
     "output_type": "execute_result"
    }
   ],
   "source": [
    "df"
   ]
  },
  {
   "cell_type": "markdown",
   "id": "ec412644",
   "metadata": {},
   "source": [
    "# Description Analysis for 2022"
   ]
  },
  {
   "cell_type": "code",
   "execution_count": 172,
   "id": "b381b57a",
   "metadata": {},
   "outputs": [],
   "source": [
    "query = 'select * from sql_table where Published_year =\"2022\"'\n",
    "articles_2022 = pd.read_sql(query, conn)"
   ]
  },
  {
   "cell_type": "code",
   "execution_count": 198,
   "id": "d021192f",
   "metadata": {},
   "outputs": [
    {
     "data": {
      "text/html": [
       "<div>\n",
       "<style scoped>\n",
       "    .dataframe tbody tr th:only-of-type {\n",
       "        vertical-align: middle;\n",
       "    }\n",
       "\n",
       "    .dataframe tbody tr th {\n",
       "        vertical-align: top;\n",
       "    }\n",
       "\n",
       "    .dataframe thead th {\n",
       "        text-align: right;\n",
       "    }\n",
       "</style>\n",
       "<table border=\"1\" class=\"dataframe\">\n",
       "  <thead>\n",
       "    <tr style=\"text-align: right;\">\n",
       "      <th></th>\n",
       "      <th>index</th>\n",
       "      <th>Published_year</th>\n",
       "    </tr>\n",
       "  </thead>\n",
       "  <tbody>\n",
       "    <tr>\n",
       "      <th>count</th>\n",
       "      <td>36.000000</td>\n",
       "      <td>36.0</td>\n",
       "    </tr>\n",
       "    <tr>\n",
       "      <th>mean</th>\n",
       "      <td>25.638889</td>\n",
       "      <td>2022.0</td>\n",
       "    </tr>\n",
       "    <tr>\n",
       "      <th>std</th>\n",
       "      <td>13.794725</td>\n",
       "      <td>0.0</td>\n",
       "    </tr>\n",
       "    <tr>\n",
       "      <th>min</th>\n",
       "      <td>0.000000</td>\n",
       "      <td>2022.0</td>\n",
       "    </tr>\n",
       "    <tr>\n",
       "      <th>25%</th>\n",
       "      <td>14.250000</td>\n",
       "      <td>2022.0</td>\n",
       "    </tr>\n",
       "    <tr>\n",
       "      <th>50%</th>\n",
       "      <td>28.500000</td>\n",
       "      <td>2022.0</td>\n",
       "    </tr>\n",
       "    <tr>\n",
       "      <th>75%</th>\n",
       "      <td>37.250000</td>\n",
       "      <td>2022.0</td>\n",
       "    </tr>\n",
       "    <tr>\n",
       "      <th>max</th>\n",
       "      <td>46.000000</td>\n",
       "      <td>2022.0</td>\n",
       "    </tr>\n",
       "  </tbody>\n",
       "</table>\n",
       "</div>"
      ],
      "text/plain": [
       "           index  Published_year\n",
       "count  36.000000            36.0\n",
       "mean   25.638889          2022.0\n",
       "std    13.794725             0.0\n",
       "min     0.000000          2022.0\n",
       "25%    14.250000          2022.0\n",
       "50%    28.500000          2022.0\n",
       "75%    37.250000          2022.0\n",
       "max    46.000000          2022.0"
      ]
     },
     "execution_count": 198,
     "metadata": {},
     "output_type": "execute_result"
    }
   ],
   "source": [
    "articles_2022.describe()"
   ]
  },
  {
   "cell_type": "code",
   "execution_count": 174,
   "id": "4eb52477",
   "metadata": {},
   "outputs": [],
   "source": [
    "description_2022=[]\n",
    "description_2022 = articles_2022['Description'].values.tolist()"
   ]
  },
  {
   "cell_type": "code",
   "execution_count": 175,
   "id": "a53aaca7",
   "metadata": {},
   "outputs": [],
   "source": [
    "description_2022_text=' '.join(description_2022)"
   ]
  },
  {
   "cell_type": "code",
   "execution_count": 230,
   "id": "ee0e00e8",
   "metadata": {
    "scrolled": false
   },
   "outputs": [
    {
     "name": "stdout",
     "output_type": "stream",
     "text": [
      "[('libraries', 21), ('librarians', 10), ('university', 7), ('technology', 7), ('research', 7), ('maryland', 7), ('collections', 6), ('association', 6), ('available', 5), ('district', 5)]\n"
     ]
    }
   ],
   "source": [
    "word_list=[]\n",
    "consolidated_description=' '.join(description_2022)\n",
    "lem=WordNetLemmatizer()\n",
    "lem_tokens=lem.lemmatize(consolidated_description.lower())\n",
    "file_tokens = word_tokenize(lem_tokens)\n",
    "for i in file_tokens:\n",
    "    if len(i)>7:\n",
    "        word_list.append(i)\n",
    "data_count = nltk.FreqDist(word_list)\n",
    "print(data_count.most_common(10))"
   ]
  },
  {
   "cell_type": "code",
   "execution_count": 231,
   "id": "36756f42",
   "metadata": {},
   "outputs": [
    {
     "data": {
      "image/png": "[encoded data removed]",
      "text/plain": [
       "<Figure size 432x288 with 1 Axes>"
      ]
     },
     "metadata": {
      "needs_background": "light"
     },
     "output_type": "display_data"
    }
   ],
   "source": [
    "%matplotlib inline\n",
    "from nltk import word_tokenize, Text\n",
    "text = Text(file_tokens)\n",
    "text.dispersion_plot(['new','technology','innovation'])"
   ]
  },
  {
   "cell_type": "code",
   "execution_count": 200,
   "id": "575bb034",
   "metadata": {},
   "outputs": [
    {
     "data": {
      "image/png": "[encoded data removed]",
      "text/plain": [
       "<Figure size 432x288 with 1 Axes>"
      ]
     },
     "metadata": {
      "needs_background": "light"
     },
     "output_type": "display_data"
    },
    {
     "data": {
      "text/plain": [
       "<AxesSubplot:xlabel='Samples', ylabel='Counts'>"
      ]
     },
     "execution_count": 200,
     "metadata": {},
     "output_type": "execute_result"
    }
   ],
   "source": [
    "data_count.plot(10)"
   ]
  },
  {
   "cell_type": "code",
   "execution_count": 229,
   "id": "c40cb93d",
   "metadata": {},
   "outputs": [
    {
     "data": {
      "text/plain": [
       "<wordcloud.wordcloud.WordCloud at 0x7fea1a455ee0>"
      ]
     },
     "execution_count": 229,
     "metadata": {},
     "output_type": "execute_result"
    }
   ],
   "source": [
    "stopwords=STOPWORDS\n",
    "review_word_cloud= WordCloud(background_color='white', stopwords = stopwords, height=1000,width=1000)\n",
    "review_word_cloud.generate(description_2022_text)\n",
    "review_word_cloud.to_file('2022_article_description.png')"
   ]
  },
  {
   "cell_type": "markdown",
   "id": "1c89b38b",
   "metadata": {},
   "source": [
    "# Description Analysis for 2021"
   ]
  },
  {
   "cell_type": "code",
   "execution_count": 201,
   "id": "ba8b0b2e",
   "metadata": {},
   "outputs": [],
   "source": [
    "query = 'select * from sql_table where Published_year =\"2021\"'\n",
    "articles_2021 = pd.read_sql(query, conn)"
   ]
  },
  {
   "cell_type": "code",
   "execution_count": 202,
   "id": "c9a4fecc",
   "metadata": {},
   "outputs": [
    {
     "data": {
      "text/html": [
       "<div>\n",
       "<style scoped>\n",
       "    .dataframe tbody tr th:only-of-type {\n",
       "        vertical-align: middle;\n",
       "    }\n",
       "\n",
       "    .dataframe tbody tr th {\n",
       "        vertical-align: top;\n",
       "    }\n",
       "\n",
       "    .dataframe thead th {\n",
       "        text-align: right;\n",
       "    }\n",
       "</style>\n",
       "<table border=\"1\" class=\"dataframe\">\n",
       "  <thead>\n",
       "    <tr style=\"text-align: right;\">\n",
       "      <th></th>\n",
       "      <th>index</th>\n",
       "      <th>Published_year</th>\n",
       "    </tr>\n",
       "  </thead>\n",
       "  <tbody>\n",
       "    <tr>\n",
       "      <th>count</th>\n",
       "      <td>55.000000</td>\n",
       "      <td>55.0</td>\n",
       "    </tr>\n",
       "    <tr>\n",
       "      <th>mean</th>\n",
       "      <td>75.418182</td>\n",
       "      <td>2021.0</td>\n",
       "    </tr>\n",
       "    <tr>\n",
       "      <th>std</th>\n",
       "      <td>17.284858</td>\n",
       "      <td>0.0</td>\n",
       "    </tr>\n",
       "    <tr>\n",
       "      <th>min</th>\n",
       "      <td>47.000000</td>\n",
       "      <td>2021.0</td>\n",
       "    </tr>\n",
       "    <tr>\n",
       "      <th>25%</th>\n",
       "      <td>60.500000</td>\n",
       "      <td>2021.0</td>\n",
       "    </tr>\n",
       "    <tr>\n",
       "      <th>50%</th>\n",
       "      <td>75.000000</td>\n",
       "      <td>2021.0</td>\n",
       "    </tr>\n",
       "    <tr>\n",
       "      <th>75%</th>\n",
       "      <td>90.500000</td>\n",
       "      <td>2021.0</td>\n",
       "    </tr>\n",
       "    <tr>\n",
       "      <th>max</th>\n",
       "      <td>104.000000</td>\n",
       "      <td>2021.0</td>\n",
       "    </tr>\n",
       "  </tbody>\n",
       "</table>\n",
       "</div>"
      ],
      "text/plain": [
       "            index  Published_year\n",
       "count   55.000000            55.0\n",
       "mean    75.418182          2021.0\n",
       "std     17.284858             0.0\n",
       "min     47.000000          2021.0\n",
       "25%     60.500000          2021.0\n",
       "50%     75.000000          2021.0\n",
       "75%     90.500000          2021.0\n",
       "max    104.000000          2021.0"
      ]
     },
     "execution_count": 202,
     "metadata": {},
     "output_type": "execute_result"
    }
   ],
   "source": [
    "articles_2021.describe()"
   ]
  },
  {
   "cell_type": "code",
   "execution_count": 203,
   "id": "cd2ac66f",
   "metadata": {},
   "outputs": [],
   "source": [
    "description_2021=[]\n",
    "description_2021 = articles_2021['Description'].values.tolist()"
   ]
  },
  {
   "cell_type": "code",
   "execution_count": 244,
   "id": "c2cdf990",
   "metadata": {},
   "outputs": [],
   "source": [
    "description_2021_text=' '.join(description_2021)"
   ]
  },
  {
   "cell_type": "code",
   "execution_count": 247,
   "id": "cb43407f",
   "metadata": {},
   "outputs": [
    {
     "data": {
      "text/plain": [
       "<wordcloud.wordcloud.WordCloud at 0x7fe9b9759610>"
      ]
     },
     "execution_count": 247,
     "metadata": {},
     "output_type": "execute_result"
    }
   ],
   "source": [
    "stopwords=STOPWORDS\n",
    "review_word_cloud= WordCloud(background_color='white', stopwords = stopwords, height=1000,width=1000)\n",
    "review_word_cloud.generate(description_2021_text)\n",
    "review_word_cloud.to_file('2021_article_description.png')"
   ]
  },
  {
   "cell_type": "code",
   "execution_count": 232,
   "id": "af8d815e",
   "metadata": {},
   "outputs": [
    {
     "name": "stdout",
     "output_type": "stream",
     "text": [
      "[('libraries', 40), ('services', 11), ('information', 10), ('pandemic', 10), ('university', 10), ('announced', 9), ('american', 9), ('learning', 8), ('broadband', 8), ('technology', 7)]\n"
     ]
    }
   ],
   "source": [
    "word_list=[]\n",
    "consolidated_description=' '.join(description_2021)\n",
    "lem=WordNetLemmatizer()\n",
    "lem_tokens=lem.lemmatize(consolidated_description.lower())\n",
    "file_tokens = word_tokenize(lem_tokens)\n",
    "for i in file_tokens:\n",
    "    if len(i)>7:\n",
    "        word_list.append(i)\n",
    "data_count = nltk.FreqDist(word_list)\n",
    "print(data_count.most_common(10))"
   ]
  },
  {
   "cell_type": "code",
   "execution_count": 233,
   "id": "f022157e",
   "metadata": {},
   "outputs": [
    {
     "data": {
      "image/png": "[encoded data removed]",
      "text/plain": [
       "<Figure size 432x288 with 1 Axes>"
      ]
     },
     "metadata": {
      "needs_background": "light"
     },
     "output_type": "display_data"
    }
   ],
   "source": [
    "%matplotlib inline\n",
    "from nltk import word_tokenize, Text\n",
    "text = Text(file_tokens)\n",
    "text.dispersion_plot(['new','technology','innovation'])"
   ]
  },
  {
   "cell_type": "code",
   "execution_count": 205,
   "id": "316534b9",
   "metadata": {},
   "outputs": [
    {
     "data": {
      "image/png": "[encoded data removed]",
      "text/plain": [
       "<Figure size 432x288 with 1 Axes>"
      ]
     },
     "metadata": {
      "needs_background": "light"
     },
     "output_type": "display_data"
    },
    {
     "data": {
      "text/plain": [
       "<AxesSubplot:xlabel='Samples', ylabel='Counts'>"
      ]
     },
     "execution_count": 205,
     "metadata": {},
     "output_type": "execute_result"
    }
   ],
   "source": [
    "data_count.plot(10)"
   ]
  },
  {
   "cell_type": "markdown",
   "id": "f386ee55",
   "metadata": {},
   "source": [
    "# Description Analysis for 2020"
   ]
  },
  {
   "cell_type": "code",
   "execution_count": 207,
   "id": "8043f709",
   "metadata": {},
   "outputs": [],
   "source": [
    "query = 'select * from sql_table where Published_year =\"2020\"'\n",
    "articles_2020 = pd.read_sql(query, conn)"
   ]
  },
  {
   "cell_type": "code",
   "execution_count": 208,
   "id": "b8e61fb0",
   "metadata": {},
   "outputs": [
    {
     "data": {
      "text/html": [
       "<div>\n",
       "<style scoped>\n",
       "    .dataframe tbody tr th:only-of-type {\n",
       "        vertical-align: middle;\n",
       "    }\n",
       "\n",
       "    .dataframe tbody tr th {\n",
       "        vertical-align: top;\n",
       "    }\n",
       "\n",
       "    .dataframe thead th {\n",
       "        text-align: right;\n",
       "    }\n",
       "</style>\n",
       "<table border=\"1\" class=\"dataframe\">\n",
       "  <thead>\n",
       "    <tr style=\"text-align: right;\">\n",
       "      <th></th>\n",
       "      <th>index</th>\n",
       "      <th>Published_year</th>\n",
       "    </tr>\n",
       "  </thead>\n",
       "  <tbody>\n",
       "    <tr>\n",
       "      <th>count</th>\n",
       "      <td>45.000000</td>\n",
       "      <td>45.0</td>\n",
       "    </tr>\n",
       "    <tr>\n",
       "      <th>mean</th>\n",
       "      <td>127.377778</td>\n",
       "      <td>2020.0</td>\n",
       "    </tr>\n",
       "    <tr>\n",
       "      <th>std</th>\n",
       "      <td>13.688563</td>\n",
       "      <td>0.0</td>\n",
       "    </tr>\n",
       "    <tr>\n",
       "      <th>min</th>\n",
       "      <td>105.000000</td>\n",
       "      <td>2020.0</td>\n",
       "    </tr>\n",
       "    <tr>\n",
       "      <th>25%</th>\n",
       "      <td>116.000000</td>\n",
       "      <td>2020.0</td>\n",
       "    </tr>\n",
       "    <tr>\n",
       "      <th>50%</th>\n",
       "      <td>127.000000</td>\n",
       "      <td>2020.0</td>\n",
       "    </tr>\n",
       "    <tr>\n",
       "      <th>75%</th>\n",
       "      <td>138.000000</td>\n",
       "      <td>2020.0</td>\n",
       "    </tr>\n",
       "    <tr>\n",
       "      <th>max</th>\n",
       "      <td>152.000000</td>\n",
       "      <td>2020.0</td>\n",
       "    </tr>\n",
       "  </tbody>\n",
       "</table>\n",
       "</div>"
      ],
      "text/plain": [
       "            index  Published_year\n",
       "count   45.000000            45.0\n",
       "mean   127.377778          2020.0\n",
       "std     13.688563             0.0\n",
       "min    105.000000          2020.0\n",
       "25%    116.000000          2020.0\n",
       "50%    127.000000          2020.0\n",
       "75%    138.000000          2020.0\n",
       "max    152.000000          2020.0"
      ]
     },
     "execution_count": 208,
     "metadata": {},
     "output_type": "execute_result"
    }
   ],
   "source": [
    "articles_2020.describe()"
   ]
  },
  {
   "cell_type": "code",
   "execution_count": 209,
   "id": "61e4872b",
   "metadata": {},
   "outputs": [],
   "source": [
    "description_2020=[]\n",
    "description_2020 = articles_2020['Description'].values.tolist()"
   ]
  },
  {
   "cell_type": "code",
   "execution_count": 245,
   "id": "0476c26c",
   "metadata": {},
   "outputs": [],
   "source": [
    "description_2020_text=' '.join(description_2020)"
   ]
  },
  {
   "cell_type": "code",
   "execution_count": 248,
   "id": "e3a635a8",
   "metadata": {},
   "outputs": [
    {
     "data": {
      "text/plain": [
       "<wordcloud.wordcloud.WordCloud at 0x7fe9b9751e50>"
      ]
     },
     "execution_count": 248,
     "metadata": {},
     "output_type": "execute_result"
    }
   ],
   "source": [
    "stopwords=STOPWORDS\n",
    "review_word_cloud= WordCloud(background_color='white', stopwords = stopwords, height=1000,width=1000)\n",
    "review_word_cloud.generate(description_2020_text)\n",
    "review_word_cloud.to_file('2020_article_description.png')"
   ]
  },
  {
   "cell_type": "code",
   "execution_count": 234,
   "id": "b084f504",
   "metadata": {},
   "outputs": [
    {
     "name": "stdout",
     "output_type": "stream",
     "text": [
      "[('libraries', 24), ('pandemic', 8), ('announced', 7), ('macmillan', 5), ('publishing', 5), ('offering', 4), ('publishers', 4), ('services', 4), ('personal', 4), ('analytics', 4)]\n"
     ]
    }
   ],
   "source": [
    "word_list=[]\n",
    "consolidated_description=' '.join(description_2020)\n",
    "lem=WordNetLemmatizer()\n",
    "lem_tokens=lem.lemmatize(consolidated_description.lower())\n",
    "file_tokens = word_tokenize(lem_tokens)\n",
    "for i in file_tokens:\n",
    "    if len(i)>7:\n",
    "        word_list.append(i)\n",
    "data_count = nltk.FreqDist(word_list)\n",
    "print(data_count.most_common(10))"
   ]
  },
  {
   "cell_type": "code",
   "execution_count": 235,
   "id": "efa2e130",
   "metadata": {},
   "outputs": [
    {
     "data": {
      "image/png": "[encoded data removed]",
      "text/plain": [
       "<Figure size 432x288 with 1 Axes>"
      ]
     },
     "metadata": {
      "needs_background": "light"
     },
     "output_type": "display_data"
    }
   ],
   "source": [
    "%matplotlib inline\n",
    "from nltk import word_tokenize, Text\n",
    "text = Text(file_tokens)\n",
    "text.dispersion_plot(['new','technology','innovation'])"
   ]
  },
  {
   "cell_type": "code",
   "execution_count": 211,
   "id": "8747d9ce",
   "metadata": {},
   "outputs": [
    {
     "data": {
      "image/png": "[encoded data removed]",
      "text/plain": [
       "<Figure size 432x288 with 1 Axes>"
      ]
     },
     "metadata": {
      "needs_background": "light"
     },
     "output_type": "display_data"
    },
    {
     "data": {
      "text/plain": [
       "<AxesSubplot:xlabel='Samples', ylabel='Counts'>"
      ]
     },
     "execution_count": 211,
     "metadata": {},
     "output_type": "execute_result"
    }
   ],
   "source": [
    "data_count.plot(10)"
   ]
  },
  {
   "cell_type": "markdown",
   "id": "10ee2763",
   "metadata": {},
   "source": [
    "# Description Analysis for 2019"
   ]
  },
  {
   "cell_type": "code",
   "execution_count": 223,
   "id": "1897e6a9",
   "metadata": {},
   "outputs": [],
   "source": [
    "query = 'select * from sql_table where Published_year =\"2019\"'\n",
    "articles_2019 = pd.read_sql(query, conn)"
   ]
  },
  {
   "cell_type": "code",
   "execution_count": 224,
   "id": "dd82f193",
   "metadata": {},
   "outputs": [
    {
     "data": {
      "text/html": [
       "<div>\n",
       "<style scoped>\n",
       "    .dataframe tbody tr th:only-of-type {\n",
       "        vertical-align: middle;\n",
       "    }\n",
       "\n",
       "    .dataframe tbody tr th {\n",
       "        vertical-align: top;\n",
       "    }\n",
       "\n",
       "    .dataframe thead th {\n",
       "        text-align: right;\n",
       "    }\n",
       "</style>\n",
       "<table border=\"1\" class=\"dataframe\">\n",
       "  <thead>\n",
       "    <tr style=\"text-align: right;\">\n",
       "      <th></th>\n",
       "      <th>index</th>\n",
       "      <th>Published_year</th>\n",
       "    </tr>\n",
       "  </thead>\n",
       "  <tbody>\n",
       "    <tr>\n",
       "      <th>count</th>\n",
       "      <td>59.000000</td>\n",
       "      <td>59.0</td>\n",
       "    </tr>\n",
       "    <tr>\n",
       "      <th>mean</th>\n",
       "      <td>187.135593</td>\n",
       "      <td>2019.0</td>\n",
       "    </tr>\n",
       "    <tr>\n",
       "      <th>std</th>\n",
       "      <td>19.376005</td>\n",
       "      <td>0.0</td>\n",
       "    </tr>\n",
       "    <tr>\n",
       "      <th>min</th>\n",
       "      <td>153.000000</td>\n",
       "      <td>2019.0</td>\n",
       "    </tr>\n",
       "    <tr>\n",
       "      <th>25%</th>\n",
       "      <td>171.500000</td>\n",
       "      <td>2019.0</td>\n",
       "    </tr>\n",
       "    <tr>\n",
       "      <th>50%</th>\n",
       "      <td>189.000000</td>\n",
       "      <td>2019.0</td>\n",
       "    </tr>\n",
       "    <tr>\n",
       "      <th>75%</th>\n",
       "      <td>203.500000</td>\n",
       "      <td>2019.0</td>\n",
       "    </tr>\n",
       "    <tr>\n",
       "      <th>max</th>\n",
       "      <td>218.000000</td>\n",
       "      <td>2019.0</td>\n",
       "    </tr>\n",
       "  </tbody>\n",
       "</table>\n",
       "</div>"
      ],
      "text/plain": [
       "            index  Published_year\n",
       "count   59.000000            59.0\n",
       "mean   187.135593          2019.0\n",
       "std     19.376005             0.0\n",
       "min    153.000000          2019.0\n",
       "25%    171.500000          2019.0\n",
       "50%    189.000000          2019.0\n",
       "75%    203.500000          2019.0\n",
       "max    218.000000          2019.0"
      ]
     },
     "execution_count": 224,
     "metadata": {},
     "output_type": "execute_result"
    }
   ],
   "source": [
    "articles_2019.describe()"
   ]
  },
  {
   "cell_type": "code",
   "execution_count": 226,
   "id": "4a3b9b23",
   "metadata": {},
   "outputs": [],
   "source": [
    "description_2019=[]\n",
    "description_2019 = articles_2019['Description'].values.tolist()"
   ]
  },
  {
   "cell_type": "code",
   "execution_count": 246,
   "id": "9f63b6e6",
   "metadata": {},
   "outputs": [],
   "source": [
    "description_2019_text=' '.join(description_2019)"
   ]
  },
  {
   "cell_type": "code",
   "execution_count": 249,
   "id": "28dcc33c",
   "metadata": {},
   "outputs": [
    {
     "data": {
      "text/plain": [
       "<wordcloud.wordcloud.WordCloud at 0x7fe9b9759130>"
      ]
     },
     "execution_count": 249,
     "metadata": {},
     "output_type": "execute_result"
    }
   ],
   "source": [
    "stopwords=STOPWORDS\n",
    "review_word_cloud= WordCloud(background_color='white', stopwords = stopwords, height=1000,width=1000)\n",
    "review_word_cloud.generate(description_2019_text)\n",
    "review_word_cloud.to_file('2019_article_description.png')"
   ]
  },
  {
   "cell_type": "code",
   "execution_count": 236,
   "id": "c312e67b",
   "metadata": {},
   "outputs": [
    {
     "name": "stdout",
     "output_type": "stream",
     "text": [
      "[('libraries', 23), ('academic', 16), ('announced', 9), ('launched', 9), ('research', 9), ('information', 8), ('librarians', 8), ('university', 7), ('students', 7), ('technology', 7)]\n"
     ]
    }
   ],
   "source": [
    "word_list=[]\n",
    "consolidated_description=' '.join(description_2019)\n",
    "lem=WordNetLemmatizer()\n",
    "lem_tokens=lem.lemmatize(consolidated_description.lower())\n",
    "file_tokens = word_tokenize(lem_tokens)\n",
    "for i in file_tokens:\n",
    "    if len(i)>7:\n",
    "        word_list.append(i)\n",
    "data_count = nltk.FreqDist(word_list)\n",
    "print(data_count.most_common(10))"
   ]
  },
  {
   "cell_type": "code",
   "execution_count": 237,
   "id": "ef0dd37c",
   "metadata": {},
   "outputs": [
    {
     "data": {
      "image/png": "[encoded data removed]",
      "text/plain": [
       "<Figure size 432x288 with 1 Axes>"
      ]
     },
     "metadata": {
      "needs_background": "light"
     },
     "output_type": "display_data"
    }
   ],
   "source": [
    "%matplotlib inline\n",
    "from nltk import word_tokenize, Text\n",
    "text = Text(file_tokens)\n",
    "text.dispersion_plot(['new','technology','innovation'])"
   ]
  },
  {
   "cell_type": "code",
   "execution_count": 228,
   "id": "bb5adb4e",
   "metadata": {},
   "outputs": [
    {
     "data": {
      "image/png": "[encoded data removed]",
      "text/plain": [
       "<Figure size 432x288 with 1 Axes>"
      ]
     },
     "metadata": {
      "needs_background": "light"
     },
     "output_type": "display_data"
    },
    {
     "data": {
      "text/plain": [
       "<AxesSubplot:xlabel='Samples', ylabel='Counts'>"
      ]
     },
     "execution_count": 228,
     "metadata": {},
     "output_type": "execute_result"
    }
   ],
   "source": [
    "data_count.plot(10)"
   ]
  },
  {
   "cell_type": "code",
   "execution_count": null,
   "id": "95976931",
   "metadata": {},
   "outputs": [],
   "source": []
  }
 ],
 "metadata": {
  "kernelspec": {
   "display_name": "Python 3 (ipykernel)",
   "language": "python",
   "name": "python3"
  },
  "language_info": {
   "codemirror_mode": {
    "name": "ipython",
    "version": 3
   },
   "file_extension": ".py",
   "mimetype": "text/x-python",
   "name": "python",
   "nbconvert_exporter": "python",
   "pygments_lexer": "ipython3",
   "version": "3.9.12"
  }
 },
 "nbformat": 4,
 "nbformat_minor": 5
}
